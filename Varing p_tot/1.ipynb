{
 "cells": [
  {
   "cell_type": "markdown",
   "metadata": {},
   "source": [
    "# Chaning total Pressure and analysing blood flow in each vessel"
   ]
  },
  {
   "cell_type": "code",
   "execution_count": 2,
   "metadata": {},
   "outputs": [],
   "source": [
    "import pandas as pd\n",
    "import numpy as np\n",
    "import matplotlib.pyplot as plt\n",
    "import math"
   ]
  },
  {
   "cell_type": "markdown",
   "metadata": {},
   "source": [
    "## Baseline Conditions"
   ]
  },
  {
   "cell_type": "markdown",
   "metadata": {},
   "source": [
    "#### For Attention List:\n",
    "1. Need to go through and check the units work properly. Note that the values didnt change when I removed units so seems okay\n",
    "2. Check units on flows\n",
    "3. Check units on Vt\n",
    "4. Add units to to all columns and decide upon my convention for this\n",
    "5. Check units and speak to Payne about the wall thickness calcs\n",
    "6. Is velocity redundant?"
   ]
  },
  {
   "cell_type": "markdown",
   "metadata": {},
   "source": [
    "#### Set Constants and paramaters"
   ]
  },
  {
   "cell_type": "code",
   "execution_count": 3,
   "metadata": {},
   "outputs": [],
   "source": [
    "#input params\n",
    "H = 0.42 #no units,ratio #Hematocrit assumed to be constant\n",
    "M = 30* 10e-9 #mol_ O2/(mL/s) #Taken from table 2 from Wiley Payne paper\n",
    "cHb = 0.2 #mL_O2/m #Taken from table 2 from Wiley Payne paper\n",
    "paO2_bar_t = 15 #mmHG #Taken from table 2 from Wiley Payne paper\n",
    "K = 5*10e-8\n",
    "\n",
    "##reset df\n",
    "df = None\n",
    "\n",
    "#Input data from paper\n",
    "df = pd.DataFrame({'Name': ['A1', 'A2', 'A3', 'A4', 'A5', 'A6', 'C', 'V6', 'V5', 'V4', 'V3', 'V2', 'V1'], \n",
    "                   'Number': [1, 2, 4, 8, 16, 32, 64, 32, 16, 8, 4, 2, 1],\n",
    "                   'Diameter(µm)': [23.97, 19.17, 15.28, 12.08, 9.46, 7.32, 8, 11.51, 14.53, 17.79, 21.45, 25.70, 30.77],\n",
    "                   'Length(µm)': [1267.6, 930.3, 543.6, 302.3, 161.2, 154.7, 243.9, 473.9, 272.3, 426.6, 632.5, 844.2, 936.3],\n",
    "                   'Viscocity(mPAs)': [1.59, 1.50, 1.42, 1.34, 1.28, 1.23, 1.24, 1.33, 1.40, 1.48, 1.55, 1.62, 1.7],\n",
    "                   'Pressure Drop(mmHg)': [6.93, 5.87, 4.02, 2.70, 1.82, 2.35, 2.62, 1.27, 0.61, 0.89, 1.31, 1.78, 2.01],\n",
    "                   'Saturation': [0.94, 0.93, 0.92, 0.89, 0.84, 0.765, 0.665, 0.61, 0.5975, 0.5875, 0.5825, 0.5775, 0.5725]\n",
    "                  })\n"
   ]
  },
  {
   "cell_type": "markdown",
   "metadata": {},
   "source": [
    "#### Calculate Flows and Vt"
   ]
  },
  {
   "cell_type": "code",
   "execution_count": 4,
   "metadata": {},
   "outputs": [],
   "source": [
    "#Calculate resistances of each vessel\n",
    "df['Resistance for U'] = 32 * df['Viscocity(mPAs)'] * df['Length(µm)'].div(df['Diameter(µm)']**2)\n",
    "df['Resistance for Q'] = 128 * df['Viscocity(mPAs)'] * df['Length(µm)'].div(math.pi*(df['Diameter(µm)']**4))\n",
    "\n",
    "#Alter resistances for C\n",
    "#These are aross each pressure drop (explains the doubled resistance for the capillaries as in paralell so have half the flow each (flow is shared))\n",
    "df.loc[df.index[df['Name'] == 'C'][0],'Resistance for U'] = df.loc[df.index[df['Name'] == 'C'][0],'Resistance for U']*2\n",
    "df.loc[df.index[df['Name'] == 'C'][0],'Resistance for Q'] = df.loc[df.index[df['Name'] == 'C'][0],'Resistance for Q']*2\n",
    "\n",
    "#Calculate flow and velocity in a single vessel\n",
    "df['U in single(m/s????)'] = df['Pressure Drop(mmHg)'].div(df['Resistance for U'])\n",
    "df['Q in single(m^3/s????)'] = df['Pressure Drop(mmHg)'].div(df['Resistance for Q'])\n",
    "\n",
    "#Calculate Vt\n",
    "df['Vt'] = df['Q in single(m^3/s????)']*cHb*H*df['Saturation']/M"
   ]
  },
  {
   "cell_type": "markdown",
   "metadata": {},
   "source": [
    "#### Calculate partial pressure in blood\n",
    "S and partial O2 relationship given by servinghaus 1979  \n",
    "Checked partial pressure against typical values online and it seems bang on."
   ]
  },
  {
   "cell_type": "code",
   "execution_count": 5,
   "metadata": {},
   "outputs": [],
   "source": [
    "def check_imag_roots_real(all_roots):\n",
    "    counter = 0\n",
    "    sols = 0\n",
    "    for i in range(len(all_roots)):\n",
    "        if all_roots[i].imag <= 10e-13 and all_roots[i].imag >= -10e-13:\n",
    "            sols = all_roots[i].real\n",
    "            counter += 1\n",
    "    if counter != 1:\n",
    "        print('Something seems wrong with the partial presure to Saturation cubic solver as not one solution is returned.')\n",
    "    return sols\n",
    " \n",
    "for i in range(len(df['Saturation'])):\n",
    "    root_temp = None\n",
    "    sols = 0\n",
    "    root_temp = np.roots([1,0,150,23400*df.loc[i,'Saturation']/(df.loc[i,'Saturation']-1)]) #gives mmHg , *133.322\n",
    "    sols = check_imag_roots_real(root_temp) \n",
    "    #sols = sols*133.322 ###Remove this step if want in mmHg\n",
    "    df.loc[i,'partial pressure blood(mmHg)'] = sols"
   ]
  },
  {
   "cell_type": "markdown",
   "metadata": {},
   "source": [
    "#### Calculate wall thickness\n",
    "Will take my vessel average partial pressure to be the 0.5(pin + pout)  \n",
    "All units were in mm so i played around with this equation from the paper  \n",
    "Equations are taken from Payne paper"
   ]
  },
  {
   "cell_type": "code",
   "execution_count": 6,
   "metadata": {},
   "outputs": [],
   "source": [
    "#all units were in mm so i played around with this equation from the paper\n",
    "df['X-Area wall(mm^2?)'] = np.pi * ( 0.16*(df['Diameter(µm)'])**2 + 1.4*(df['Diameter(µm)']) + 14 )\n",
    "df['wall thickness(µm)'] = ( -(df['Diameter(µm)']) + np.sqrt((df['Diameter(µm)'])**2 + (4*(df['X-Area wall(mm^2?)'])/np.pi)) ) / 2"
   ]
  },
  {
   "cell_type": "markdown",
   "metadata": {},
   "source": [
    "#### Calculate partial pressure in tissue\n",
    "Equations can be found on the week 1 or 2 notes from class. From steady state version of something on the paper"
   ]
  },
  {
   "cell_type": "code",
   "execution_count": 7,
   "metadata": {},
   "outputs": [],
   "source": [
    "df['tissue partials(mmHg)'] = df['partial pressure blood(mmHg)'] - M * df['Vt'] * df['wall thickness(µm)'] / (2 * np.pi * K * (df['Diameter(µm)']/2) * df['Length(µm)'])"
   ]
  },
  {
   "cell_type": "markdown",
   "metadata": {},
   "source": [
    "#### Pull out the baseline conditions"
   ]
  },
  {
   "cell_type": "code",
   "execution_count": 8,
   "metadata": {},
   "outputs": [],
   "source": [
    "df_base = df"
   ]
  },
  {
   "cell_type": "markdown",
   "metadata": {},
   "source": [
    "## Altering p_tot\n",
    "\n",
    "Above is the normal model. Now i will take whatever parts are useful and run again for my new pressure drops."
   ]
  },
  {
   "cell_type": "markdown",
   "metadata": {},
   "source": [
    "#### For Attention List:\n",
    "1. Can i imporve the resistance calculating bit?\n",
    "2. "
   ]
  },
  {
   "cell_type": "markdown",
   "metadata": {},
   "source": [
    "#### Find Resistance of baseline model"
   ]
  },
  {
   "cell_type": "code",
   "execution_count": 9,
   "metadata": {},
   "outputs": [],
   "source": [
    "df_base_useful = df_base[['Name',\n",
    "        'Resistance for Q',  'Vt']]"
   ]
  },
  {
   "cell_type": "code",
   "execution_count": 10,
   "metadata": {},
   "outputs": [
    {
     "name": "stdout",
     "output_type": "stream",
     "text": [
      "27.848258609370426\n"
     ]
    }
   ],
   "source": [
    "#Find Total Resistance. C refers to capilaary and each numer refers to an added level or resistance.\n",
    "C = df_base_useful.loc[6,'Resistance for Q']/2\n",
    "C_6 = (C + df_base_useful.loc[5,'Resistance for Q'] + df_base_useful.loc[7,'Resistance for Q'])/2\n",
    "C_65 = (C_6 + df_base_useful.loc[4,'Resistance for Q'] + df_base_useful.loc[8,'Resistance for Q'])/2\n",
    "C_654 = (C_65 + df_base_useful.loc[3,'Resistance for Q'] + df_base_useful.loc[9,'Resistance for Q'])/2\n",
    "C_6543 = (C_654 + df_base_useful.loc[2,'Resistance for Q'] + df_base_useful.loc[10,'Resistance for Q'])/2\n",
    "C_65432 = (C_6543 + df_base_useful.loc[1,'Resistance for Q'] + df_base_useful.loc[11,'Resistance for Q'])/2\n",
    "C_654321 = C_65432 + df_base_useful.loc[0,'Resistance for Q'] + df_base_useful.loc[12,'Resistance for Q']\n",
    "R_total = C_654321\n",
    "\n",
    "#Proves for the baseline conditions that it gives the right total flow from my resitance calcs.\n",
    "#34.18 is pressure drop\n",
    "Q_total = 34.18 / C_654321\n",
    "print(Q_total)"
   ]
  },
  {
   "cell_type": "markdown",
   "metadata": {},
   "source": [
    "#### Calculates Total flow for each pressure drop."
   ]
  },
  {
   "cell_type": "code",
   "execution_count": 11,
   "metadata": {},
   "outputs": [
    {
     "data": {
      "text/html": [
       "<div>\n",
       "<style scoped>\n",
       "    .dataframe tbody tr th:only-of-type {\n",
       "        vertical-align: middle;\n",
       "    }\n",
       "\n",
       "    .dataframe tbody tr th {\n",
       "        vertical-align: top;\n",
       "    }\n",
       "\n",
       "    .dataframe thead th {\n",
       "        text-align: right;\n",
       "    }\n",
       "</style>\n",
       "<table border=\"1\" class=\"dataframe\">\n",
       "  <thead>\n",
       "    <tr style=\"text-align: right;\">\n",
       "      <th></th>\n",
       "      <th>Flow</th>\n",
       "      <th>dS</th>\n",
       "    </tr>\n",
       "  </thead>\n",
       "  <tbody>\n",
       "    <tr>\n",
       "      <td>0</td>\n",
       "      <td>0.217565</td>\n",
       "      <td>1.330979</td>\n",
       "    </tr>\n",
       "    <tr>\n",
       "      <td>1</td>\n",
       "      <td>0.221960</td>\n",
       "      <td>1.304623</td>\n",
       "    </tr>\n",
       "    <tr>\n",
       "      <td>2</td>\n",
       "      <td>0.226355</td>\n",
       "      <td>1.279291</td>\n",
       "    </tr>\n",
       "    <tr>\n",
       "      <td>3</td>\n",
       "      <td>0.230750</td>\n",
       "      <td>1.254923</td>\n",
       "    </tr>\n",
       "    <tr>\n",
       "      <td>4</td>\n",
       "      <td>0.235145</td>\n",
       "      <td>1.231467</td>\n",
       "    </tr>\n",
       "    <tr>\n",
       "      <td>...</td>\n",
       "      <td>...</td>\n",
       "      <td>...</td>\n",
       "    </tr>\n",
       "    <tr>\n",
       "      <td>95</td>\n",
       "      <td>0.635113</td>\n",
       "      <td>0.455941</td>\n",
       "    </tr>\n",
       "    <tr>\n",
       "      <td>96</td>\n",
       "      <td>0.639508</td>\n",
       "      <td>0.452807</td>\n",
       "    </tr>\n",
       "    <tr>\n",
       "      <td>97</td>\n",
       "      <td>0.643903</td>\n",
       "      <td>0.449716</td>\n",
       "    </tr>\n",
       "    <tr>\n",
       "      <td>98</td>\n",
       "      <td>0.648298</td>\n",
       "      <td>0.446668</td>\n",
       "    </tr>\n",
       "    <tr>\n",
       "      <td>99</td>\n",
       "      <td>0.652694</td>\n",
       "      <td>0.443660</td>\n",
       "    </tr>\n",
       "  </tbody>\n",
       "</table>\n",
       "<p>100 rows × 2 columns</p>\n",
       "</div>"
      ],
      "text/plain": [
       "        Flow        dS\n",
       "0   0.217565  1.330979\n",
       "1   0.221960  1.304623\n",
       "2   0.226355  1.279291\n",
       "3   0.230750  1.254923\n",
       "4   0.235145  1.231467\n",
       "..       ...       ...\n",
       "95  0.635113  0.455941\n",
       "96  0.639508  0.452807\n",
       "97  0.643903  0.449716\n",
       "98  0.648298  0.446668\n",
       "99  0.652694  0.443660\n",
       "\n",
       "[100 rows x 2 columns]"
      ]
     },
     "execution_count": 11,
     "metadata": {},
     "output_type": "execute_result"
    }
   ],
   "source": [
    "pressure_out = 60 - 34.18 # a constant in my model\n",
    "\n",
    "no_steps = 100\n",
    "\n",
    "#we vary by plus and minus 50%\n",
    "main = pd.DataFrame({'Pressure in(mmHg)': np.linspace((60-34.18/2),(60+34.18/2), num=no_steps), 'Pressure out(mmHg)': np.zeros(no_steps) + pressure_out})\n",
    "main['pressure drop (mmHg)'] = main['Pressure in(mmHg)'] - main['Pressure out(mmHg)']\n",
    "main['Total Flow'] = main['pressure drop (mmHg)']/R_total\n",
    "\n",
    "def add_vessel_flow():\n",
    "    C = pd.DataFrame({'Flow': main['Total Flow'] / df.loc[6,'Number']})\n",
    "    \n",
    "    return vessel\n",
    "\n",
    "#Do for C first\n",
    "C = pd.DataFrame({'Flow': main['Total Flow'] / df.loc[6,'Number']})\n",
    "C['dS'] = df.loc[6,'Vt'] * M / (cHb * H * C['Flow'])\n",
    "\n",
    "C"
   ]
  },
  {
   "cell_type": "code",
   "execution_count": 12,
   "metadata": {},
   "outputs": [
    {
     "data": {
      "text/html": [
       "<div>\n",
       "<style scoped>\n",
       "    .dataframe tbody tr th:only-of-type {\n",
       "        vertical-align: middle;\n",
       "    }\n",
       "\n",
       "    .dataframe tbody tr th {\n",
       "        vertical-align: top;\n",
       "    }\n",
       "\n",
       "    .dataframe thead th {\n",
       "        text-align: right;\n",
       "    }\n",
       "</style>\n",
       "<table border=\"1\" class=\"dataframe\">\n",
       "  <thead>\n",
       "    <tr style=\"text-align: right;\">\n",
       "      <th></th>\n",
       "      <th>Pressure in(mmHg)</th>\n",
       "      <th>Pressure out(mmHg)</th>\n",
       "      <th>pressure drop (mmHg)</th>\n",
       "      <th>Total Flow</th>\n",
       "    </tr>\n",
       "  </thead>\n",
       "  <tbody>\n",
       "    <tr>\n",
       "      <td>0</td>\n",
       "      <td>42.910000</td>\n",
       "      <td>25.82</td>\n",
       "      <td>17.090000</td>\n",
       "      <td>13.924129</td>\n",
       "    </tr>\n",
       "    <tr>\n",
       "      <td>1</td>\n",
       "      <td>43.255253</td>\n",
       "      <td>25.82</td>\n",
       "      <td>17.435253</td>\n",
       "      <td>14.205425</td>\n",
       "    </tr>\n",
       "    <tr>\n",
       "      <td>2</td>\n",
       "      <td>43.600505</td>\n",
       "      <td>25.82</td>\n",
       "      <td>17.780505</td>\n",
       "      <td>14.486720</td>\n",
       "    </tr>\n",
       "    <tr>\n",
       "      <td>3</td>\n",
       "      <td>43.945758</td>\n",
       "      <td>25.82</td>\n",
       "      <td>18.125758</td>\n",
       "      <td>14.768016</td>\n",
       "    </tr>\n",
       "    <tr>\n",
       "      <td>4</td>\n",
       "      <td>44.291010</td>\n",
       "      <td>25.82</td>\n",
       "      <td>18.471010</td>\n",
       "      <td>15.049311</td>\n",
       "    </tr>\n",
       "  </tbody>\n",
       "</table>\n",
       "</div>"
      ],
      "text/plain": [
       "   Pressure in(mmHg)  Pressure out(mmHg)  pressure drop (mmHg)  Total Flow\n",
       "0          42.910000               25.82             17.090000   13.924129\n",
       "1          43.255253               25.82             17.435253   14.205425\n",
       "2          43.600505               25.82             17.780505   14.486720\n",
       "3          43.945758               25.82             18.125758   14.768016\n",
       "4          44.291010               25.82             18.471010   15.049311"
      ]
     },
     "execution_count": 12,
     "metadata": {},
     "output_type": "execute_result"
    }
   ],
   "source": [
    "main.head(5)"
   ]
  },
  {
   "cell_type": "code",
   "execution_count": 13,
   "metadata": {},
   "outputs": [],
   "source": [
    "multiple_dataframes = pd.DataFrame([main,C])"
   ]
  },
  {
   "cell_type": "code",
   "execution_count": 14,
   "metadata": {},
   "outputs": [
    {
     "data": {
      "text/html": [
       "<div>\n",
       "<style scoped>\n",
       "    .dataframe tbody tr th:only-of-type {\n",
       "        vertical-align: middle;\n",
       "    }\n",
       "\n",
       "    .dataframe tbody tr th {\n",
       "        vertical-align: top;\n",
       "    }\n",
       "\n",
       "    .dataframe thead th {\n",
       "        text-align: right;\n",
       "    }\n",
       "</style>\n",
       "<table border=\"1\" class=\"dataframe\">\n",
       "  <thead>\n",
       "    <tr style=\"text-align: right;\">\n",
       "      <th></th>\n",
       "      <th>Pressure in(mmHg)</th>\n",
       "      <th>Pressure out(mmHg)</th>\n",
       "      <th>pressure drop (mmHg)</th>\n",
       "      <th>Total Flow</th>\n",
       "    </tr>\n",
       "  </thead>\n",
       "  <tbody>\n",
       "    <tr>\n",
       "      <td>0</td>\n",
       "      <td>42.910000</td>\n",
       "      <td>25.82</td>\n",
       "      <td>17.090000</td>\n",
       "      <td>13.924129</td>\n",
       "    </tr>\n",
       "    <tr>\n",
       "      <td>1</td>\n",
       "      <td>43.255253</td>\n",
       "      <td>25.82</td>\n",
       "      <td>17.435253</td>\n",
       "      <td>14.205425</td>\n",
       "    </tr>\n",
       "    <tr>\n",
       "      <td>2</td>\n",
       "      <td>43.600505</td>\n",
       "      <td>25.82</td>\n",
       "      <td>17.780505</td>\n",
       "      <td>14.486720</td>\n",
       "    </tr>\n",
       "    <tr>\n",
       "      <td>3</td>\n",
       "      <td>43.945758</td>\n",
       "      <td>25.82</td>\n",
       "      <td>18.125758</td>\n",
       "      <td>14.768016</td>\n",
       "    </tr>\n",
       "    <tr>\n",
       "      <td>4</td>\n",
       "      <td>44.291010</td>\n",
       "      <td>25.82</td>\n",
       "      <td>18.471010</td>\n",
       "      <td>15.049311</td>\n",
       "    </tr>\n",
       "    <tr>\n",
       "      <td>...</td>\n",
       "      <td>...</td>\n",
       "      <td>...</td>\n",
       "      <td>...</td>\n",
       "      <td>...</td>\n",
       "    </tr>\n",
       "    <tr>\n",
       "      <td>95</td>\n",
       "      <td>75.708990</td>\n",
       "      <td>25.82</td>\n",
       "      <td>49.888990</td>\n",
       "      <td>40.647206</td>\n",
       "    </tr>\n",
       "    <tr>\n",
       "      <td>96</td>\n",
       "      <td>76.054242</td>\n",
       "      <td>25.82</td>\n",
       "      <td>50.234242</td>\n",
       "      <td>40.928501</td>\n",
       "    </tr>\n",
       "    <tr>\n",
       "      <td>97</td>\n",
       "      <td>76.399495</td>\n",
       "      <td>25.82</td>\n",
       "      <td>50.579495</td>\n",
       "      <td>41.209797</td>\n",
       "    </tr>\n",
       "    <tr>\n",
       "      <td>98</td>\n",
       "      <td>76.744747</td>\n",
       "      <td>25.82</td>\n",
       "      <td>50.924747</td>\n",
       "      <td>41.491092</td>\n",
       "    </tr>\n",
       "    <tr>\n",
       "      <td>99</td>\n",
       "      <td>77.090000</td>\n",
       "      <td>25.82</td>\n",
       "      <td>51.270000</td>\n",
       "      <td>41.772388</td>\n",
       "    </tr>\n",
       "  </tbody>\n",
       "</table>\n",
       "<p>100 rows × 4 columns</p>\n",
       "</div>"
      ],
      "text/plain": [
       "    Pressure in(mmHg)  Pressure out(mmHg)  pressure drop (mmHg)  Total Flow\n",
       "0           42.910000               25.82             17.090000   13.924129\n",
       "1           43.255253               25.82             17.435253   14.205425\n",
       "2           43.600505               25.82             17.780505   14.486720\n",
       "3           43.945758               25.82             18.125758   14.768016\n",
       "4           44.291010               25.82             18.471010   15.049311\n",
       "..                ...                 ...                   ...         ...\n",
       "95          75.708990               25.82             49.888990   40.647206\n",
       "96          76.054242               25.82             50.234242   40.928501\n",
       "97          76.399495               25.82             50.579495   41.209797\n",
       "98          76.744747               25.82             50.924747   41.491092\n",
       "99          77.090000               25.82             51.270000   41.772388\n",
       "\n",
       "[100 rows x 4 columns]"
      ]
     },
     "execution_count": 14,
     "metadata": {},
     "output_type": "execute_result"
    }
   ],
   "source": [
    "multiple_dataframes.iloc[0,0]"
   ]
  },
  {
   "cell_type": "code",
   "execution_count": null,
   "metadata": {},
   "outputs": [],
   "source": []
  }
 ],
 "metadata": {
  "kernelspec": {
   "display_name": "Python 3",
   "language": "python",
   "name": "python3"
  },
  "language_info": {
   "codemirror_mode": {
    "name": "ipython",
    "version": 3
   },
   "file_extension": ".py",
   "mimetype": "text/x-python",
   "name": "python",
   "nbconvert_exporter": "python",
   "pygments_lexer": "ipython3",
   "version": "3.7.4"
  }
 },
 "nbformat": 4,
 "nbformat_minor": 4
}
