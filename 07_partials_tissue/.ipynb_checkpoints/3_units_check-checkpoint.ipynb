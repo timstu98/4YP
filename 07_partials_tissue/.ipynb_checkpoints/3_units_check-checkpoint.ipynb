{
 "cells": [
  {
   "cell_type": "code",
   "execution_count": 36,
   "metadata": {},
   "outputs": [],
   "source": [
    "import pandas as pd\n",
    "import numpy as np\n",
    "import matplotlib.pyplot as plt\n",
    "import math\n",
    "\n",
    "windows = False # If on mac put false, windows true"
   ]
  },
  {
   "cell_type": "markdown",
   "metadata": {},
   "source": [
    "Can i write something which checks if it is stable? Say check the difference between the final two values say?  \n",
    "have a feeling there will be an error some where. maybe the way i calculate the resistance shouldnt be for all. think about the C line.  \n",
    "have worked out that it has to be under 3 delay with any alpha value."
   ]
  },
  {
   "cell_type": "markdown",
   "metadata": {},
   "source": [
    "#### data input"
   ]
  },
  {
   "cell_type": "code",
   "execution_count": 37,
   "metadata": {},
   "outputs": [],
   "source": [
    "if windows == True:\n",
    "    baselines = pd.read_csv(r\"C:\\Users\\timst\\Onedrive - Nexus365\\4YP\\python\\_storage\\baselines.csv\", index_col=0) # FOR WINDOWS\n",
    "else:\n",
    "    baselines = pd.read_csv(r\"/Users/Debs/OneDrive - Nexus365/4YP/python/_storage/baselines.csv\", index_col=0) # FOR MAC"
   ]
  },
  {
   "cell_type": "markdown",
   "metadata": {},
   "source": [
    "#### paramaters"
   ]
  },
  {
   "cell_type": "code",
   "execution_count": 38,
   "metadata": {},
   "outputs": [],
   "source": [
    "#reset dfs\n",
    "\n",
    "#outside params, _o stands for original\n",
    "H = 0.42 #no units,ratio #Hematocrit assumed to be constant\n",
    "# M_o = 30* 10e-9 #mol_ O2/(mL/s) #Taken from table 2 from Wiley Payne paper\n",
    "cHb = 0.2 #mL_O2/mL #Taken from table 2 from Wiley Payne paper\n",
    "paO2_bar_t = 15 #mmHG #Taken from table 2 from Wiley Payne paper\n",
    "K_o = 5e-8 #µL/(mm*s*mmHg) #payne paper and boas et al\n",
    "alpha_t = 2.6e-5 #mL_O2/(mL*mmHg) from payne paper, solutbility coeff of oxygen in brain tissue\n",
    "\n",
    "#convert param to my SU\n",
    "M = 8.20e-4 # cm3_O2/(cm3*s) , still unsure about the exact conversion so will just input in this section\n",
    "K = K_o * (1e6) # µm2/(s*mmHg)\n",
    "\n",
    "#model input params\n",
    "delay_pressure_drop = 15\n",
    "optimised_value_tau = 2.292929292929293\n",
    "phi_min_baseline = 0.153\n",
    "n=1\n",
    "ratio_drop = 0.5\n",
    "\n",
    "#loop info\n",
    "no = 1001\n",
    "max_time = 80"
   ]
  },
  {
   "cell_type": "markdown",
   "metadata": {},
   "source": [
    "#### work out vectors"
   ]
  },
  {
   "cell_type": "code",
   "execution_count": 39,
   "metadata": {},
   "outputs": [
    {
     "name": "stdout",
     "output_type": "stream",
     "text": [
      "Time of simulation : 80 seconds\n",
      "Time step : 0.08 seconds\n",
      "Number of iterations: 1001\n"
     ]
    }
   ],
   "source": [
    "t = pd.Series(np.linspace(0,max_time,no))\n",
    "dt = max_time/(no-1)\n",
    "\n",
    "#### PRessure stuff\n",
    "pressure_in = pd.Series(np.zeros(len(t)))\n",
    "for i in range(len(t)):\n",
    "    if t[i] <= delay_pressure_drop:\n",
    "        pressure_in[i] = 60\n",
    "    else:\n",
    "        pressure_in[i] = 60 - 34.18*ratio_drop\n",
    "pressure_out = pd.Series(np.zeros(len(t))) + 60 - 34.18\n",
    "pressure_difference = pressure_in - pressure_out\n",
    "\n",
    "print('Time of simulation :',max_time,'seconds')\n",
    "print('Time step :',dt,'seconds')\n",
    "print('Number of iterations:',no)"
   ]
  },
  {
   "cell_type": "markdown",
   "metadata": {},
   "source": [
    "## Model"
   ]
  },
  {
   "cell_type": "markdown",
   "metadata": {},
   "source": [
    "#### Functions"
   ]
  },
  {
   "cell_type": "code",
   "execution_count": 40,
   "metadata": {},
   "outputs": [],
   "source": [
    "def total_R(baselines,phi,alpha):\n",
    "    C_ = alpha*(baselines.loc[6,'Resistance for Q']/2)/phi**4  + (1-alpha)*(baselines.loc[6,'Resistance for Q']/2)\n",
    "    C_6 = (C_ + baselines.loc[5,'Resistance for Q'] + baselines.loc[7,'Resistance for Q'])/2\n",
    "    C_65 = (C_6 + baselines.loc[4,'Resistance for Q'] + baselines.loc[8,'Resistance for Q'])/2\n",
    "    C_654 = (C_65 + baselines.loc[3,'Resistance for Q'] + baselines.loc[9,'Resistance for Q'])/2\n",
    "    C_6543 = (C_654 + baselines.loc[2,'Resistance for Q'] + baselines.loc[10,'Resistance for Q'])/2\n",
    "    C_65432 = (C_6543 + baselines.loc[1,'Resistance for Q'] + baselines.loc[11,'Resistance for Q'])/2\n",
    "    C_654321 = C_65432 + baselines.loc[0,'Resistance for Q'] + baselines.loc[12,'Resistance for Q']\n",
    "    R_total = C_654321\n",
    "    return R_total\n",
    " \n",
    "def euler(alpha,delay,baselines):\n",
    "    delay_number = round(delay/dt)\n",
    "    \n",
    "    R_tot = pd.Series(np.zeros(len(t)))\n",
    "    Q_tot = pd.Series(np.zeros(len(t)))\n",
    "    Q_norm = pd.Series(np.ones(len(t)))\n",
    "    \n",
    "    phi = pd.Series(np.ones(no))\n",
    "    phi_min = pd.Series(np.ones(no))\n",
    "    dphidt = pd.Series(np.zeros(no))\n",
    "    \n",
    "    for i in range(len(t)):\n",
    "        if i >=delay_number: \n",
    "            R_tot[i] = total_R(baselines,phi[i],alpha)\n",
    "            Q_tot[i] = pressure_difference[i]/R_tot[i]\n",
    "            Q_norm[i] = Q_tot[i] / baselines['Q in single(µm3/s)'][0]\n",
    "            dphidt[i] =  (1/optimised_value_tau)*( -phi[i-delay_number] + Q_norm[i]*(1-phi_min[i]) + phi_min[i] )\n",
    "            phi[i+1] = dphidt[i]*dt + phi[i]\n",
    "            phi_min[i+1] = 1-alpha*(1-phi_min_baseline)*(1-Q_norm[i])**n\n",
    "        else:\n",
    "            ###############################################################################\n",
    "            #URGENTLY NEED TO FIX THIS BIT UP PROPERLY#\n",
    "            ###############################################################################\n",
    "            Q_tot[i] = 3.713608e+06\n",
    "            \n",
    "    combined = pd.DataFrame()\n",
    "    combined['t'] = t\n",
    "    combined['pressure_difference'] = pressure_difference\n",
    "    combined['phi'] = phi\n",
    "    combined['phi_min'] = phi_min\n",
    "    combined['dphidt'] = dphidt\n",
    "    combined['R_tot'] = R_tot\n",
    "    combined['Q_tot'] = Q_tot\n",
    "    combined['Q_norm'] = Q_norm\n",
    "            \n",
    "    return combined"
   ]
  },
  {
   "cell_type": "markdown",
   "metadata": {},
   "source": [
    "#### Clean up baselines"
   ]
  },
  {
   "cell_type": "markdown",
   "metadata": {},
   "source": [
    "#### the loop"
   ]
  },
  {
   "cell_type": "code",
   "execution_count": 41,
   "metadata": {},
   "outputs": [],
   "source": [
    "# response = {}\n",
    "\n",
    "# alpha = np.linspace(0,1,num=10)\n",
    "# delay = np.linspace(2.99,3, num=10)\n",
    "\n",
    "# for i in range(len(alpha)):\n",
    "#     for j in range(len(delay)):\n",
    "        #first is alpha second is delay\n",
    "#             response[i,j] = euler(alpha[i],delay[j])\n",
    "\n",
    "alpha = 0.5\n",
    "delay = 2.99\n",
    "out = euler(alpha,delay,baselines)"
   ]
  },
  {
   "cell_type": "markdown",
   "metadata": {},
   "source": [
    "#### Vessel details\n",
    "In order to find the partials in tissue, we need to find the vessel details at each time step. As before we were just considering it as a whole to find some parameters for our capillaries.  \n",
    "another idea i have had is that you could just take the end values, but this doesnt seem as full proof a method tbh. will be able to get some good plots from this.\n",
    "/n\n",
    "whats going on with viscocity?\n",
    "/n\n",
    "need to update the resistances, pressure drop, resiatnces for Q, IN ORDER TO CHANGE partial pressure blood therefore partial pressure tissues  \n",
    "saturations maybe, \n",
    "\n",
    "basically need to speak to payne to find out what stuff stays constant and what changes.\n",
    "\n",
    "\n",
    "the reason why my resistances seem to be twice as big. as in the equation i am finding it for both capillaries. however in the table i save it for a single one. why its double"
   ]
  },
  {
   "cell_type": "code",
   "execution_count": 42,
   "metadata": {},
   "outputs": [],
   "source": [
    "def check_imag_roots_real(all_roots):\n",
    "    counter = 0\n",
    "    sols = 0\n",
    "    for i in range(len(all_roots)):\n",
    "        if all_roots[i].imag <= 10e-13 and all_roots[i].imag >= -10e-13:\n",
    "            sols = all_roots[i].real\n",
    "            counter += 1\n",
    "    if counter != 1:\n",
    "        print('Something seems wrong with the partial presure to Saturation cubic solver as not one solution is returned.')\n",
    "    return sols"
   ]
  },
  {
   "cell_type": "code",
   "execution_count": 49,
   "metadata": {},
   "outputs": [
    {
     "name": "stderr",
     "output_type": "stream",
     "text": [
      "/Users/Debs/opt/anaconda3/lib/python3.7/site-packages/ipykernel_launcher.py:57: RuntimeWarning: overflow encountered in double_scalars\n",
      "/Users/Debs/opt/anaconda3/lib/python3.7/site-packages/ipykernel_launcher.py:30: RuntimeWarning: invalid value encountered in double_scalars\n"
     ]
    },
    {
     "ename": "LinAlgError",
     "evalue": "Array must not contain infs or NaNs",
     "output_type": "error",
     "traceback": [
      "\u001b[0;31m---------------------------------------------------------------------------\u001b[0m",
      "\u001b[0;31mLinAlgError\u001b[0m                               Traceback (most recent call last)",
      "\u001b[0;32m<ipython-input-49-f87889614d5b>\u001b[0m in \u001b[0;36m<module>\u001b[0;34m\u001b[0m\n\u001b[1;32m     28\u001b[0m         \u001b[0mroot_temp\u001b[0m \u001b[0;34m=\u001b[0m \u001b[0;32mNone\u001b[0m\u001b[0;34m\u001b[0m\u001b[0;34m\u001b[0m\u001b[0m\n\u001b[1;32m     29\u001b[0m         \u001b[0msols\u001b[0m \u001b[0;34m=\u001b[0m \u001b[0;36m0\u001b[0m\u001b[0;34m\u001b[0m\u001b[0;34m\u001b[0m\u001b[0m\n\u001b[0;32m---> 30\u001b[0;31m         \u001b[0mroot_temp\u001b[0m \u001b[0;34m=\u001b[0m \u001b[0mnp\u001b[0m\u001b[0;34m.\u001b[0m\u001b[0mroots\u001b[0m\u001b[0;34m(\u001b[0m\u001b[0;34m[\u001b[0m\u001b[0;36m1\u001b[0m\u001b[0;34m,\u001b[0m\u001b[0;36m0\u001b[0m\u001b[0;34m,\u001b[0m\u001b[0;36m150\u001b[0m\u001b[0;34m,\u001b[0m\u001b[0;36m23400\u001b[0m\u001b[0;34m*\u001b[0m\u001b[0mstep\u001b[0m\u001b[0;34m.\u001b[0m\u001b[0mloc\u001b[0m\u001b[0;34m[\u001b[0m\u001b[0mj\u001b[0m\u001b[0;34m,\u001b[0m\u001b[0;34m'Saturation ave'\u001b[0m\u001b[0;34m]\u001b[0m\u001b[0;34m/\u001b[0m\u001b[0;34m(\u001b[0m\u001b[0mstep\u001b[0m\u001b[0;34m.\u001b[0m\u001b[0mloc\u001b[0m\u001b[0;34m[\u001b[0m\u001b[0mj\u001b[0m\u001b[0;34m,\u001b[0m\u001b[0;34m'Saturation ave'\u001b[0m\u001b[0;34m]\u001b[0m\u001b[0;34m-\u001b[0m\u001b[0;36m1\u001b[0m\u001b[0;34m)\u001b[0m\u001b[0;34m]\u001b[0m\u001b[0;34m)\u001b[0m \u001b[0;31m#gives mmHg , *133.322\u001b[0m\u001b[0;34m\u001b[0m\u001b[0;34m\u001b[0m\u001b[0m\n\u001b[0m\u001b[1;32m     31\u001b[0m         \u001b[0msols\u001b[0m \u001b[0;34m=\u001b[0m \u001b[0mcheck_imag_roots_real\u001b[0m\u001b[0;34m(\u001b[0m\u001b[0mroot_temp\u001b[0m\u001b[0;34m)\u001b[0m\u001b[0;34m\u001b[0m\u001b[0;34m\u001b[0m\u001b[0m\n\u001b[1;32m     32\u001b[0m         \u001b[0;31m#sols = sols*133.322 ###Remove this step if want in mmHg\u001b[0m\u001b[0;34m\u001b[0m\u001b[0;34m\u001b[0m\u001b[0;34m\u001b[0m\u001b[0m\n",
      "\u001b[0;32m<__array_function__ internals>\u001b[0m in \u001b[0;36mroots\u001b[0;34m(*args, **kwargs)\u001b[0m\n",
      "\u001b[0;32m~/opt/anaconda3/lib/python3.7/site-packages/numpy/lib/polynomial.py\u001b[0m in \u001b[0;36mroots\u001b[0;34m(p)\u001b[0m\n\u001b[1;32m    243\u001b[0m         \u001b[0mA\u001b[0m \u001b[0;34m=\u001b[0m \u001b[0mdiag\u001b[0m\u001b[0;34m(\u001b[0m\u001b[0mNX\u001b[0m\u001b[0;34m.\u001b[0m\u001b[0mones\u001b[0m\u001b[0;34m(\u001b[0m\u001b[0;34m(\u001b[0m\u001b[0mN\u001b[0m\u001b[0;34m-\u001b[0m\u001b[0;36m2\u001b[0m\u001b[0;34m,\u001b[0m\u001b[0;34m)\u001b[0m\u001b[0;34m,\u001b[0m \u001b[0mp\u001b[0m\u001b[0;34m.\u001b[0m\u001b[0mdtype\u001b[0m\u001b[0;34m)\u001b[0m\u001b[0;34m,\u001b[0m \u001b[0;34m-\u001b[0m\u001b[0;36m1\u001b[0m\u001b[0;34m)\u001b[0m\u001b[0;34m\u001b[0m\u001b[0;34m\u001b[0m\u001b[0m\n\u001b[1;32m    244\u001b[0m         \u001b[0mA\u001b[0m\u001b[0;34m[\u001b[0m\u001b[0;36m0\u001b[0m\u001b[0;34m,\u001b[0m\u001b[0;34m:\u001b[0m\u001b[0;34m]\u001b[0m \u001b[0;34m=\u001b[0m \u001b[0;34m-\u001b[0m\u001b[0mp\u001b[0m\u001b[0;34m[\u001b[0m\u001b[0;36m1\u001b[0m\u001b[0;34m:\u001b[0m\u001b[0;34m]\u001b[0m \u001b[0;34m/\u001b[0m \u001b[0mp\u001b[0m\u001b[0;34m[\u001b[0m\u001b[0;36m0\u001b[0m\u001b[0;34m]\u001b[0m\u001b[0;34m\u001b[0m\u001b[0;34m\u001b[0m\u001b[0m\n\u001b[0;32m--> 245\u001b[0;31m         \u001b[0mroots\u001b[0m \u001b[0;34m=\u001b[0m \u001b[0meigvals\u001b[0m\u001b[0;34m(\u001b[0m\u001b[0mA\u001b[0m\u001b[0;34m)\u001b[0m\u001b[0;34m\u001b[0m\u001b[0;34m\u001b[0m\u001b[0m\n\u001b[0m\u001b[1;32m    246\u001b[0m     \u001b[0;32melse\u001b[0m\u001b[0;34m:\u001b[0m\u001b[0;34m\u001b[0m\u001b[0;34m\u001b[0m\u001b[0m\n\u001b[1;32m    247\u001b[0m         \u001b[0mroots\u001b[0m \u001b[0;34m=\u001b[0m \u001b[0mNX\u001b[0m\u001b[0;34m.\u001b[0m\u001b[0marray\u001b[0m\u001b[0;34m(\u001b[0m\u001b[0;34m[\u001b[0m\u001b[0;34m]\u001b[0m\u001b[0;34m)\u001b[0m\u001b[0;34m\u001b[0m\u001b[0;34m\u001b[0m\u001b[0m\n",
      "\u001b[0;32m<__array_function__ internals>\u001b[0m in \u001b[0;36meigvals\u001b[0;34m(*args, **kwargs)\u001b[0m\n",
      "\u001b[0;32m~/opt/anaconda3/lib/python3.7/site-packages/numpy/linalg/linalg.py\u001b[0m in \u001b[0;36meigvals\u001b[0;34m(a)\u001b[0m\n\u001b[1;32m   1056\u001b[0m     \u001b[0m_assertRankAtLeast2\u001b[0m\u001b[0;34m(\u001b[0m\u001b[0ma\u001b[0m\u001b[0;34m)\u001b[0m\u001b[0;34m\u001b[0m\u001b[0;34m\u001b[0m\u001b[0m\n\u001b[1;32m   1057\u001b[0m     \u001b[0m_assertNdSquareness\u001b[0m\u001b[0;34m(\u001b[0m\u001b[0ma\u001b[0m\u001b[0;34m)\u001b[0m\u001b[0;34m\u001b[0m\u001b[0;34m\u001b[0m\u001b[0m\n\u001b[0;32m-> 1058\u001b[0;31m     \u001b[0m_assertFinite\u001b[0m\u001b[0;34m(\u001b[0m\u001b[0ma\u001b[0m\u001b[0;34m)\u001b[0m\u001b[0;34m\u001b[0m\u001b[0;34m\u001b[0m\u001b[0m\n\u001b[0m\u001b[1;32m   1059\u001b[0m     \u001b[0mt\u001b[0m\u001b[0;34m,\u001b[0m \u001b[0mresult_t\u001b[0m \u001b[0;34m=\u001b[0m \u001b[0m_commonType\u001b[0m\u001b[0;34m(\u001b[0m\u001b[0ma\u001b[0m\u001b[0;34m)\u001b[0m\u001b[0;34m\u001b[0m\u001b[0;34m\u001b[0m\u001b[0m\n\u001b[1;32m   1060\u001b[0m \u001b[0;34m\u001b[0m\u001b[0m\n",
      "\u001b[0;32m~/opt/anaconda3/lib/python3.7/site-packages/numpy/linalg/linalg.py\u001b[0m in \u001b[0;36m_assertFinite\u001b[0;34m(*arrays)\u001b[0m\n\u001b[1;32m    216\u001b[0m     \u001b[0;32mfor\u001b[0m \u001b[0ma\u001b[0m \u001b[0;32min\u001b[0m \u001b[0marrays\u001b[0m\u001b[0;34m:\u001b[0m\u001b[0;34m\u001b[0m\u001b[0;34m\u001b[0m\u001b[0m\n\u001b[1;32m    217\u001b[0m         \u001b[0;32mif\u001b[0m \u001b[0;32mnot\u001b[0m \u001b[0;34m(\u001b[0m\u001b[0misfinite\u001b[0m\u001b[0;34m(\u001b[0m\u001b[0ma\u001b[0m\u001b[0;34m)\u001b[0m\u001b[0;34m.\u001b[0m\u001b[0mall\u001b[0m\u001b[0;34m(\u001b[0m\u001b[0;34m)\u001b[0m\u001b[0;34m)\u001b[0m\u001b[0;34m:\u001b[0m\u001b[0;34m\u001b[0m\u001b[0;34m\u001b[0m\u001b[0m\n\u001b[0;32m--> 218\u001b[0;31m             \u001b[0;32mraise\u001b[0m \u001b[0mLinAlgError\u001b[0m\u001b[0;34m(\u001b[0m\u001b[0;34m\"Array must not contain infs or NaNs\"\u001b[0m\u001b[0;34m)\u001b[0m\u001b[0;34m\u001b[0m\u001b[0;34m\u001b[0m\u001b[0m\n\u001b[0m\u001b[1;32m    219\u001b[0m \u001b[0;34m\u001b[0m\u001b[0m\n\u001b[1;32m    220\u001b[0m \u001b[0;32mdef\u001b[0m \u001b[0m_isEmpty2d\u001b[0m\u001b[0;34m(\u001b[0m\u001b[0marr\u001b[0m\u001b[0;34m)\u001b[0m\u001b[0;34m:\u001b[0m\u001b[0;34m\u001b[0m\u001b[0;34m\u001b[0m\u001b[0m\n",
      "\u001b[0;31mLinAlgError\u001b[0m: Array must not contain infs or NaNs"
     ]
    }
   ],
   "source": [
    "# out dataframe appears in here twice, calling phi column and Q_tot column. Have checked both and both are good. R_tot is the only dodgy one but is not clled.\n",
    "\n",
    "# Initialise Data, set up DFs\n",
    "baseline = baselines.drop(['Viscocity(mmHg*s)','Resistance for U', 'U in single(µm/s)'],axis=1)\n",
    "first_iteration = baseline.loc[:,['Name','Number','Diameter(µm)','Length(µm)','Saturation in','Saturation out','Resistance for Q','Q in single(µm3/s)','Vt(µm3)','partial pressure blood(mmHg)','X-Area wall(???)','wall thickness(µm)','tissue partials(mmHg)']]\n",
    "constant = baseline.drop(['Q in single(µm3/s)','Pressure Drop(mmHg)','Saturation in','Saturation out','Resistance for Q','dS','Saturation ave','partial pressure blood(mmHg)','X-Area wall(???)','wall thickness(µm)','tissue partials(mmHg)'], axis=1)\n",
    "vessel_data_alltime = {}\n",
    "terms_alltime = {}\n",
    "\n",
    "for i in range(len(t)):\n",
    "    \n",
    "    # \n",
    "    if i ==0:\n",
    "        step = first_iteration.copy()\n",
    "        step['dptdt'] = 0\n",
    "    else:       \n",
    "        step = vessel_data_alltime[i-1].copy()\n",
    "        step['tissue partials(mmHg)'] = vessel_data_alltime[i-1]['tissue partials(mmHg)'] + vessel_data_alltime[i-1]['dptdt']*dt\n",
    "        step['Saturation out'] = vessel_data_alltime[i-1]['Saturation out'] + vessel_data_alltime[i-1]['dSoutdt']*dt\n",
    "        step['Saturation in'] = vessel_data_alltime[i-1]['Saturation in'] + vessel_data_alltime[i-1]['dSindt']*dt\n",
    "        \n",
    "    step.loc[6,'Diameter(µm)'] = baseline.loc[6,'Diameter(µm)']*out.loc[i,'phi']    \n",
    "    step.loc[6,'X-Area wall(???)'] = np.pi * ( 0.16*(step.loc[6,'Diameter(µm)'])**2 + 1.4*(step.loc[6,'Diameter(µm)']) + 14 )\n",
    "    step.loc[6,'wall thickness(µm)'] = ( -(step.loc[6,'Diameter(µm)']) + np.sqrt((step.loc[6,'Diameter(µm)'])**2 + (4*(step.loc[6,'X-Area wall(???)'])/np.pi))) / 2\n",
    "    step['Saturation ave'] = (step['Saturation in']+step['Saturation out'])/2\n",
    "    \n",
    "    for j in range(len(step['Saturation ave'])):\n",
    "        root_temp = None\n",
    "        sols = 0\n",
    "        root_temp = np.roots([1,0,150,23400*step.loc[j,'Saturation ave']/(step.loc[j,'Saturation ave']-1)]) #gives mmHg , *133.322\n",
    "        sols = check_imag_roots_real(root_temp) \n",
    "        #sols = sols*133.322 ###Remove this step if want in mmHg\n",
    "        step.loc[j,'partial pressure blood(mmHg)'] = sols\n",
    "    \n",
    "    step['Q in single(µm3/s)'] = np.empty\n",
    "#     terms = pd.DataFrame()\n",
    "#     terms['2divVb','pre_p_s','p_diff','Q_S_diff','dSindt'] = np.empty\n",
    "    terms = pd.DataFrame({'Name': ['A1', 'A2', 'A3', 'A4', 'A5', 'A6', 'C', 'V6', 'V5', 'V4', 'V3', 'V2', 'V1']})\n",
    "#     terms['twodivVb','pre_p_s','p_diff','Q_S_diff','dSindt'] = np.empty\n",
    "     \n",
    "    \n",
    "    #Could pull the Q stuff all out and do it seperately from this bit.\n",
    "    for j in range(len(step)):\n",
    "        if j ==0:\n",
    "            step.loc[j,'dSindt'] = 0\n",
    "            step.loc[j,'Q in single(µm3/s)'] = out.loc[i,'Q_tot']\n",
    "        else:\n",
    "            step.loc[j,'dSindt'] = step.loc[j-1,'dSoutdt']\n",
    "            if j <=  6:\n",
    "                step.loc[j,'Q in single(µm3/s)'] = step.loc[j-1,'Q in single(µm3/s)']/2\n",
    "            else:\n",
    "                step.loc[j,'Q in single(µm3/s)'] = step.loc[j-1,'Q in single(µm3/s)']*2\n",
    "        \n",
    "        terms.loc[j,'twodivVb'] = 2/(np.pi*((step.loc[j,'Diameter(µm)']**2)/4)*step.loc[j,'Length(µm)'])  # micro meters ^ -3\n",
    "        terms.loc[j,'pre_p_s'] = (2 * np.pi * K * (step.loc[j,'Diameter(µm)']/2) * constant.loc[j,'Length(µm)'])/(step.loc[j,'wall thickness(µm)']*cHb*H)\n",
    "        terms.loc[j,'p_diff'] = step.loc[j,'partial pressure blood(mmHg)']-step.loc[j,'tissue partials(mmHg)']\n",
    "        terms.loc[j,'Q_S_diff'] = step.loc[j,'Q in single(µm3/s)']*(step.loc[j,'Saturation out']-step.loc[j,'Saturation in'])\n",
    "        terms.loc[j,'dSindt'] = step.loc[j,'dSindt']\n",
    "        \n",
    "        step.loc[j,'dSoutdt'] = terms.loc[j,'twodivVb'] * ( - terms.loc[j,'pre_p_s'] * terms.loc[j,'p_diff'] - terms.loc[j,'Q_S_diff'] ) - terms.loc[j,'dSindt']\n",
    "    terms['dSoutdt'] = step['dSoutdt'].copy()\n",
    "\n",
    "#         step.loc[j,'dSoutdt'] = (2/(np.pi*((step.loc[j,'Diameter(µm)']**2)/4)*step.loc[j,'Length(µm)']))*(-((2 * np.pi * K * (step.loc[j,'Diameter(µm)']/2) * constant.loc[j,'Length(µm)'])/(step.loc[j,'wall thickness(µm)']*cHb*H))*(step.loc[j,'partial pressure blood(mmHg)']-step.loc[j,'tissue partials(mmHg)']) - step.loc[j,'Q in single(µm3/s)']*(step.loc[j,'Saturation out']-step.loc[j,'Saturation in'])) - step.loc[j,'dSindt']\n",
    "\n",
    "        #Incase i want to do something with alpha to the capillary one. dont think i need to.\n",
    "#         if j==6:           \n",
    "#             step.loc[j,'dSoutdt'] = (2/(np.pi*((step.loc[j,'Diameter(µm)']**2)/4)*step.loc[j,'Length(µm)']))*(((2 * np.pi * K * (step.loc[j,'Diameter(µm)']/2) * constant.loc[j,'Length(µm)'])/(step.loc[j,'wall thickness(µm)']*cHb*H))*(step.loc[j,'partial pressure blood(mmHg)']-step.loc[j,'tissue partials(mmHg)']) - step.loc[j,'Q in single(µm3/s)']*(step.loc[j,'Saturation out']-step.loc[j,'Saturation in'])) - step.loc[j,'dSindt']\n",
    "#         else:\n",
    "#             step.loc[j,'dSoutdt'] = (2/(np.pi*((step.loc[j,'Diameter(µm)']**2)/4)*step.loc[j,'Length(µm)']))*((2 * np.pi * K * (step.loc[j,'Diameter(µm)']/2) * constant.loc[j,'Length(µm)'])/(step.loc[j,'wall thickness(µm)']*cHb*H)*(step.loc[j,'partial pressure blood(mmHg)']-step.loc[j,'tissue partials(mmHg)']) - step.loc[j,'Q in single(µm3/s)']*(step.loc[j,'Saturation out']-step.loc[j,'Saturation in'])) - step.loc[j,'dSindt']\n",
    "\n",
    "    terms['onedivalphaV'] = 1/(alpha_t*constant['Vt(µm3)'])\n",
    "    terms['pre_p_p'] = (2 * np.pi * K * (step['Diameter(µm)']/2) * constant['Length(µm)'])/(step['wall thickness(µm)'])\n",
    "    terms['MVt'] = M * constant['Vt(µm3)']\n",
    "    \n",
    "    step['dptdt'] = terms['onedivalphaV']*(terms['pre_p_p']*terms['p_diff'] - terms['MVt'])\n",
    "    terms['dptdt'] = step['dptdt'].copy()\n",
    "    \n",
    "#     step['dptdt'] = (1/(alpha_t*vessel_values_general['Vt']))*((2 * np.pi * K * (step['Diameter(µm)']/2) * vessel_values_general['Length(µm)'])*(vessel_values_general['partial pressure blood(mmHg)'] - step['tissue partials(mmHg)'])/( step['wall thickness(µm)']) - M * vessel_values_general['Vt'])\n",
    "\n",
    "#     if i == 400 or i ==800:\n",
    "#         display(step)\n",
    "#         display(terms)\n",
    "    terms_alltime[i] = terms\n",
    "    vessel_data_alltime[i] = step\n",
    "#     print('----- \\n iteration:',i,'\\n time',t[i])\n",
    "#     print(out.loc[i,'Q_tot'])"
   ]
  },
  {
   "cell_type": "code",
   "execution_count": 50,
   "metadata": {},
   "outputs": [
    {
     "name": "stdout",
     "output_type": "stream",
     "text": [
      "494\n"
     ]
    },
    {
     "data": {
      "text/html": [
       "<div>\n",
       "<style scoped>\n",
       "    .dataframe tbody tr th:only-of-type {\n",
       "        vertical-align: middle;\n",
       "    }\n",
       "\n",
       "    .dataframe tbody tr th {\n",
       "        vertical-align: top;\n",
       "    }\n",
       "\n",
       "    .dataframe thead th {\n",
       "        text-align: right;\n",
       "    }\n",
       "</style>\n",
       "<table border=\"1\" class=\"dataframe\">\n",
       "  <thead>\n",
       "    <tr style=\"text-align: right;\">\n",
       "      <th></th>\n",
       "      <th>Name</th>\n",
       "      <th>Number</th>\n",
       "      <th>Diameter(µm)</th>\n",
       "      <th>Length(µm)</th>\n",
       "      <th>Saturation in</th>\n",
       "      <th>Saturation out</th>\n",
       "      <th>Resistance for Q</th>\n",
       "      <th>Q in single(µm3/s)</th>\n",
       "      <th>Vt(µm3)</th>\n",
       "      <th>partial pressure blood(mmHg)</th>\n",
       "      <th>X-Area wall(???)</th>\n",
       "      <th>wall thickness(µm)</th>\n",
       "      <th>tissue partials(mmHg)</th>\n",
       "      <th>dptdt</th>\n",
       "      <th>Saturation ave</th>\n",
       "      <th>dSindt</th>\n",
       "      <th>dSoutdt</th>\n",
       "    </tr>\n",
       "  </thead>\n",
       "  <tbody>\n",
       "    <tr>\n",
       "      <td>0</td>\n",
       "      <td>A1</td>\n",
       "      <td>1</td>\n",
       "      <td>23.970000</td>\n",
       "      <td>1267.6</td>\n",
       "      <td>9.400000e-01</td>\n",
       "      <td>9.197316e-01</td>\n",
       "      <td>1.866110e-06</td>\n",
       "      <td>1.83337e+06</td>\n",
       "      <td>3.804184e+06</td>\n",
       "      <td>66.958337</td>\n",
       "      <td>438.213672</td>\n",
       "      <td>4.841407</td>\n",
       "      <td>6.379316e+01</td>\n",
       "      <td>8.802762e-03</td>\n",
       "      <td>9.298658e-01</td>\n",
       "      <td>0.000000e+00</td>\n",
       "      <td>4.550171e-05</td>\n",
       "    </tr>\n",
       "    <tr>\n",
       "      <td>1</td>\n",
       "      <td>A2</td>\n",
       "      <td>2</td>\n",
       "      <td>19.170000</td>\n",
       "      <td>930.3</td>\n",
       "      <td>9.197316e-01</td>\n",
       "      <td>8.994199e-01</td>\n",
       "      <td>3.158317e-06</td>\n",
       "      <td>916684</td>\n",
       "      <td>1.903916e+06</td>\n",
       "      <td>60.933558</td>\n",
       "      <td>313.016429</td>\n",
       "      <td>4.253658</td>\n",
       "      <td>5.856136e+01</td>\n",
       "      <td>2.121489e-02</td>\n",
       "      <td>9.095758e-01</td>\n",
       "      <td>4.550171e-05</td>\n",
       "      <td>1.110299e-04</td>\n",
       "    </tr>\n",
       "    <tr>\n",
       "      <td>2</td>\n",
       "      <td>A3</td>\n",
       "      <td>4</td>\n",
       "      <td>15.280000</td>\n",
       "      <td>543.6</td>\n",
       "      <td>8.994199e-01</td>\n",
       "      <td>8.385090e-01</td>\n",
       "      <td>4.328170e-06</td>\n",
       "      <td>458342</td>\n",
       "      <td>2.854358e+06</td>\n",
       "      <td>52.806992</td>\n",
       "      <td>228.546291</td>\n",
       "      <td>3.810683</td>\n",
       "      <td>4.596269e+01</td>\n",
       "      <td>3.825291e-02</td>\n",
       "      <td>8.689644e-01</td>\n",
       "      <td>1.110299e-04</td>\n",
       "      <td>2.958240e-04</td>\n",
       "    </tr>\n",
       "    <tr>\n",
       "      <td>3</td>\n",
       "      <td>A4</td>\n",
       "      <td>8</td>\n",
       "      <td>12.080000</td>\n",
       "      <td>302.3</td>\n",
       "      <td>8.385090e-01</td>\n",
       "      <td>7.369584e-01</td>\n",
       "      <td>5.814403e-06</td>\n",
       "      <td>229171</td>\n",
       "      <td>2.378450e+06</td>\n",
       "      <td>43.154255</td>\n",
       "      <td>170.463521</td>\n",
       "      <td>3.485850</td>\n",
       "      <td>3.128257e+01</td>\n",
       "      <td>5.237752e-02</td>\n",
       "      <td>7.877337e-01</td>\n",
       "      <td>2.958240e-04</td>\n",
       "      <td>6.094972e-04</td>\n",
       "    </tr>\n",
       "    <tr>\n",
       "      <td>4</td>\n",
       "      <td>A5</td>\n",
       "      <td>16</td>\n",
       "      <td>9.460000</td>\n",
       "      <td>161.2</td>\n",
       "      <td>7.369584e-01</td>\n",
       "      <td>4.799381e-01</td>\n",
       "      <td>7.874816e-06</td>\n",
       "      <td>114585</td>\n",
       "      <td>1.775651e+06</td>\n",
       "      <td>31.621512</td>\n",
       "      <td>130.572935</td>\n",
       "      <td>3.265971</td>\n",
       "      <td>9.806812e+00</td>\n",
       "      <td>3.117816e+00</td>\n",
       "      <td>6.084482e-01</td>\n",
       "      <td>6.094972e-04</td>\n",
       "      <td>1.835808e+00</td>\n",
       "    </tr>\n",
       "    <tr>\n",
       "      <td>5</td>\n",
       "      <td>A6</td>\n",
       "      <td>32</td>\n",
       "      <td>7.320000</td>\n",
       "      <td>154.7</td>\n",
       "      <td>4.799381e-01</td>\n",
       "      <td>1.097192e+00</td>\n",
       "      <td>2.025728e-05</td>\n",
       "      <td>57292.7</td>\n",
       "      <td>1.188372e+06</td>\n",
       "      <td>43.229696</td>\n",
       "      <td>103.110791</td>\n",
       "      <td>3.138293</td>\n",
       "      <td>-2.881748e+01</td>\n",
       "      <td>1.006274e+02</td>\n",
       "      <td>7.885652e-01</td>\n",
       "      <td>1.835808e+00</td>\n",
       "      <td>-2.763443e+01</td>\n",
       "    </tr>\n",
       "    <tr>\n",
       "      <td>6</td>\n",
       "      <td>C</td>\n",
       "      <td>64</td>\n",
       "      <td>7.458538</td>\n",
       "      <td>243.9</td>\n",
       "      <td>1.097192e+00</td>\n",
       "      <td>-1.135304e+00</td>\n",
       "      <td>4.513708e-05</td>\n",
       "      <td>28646.4</td>\n",
       "      <td>3.270363e+05</td>\n",
       "      <td>-2.774739</td>\n",
       "      <td>104.749248</td>\n",
       "      <td>3.144607</td>\n",
       "      <td>3.104877e+01</td>\n",
       "      <td>-3.930053e+02</td>\n",
       "      <td>-1.905609e-02</td>\n",
       "      <td>-2.763443e+01</td>\n",
       "      <td>4.650439e+01</td>\n",
       "    </tr>\n",
       "    <tr>\n",
       "      <td>7</td>\n",
       "      <td>V6</td>\n",
       "      <td>32</td>\n",
       "      <td>11.510000</td>\n",
       "      <td>473.9</td>\n",
       "      <td>-1.135304e+00</td>\n",
       "      <td>-7.724100e+301</td>\n",
       "      <td>1.097658e-05</td>\n",
       "      <td>57292.7</td>\n",
       "      <td>1.481536e+05</td>\n",
       "      <td>-26.856800</td>\n",
       "      <td>161.197683</td>\n",
       "      <td>3.433626</td>\n",
       "      <td>4.003828e+304</td>\n",
       "      <td>-2.593694e+306</td>\n",
       "      <td>-3.862050e+301</td>\n",
       "      <td>4.650439e+01</td>\n",
       "      <td>5.003722e+303</td>\n",
       "    </tr>\n",
       "    <tr>\n",
       "      <td>8</td>\n",
       "      <td>V5</td>\n",
       "      <td>16</td>\n",
       "      <td>14.530000</td>\n",
       "      <td>272.3</td>\n",
       "      <td>-7.724100e+301</td>\n",
       "      <td>9.037204e+301</td>\n",
       "      <td>2.614226e-06</td>\n",
       "      <td>114585</td>\n",
       "      <td>2.390298e+05</td>\n",
       "      <td>-26.856800</td>\n",
       "      <td>214.009514</td>\n",
       "      <td>3.730525</td>\n",
       "      <td>-1.513457e+30</td>\n",
       "      <td>4.057026e+31</td>\n",
       "      <td>6.565520e+300</td>\n",
       "      <td>5.003722e+303</td>\n",
       "      <td>-5.854465e+303</td>\n",
       "    </tr>\n",
       "    <tr>\n",
       "      <td>9</td>\n",
       "      <td>V4</td>\n",
       "      <td>8</td>\n",
       "      <td>17.790000</td>\n",
       "      <td>426.6</td>\n",
       "      <td>9.037204e+301</td>\n",
       "      <td>-1.032922e+302</td>\n",
       "      <td>1.926676e-06</td>\n",
       "      <td>229171</td>\n",
       "      <td>2.366011e+05</td>\n",
       "      <td>-26.856800</td>\n",
       "      <td>281.309064</td>\n",
       "      <td>4.092089</td>\n",
       "      <td>-8.051322e+217</td>\n",
       "      <td>3.812841e+219</td>\n",
       "      <td>-6.460098e+300</td>\n",
       "      <td>-5.854465e+303</td>\n",
       "      <td>6.691563e+303</td>\n",
       "    </tr>\n",
       "    <tr>\n",
       "      <td>10</td>\n",
       "      <td>V3</td>\n",
       "      <td>4</td>\n",
       "      <td>21.450000</td>\n",
       "      <td>632.5</td>\n",
       "      <td>-1.032922e+302</td>\n",
       "      <td>1.169239e+302</td>\n",
       "      <td>1.415510e-06</td>\n",
       "      <td>458342</td>\n",
       "      <td>4.740168e+05</td>\n",
       "      <td>-26.856800</td>\n",
       "      <td>369.597066</td>\n",
       "      <td>4.528591</td>\n",
       "      <td>-2.281539e+154</td>\n",
       "      <td>8.711752e+155</td>\n",
       "      <td>6.815838e+300</td>\n",
       "      <td>6.691563e+303</td>\n",
       "      <td>-7.574773e+303</td>\n",
       "    </tr>\n",
       "    <tr>\n",
       "      <td>11</td>\n",
       "      <td>V2</td>\n",
       "      <td>2</td>\n",
       "      <td>25.700000</td>\n",
       "      <td>844.2</td>\n",
       "      <td>1.169239e+302</td>\n",
       "      <td>-1.330775e+302</td>\n",
       "      <td>9.582036e-07</td>\n",
       "      <td>916684</td>\n",
       "      <td>9.514755e+05</td>\n",
       "      <td>-26.856800</td>\n",
       "      <td>489.015286</td>\n",
       "      <td>5.060357</td>\n",
       "      <td>-1.646499e+36</td>\n",
       "      <td>4.482370e+37</td>\n",
       "      <td>-8.076794e+300</td>\n",
       "      <td>-7.574773e+303</td>\n",
       "      <td>inf</td>\n",
       "    </tr>\n",
       "    <tr>\n",
       "      <td>12</td>\n",
       "      <td>V1</td>\n",
       "      <td>1</td>\n",
       "      <td>30.770000</td>\n",
       "      <td>936.3</td>\n",
       "      <td>-1.330775e+302</td>\n",
       "      <td>1.566248e+302</td>\n",
       "      <td>5.427301e-07</td>\n",
       "      <td>1.83337e+06</td>\n",
       "      <td>1.896914e+06</td>\n",
       "      <td>-26.856800</td>\n",
       "      <td>655.225845</td>\n",
       "      <td>5.716258</td>\n",
       "      <td>-2.882157e+01</td>\n",
       "      <td>1.383058e-14</td>\n",
       "      <td>1.177367e+301</td>\n",
       "      <td>inf</td>\n",
       "      <td>-inf</td>\n",
       "    </tr>\n",
       "  </tbody>\n",
       "</table>\n",
       "</div>"
      ],
      "text/plain": [
       "   Name  Number  Diameter(µm)  Length(µm)  Saturation in  Saturation out  \\\n",
       "0    A1       1     23.970000      1267.6   9.400000e-01    9.197316e-01   \n",
       "1    A2       2     19.170000       930.3   9.197316e-01    8.994199e-01   \n",
       "2    A3       4     15.280000       543.6   8.994199e-01    8.385090e-01   \n",
       "3    A4       8     12.080000       302.3   8.385090e-01    7.369584e-01   \n",
       "4    A5      16      9.460000       161.2   7.369584e-01    4.799381e-01   \n",
       "5    A6      32      7.320000       154.7   4.799381e-01    1.097192e+00   \n",
       "6     C      64      7.458538       243.9   1.097192e+00   -1.135304e+00   \n",
       "7    V6      32     11.510000       473.9  -1.135304e+00  -7.724100e+301   \n",
       "8    V5      16     14.530000       272.3 -7.724100e+301   9.037204e+301   \n",
       "9    V4       8     17.790000       426.6  9.037204e+301  -1.032922e+302   \n",
       "10   V3       4     21.450000       632.5 -1.032922e+302   1.169239e+302   \n",
       "11   V2       2     25.700000       844.2  1.169239e+302  -1.330775e+302   \n",
       "12   V1       1     30.770000       936.3 -1.330775e+302   1.566248e+302   \n",
       "\n",
       "    Resistance for Q Q in single(µm3/s)       Vt(µm3)  \\\n",
       "0       1.866110e-06        1.83337e+06  3.804184e+06   \n",
       "1       3.158317e-06             916684  1.903916e+06   \n",
       "2       4.328170e-06             458342  2.854358e+06   \n",
       "3       5.814403e-06             229171  2.378450e+06   \n",
       "4       7.874816e-06             114585  1.775651e+06   \n",
       "5       2.025728e-05            57292.7  1.188372e+06   \n",
       "6       4.513708e-05            28646.4  3.270363e+05   \n",
       "7       1.097658e-05            57292.7  1.481536e+05   \n",
       "8       2.614226e-06             114585  2.390298e+05   \n",
       "9       1.926676e-06             229171  2.366011e+05   \n",
       "10      1.415510e-06             458342  4.740168e+05   \n",
       "11      9.582036e-07             916684  9.514755e+05   \n",
       "12      5.427301e-07        1.83337e+06  1.896914e+06   \n",
       "\n",
       "    partial pressure blood(mmHg)  X-Area wall(???)  wall thickness(µm)  \\\n",
       "0                      66.958337        438.213672            4.841407   \n",
       "1                      60.933558        313.016429            4.253658   \n",
       "2                      52.806992        228.546291            3.810683   \n",
       "3                      43.154255        170.463521            3.485850   \n",
       "4                      31.621512        130.572935            3.265971   \n",
       "5                      43.229696        103.110791            3.138293   \n",
       "6                      -2.774739        104.749248            3.144607   \n",
       "7                     -26.856800        161.197683            3.433626   \n",
       "8                     -26.856800        214.009514            3.730525   \n",
       "9                     -26.856800        281.309064            4.092089   \n",
       "10                    -26.856800        369.597066            4.528591   \n",
       "11                    -26.856800        489.015286            5.060357   \n",
       "12                    -26.856800        655.225845            5.716258   \n",
       "\n",
       "    tissue partials(mmHg)          dptdt  Saturation ave         dSindt  \\\n",
       "0            6.379316e+01   8.802762e-03    9.298658e-01   0.000000e+00   \n",
       "1            5.856136e+01   2.121489e-02    9.095758e-01   4.550171e-05   \n",
       "2            4.596269e+01   3.825291e-02    8.689644e-01   1.110299e-04   \n",
       "3            3.128257e+01   5.237752e-02    7.877337e-01   2.958240e-04   \n",
       "4            9.806812e+00   3.117816e+00    6.084482e-01   6.094972e-04   \n",
       "5           -2.881748e+01   1.006274e+02    7.885652e-01   1.835808e+00   \n",
       "6            3.104877e+01  -3.930053e+02   -1.905609e-02  -2.763443e+01   \n",
       "7           4.003828e+304 -2.593694e+306  -3.862050e+301   4.650439e+01   \n",
       "8           -1.513457e+30   4.057026e+31   6.565520e+300  5.003722e+303   \n",
       "9          -8.051322e+217  3.812841e+219  -6.460098e+300 -5.854465e+303   \n",
       "10         -2.281539e+154  8.711752e+155   6.815838e+300  6.691563e+303   \n",
       "11          -1.646499e+36   4.482370e+37  -8.076794e+300 -7.574773e+303   \n",
       "12          -2.882157e+01   1.383058e-14   1.177367e+301            inf   \n",
       "\n",
       "          dSoutdt  \n",
       "0    4.550171e-05  \n",
       "1    1.110299e-04  \n",
       "2    2.958240e-04  \n",
       "3    6.094972e-04  \n",
       "4    1.835808e+00  \n",
       "5   -2.763443e+01  \n",
       "6    4.650439e+01  \n",
       "7   5.003722e+303  \n",
       "8  -5.854465e+303  \n",
       "9   6.691563e+303  \n",
       "10 -7.574773e+303  \n",
       "11            inf  \n",
       "12           -inf  "
      ]
     },
     "metadata": {},
     "output_type": "display_data"
    },
    {
     "data": {
      "text/plain": [
       "'Q_S_diff'"
      ]
     },
     "metadata": {},
     "output_type": "display_data"
    }
   ],
   "source": [
    "print(i)\n",
    "# display(vessel_data_alltime[0].subtract(vessel_data_alltime[400]))\n",
    "display(vessel_data_alltime[493])\n",
    "# display(vessel_data_alltime[400\n",
    "display(terms_alltime[493].iloc[7].index[4])"
   ]
  },
  {
   "cell_type": "code",
   "execution_count": 62,
   "metadata": {},
   "outputs": [
    {
     "data": {
      "image/png": "[encoded data removed]",
      "text/plain": [
       "<Figure size 720x576 with 1 Axes>"
      ]
     },
     "metadata": {
      "needs_background": "light"
     },
     "output_type": "display_data"
    },
    {
     "data": {
      "image/png": "[encoded data removed]",
      "text/plain": [
       "<Figure size 720x576 with 1 Axes>"
      ]
     },
     "metadata": {
      "needs_background": "light"
     },
     "output_type": "display_data"
    },
    {
     "data": {
      "image/png": "[encoded data removed]",
      "text/plain": [
       "<Figure size 720x576 with 1 Axes>"
      ]
     },
     "metadata": {
      "needs_background": "light"
     },
     "output_type": "display_data"
    },
    {
     "data": {
      "image/png": "[encoded data removed]",
      "text/plain": [
       "<Figure size 720x576 with 1 Axes>"
      ]
     },
     "metadata": {
      "needs_background": "light"
     },
     "output_type": "display_data"
    },
    {
     "data": {
      "image/png": "[encoded data removed]",
      "text/plain": [
       "<Figure size 720x576 with 1 Axes>"
      ]
     },
     "metadata": {
      "needs_background": "light"
     },
     "output_type": "display_data"
    },
    {
     "data": {
      "image/png": "[encoded data removed]",
      "text/plain": [
       "<Figure size 720x576 with 1 Axes>"
      ]
     },
     "metadata": {
      "needs_background": "light"
     },
     "output_type": "display_data"
    },
    {
     "data": {
      "image/png": "[encoded data removed]",
      "text/plain": [
       "<Figure size 720x576 with 1 Axes>"
      ]
     },
     "metadata": {
      "needs_background": "light"
     },
     "output_type": "display_data"
    },
    {
     "data": {
      "image/png": "[encoded data removed]",
      "text/plain": [
       "<Figure size 720x576 with 1 Axes>"
      ]
     },
     "metadata": {
      "needs_background": "light"
     },
     "output_type": "display_data"
    },
    {
     "data": {
      "image/png": "[encoded data removed]",
      "text/plain": [
       "<Figure size 720x576 with 1 Axes>"
      ]
     },
     "metadata": {
      "needs_background": "light"
     },
     "output_type": "display_data"
    },
    {
     "data": {
      "image/png": "[encoded data removed]",
      "text/plain": [
       "<Figure size 720x576 with 1 Axes>"
      ]
     },
     "metadata": {
      "needs_background": "light"
     },
     "output_type": "display_data"
    }
   ],
   "source": [
    "plot_all = {}\n",
    "# title_all = {}\n",
    "t_plot = {}\n",
    "\n",
    "choose_vessel = 7\n",
    "#6 is cap\n",
    "t_before = 10 # how many seconds before the end you want to view\n",
    "iterations_to_view = t_before/dt +1\n",
    "\n",
    "for z in range(len(terms_alltime[j].iloc[choose_vessel])):\n",
    "    cool = {}\n",
    "    for j in range(i-1):\n",
    "        if j < (i-1)-iterations_to_view:\n",
    "            continue\n",
    "        else:\n",
    "            cool[j] = terms_alltime[j].iloc[choose_vessel].iloc[z]\n",
    "            t_plot[j] = t[j]\n",
    "    plot_all[z] = cool\n",
    "\n",
    "figs = {}\n",
    "ax = {}\n",
    "for k in range(len(terms_alltime[j].iloc[choose_vessel])):\n",
    "    title = None\n",
    "    if k == 0:\n",
    "        continue\n",
    "    else:\n",
    "        figs[k],ax[k] = plt.subplots(figsize=(10,8))\n",
    "        plt.plot(pd.Series(t_plot).values,pd.Series(plot_all[k]).values)\n",
    "        title = terms_alltime[0].iloc[choose_vessel].index[k]\n",
    "        plt.title(title)"
   ]
  },
  {
   "cell_type": "code",
   "execution_count": 55,
   "metadata": {},
   "outputs": [
    {
     "data": {
      "text/plain": [
       "0.08"
      ]
     },
     "execution_count": 55,
     "metadata": {},
     "output_type": "execute_result"
    }
   ],
   "source": [
    "dt"
   ]
  },
  {
   "cell_type": "code",
   "execution_count": null,
   "metadata": {},
   "outputs": [],
   "source": [
    "terms_alltime[1].loc[:,'dptdt']"
   ]
  },
  {
   "cell_type": "code",
   "execution_count": null,
   "metadata": {},
   "outputs": [],
   "source": [
    "tissue_partials = pd.DataFrame({'A1': np.zeros(len(vessel_data_alltime)), 'A2': np.zeros(len(vessel_data_alltime)), 'A3': np.zeros(len(vessel_data_alltime)), 'A4': np.zeros(len(vessel_data_alltime)), 'A5': np.zeros(len(vessel_data_alltime)), 'A6': np.zeros(len(vessel_data_alltime)), 'C': np.zeros(len(vessel_data_alltime)), 'V6': np.zeros(len(vessel_data_alltime)), 'V5': np.zeros(len(vessel_data_alltime)), 'V4': np.zeros(len(vessel_data_alltime)), 'V3': np.zeros(len(vessel_data_alltime)),\n",
    "           'V2':np.zeros(len(vessel_data_alltime)), 'V1': np.zeros(len(vessel_data_alltime))})\n",
    "tissue_partials_normal = pd.DataFrame({'A1': np.zeros(len(vessel_data_alltime)), 'A2': np.zeros(len(vessel_data_alltime)), 'A3': np.zeros(len(vessel_data_alltime)), 'A4': np.zeros(len(vessel_data_alltime)), 'A5': np.zeros(len(vessel_data_alltime)), 'A6': np.zeros(len(vessel_data_alltime)), 'C': np.zeros(len(vessel_data_alltime)), 'V6': np.zeros(len(vessel_data_alltime)), 'V5': np.zeros(len(vessel_data_alltime)), 'V4': np.zeros(len(vessel_data_alltime)), 'V3': np.zeros(len(vessel_data_alltime)),\n",
    "           'V2':np.zeros(len(vessel_data_alltime)), 'V1': np.zeros(len(vessel_data_alltime))})\n",
    "dptdt = pd.DataFrame({'A1': np.zeros(len(vessel_data_alltime)), 'A2': np.zeros(len(vessel_data_alltime)), 'A3': np.zeros(len(vessel_data_alltime)), 'A4': np.zeros(len(vessel_data_alltime)), 'A5': np.zeros(len(vessel_data_alltime)), 'A6': np.zeros(len(vessel_data_alltime)), 'C': np.zeros(len(vessel_data_alltime)), 'V6': np.zeros(len(vessel_data_alltime)), 'V5': np.zeros(len(vessel_data_alltime)), 'V4': np.zeros(len(vessel_data_alltime)), 'V3': np.zeros(len(vessel_data_alltime)),\n",
    "           'V2':np.zeros(len(vessel_data_alltime)), 'V1': np.zeros(len(vessel_data_alltime))})\n",
    "dSoutdt = pd.DataFrame({'A1': np.zeros(len(vessel_data_alltime)), 'A2': np.zeros(len(vessel_data_alltime)), 'A3': np.zeros(len(vessel_data_alltime)), 'A4': np.zeros(len(vessel_data_alltime)), 'A5': np.zeros(len(vessel_data_alltime)), 'A6': np.zeros(len(vessel_data_alltime)), 'C': np.zeros(len(vessel_data_alltime)), 'V6': np.zeros(len(vessel_data_alltime)), 'V5': np.zeros(len(vessel_data_alltime)), 'V4': np.zeros(len(vessel_data_alltime)), 'V3': np.zeros(len(vessel_data_alltime)),\n",
    "           'V2':np.zeros(len(vessel_data_alltime)), 'V1': np.zeros(len(vessel_data_alltime))})\n",
    "Saturation_in = pd.DataFrame({'A1': np.zeros(len(vessel_data_alltime)), 'A2': np.zeros(len(vessel_data_alltime)), 'A3': np.zeros(len(vessel_data_alltime)), 'A4': np.zeros(len(vessel_data_alltime)), 'A5': np.zeros(len(vessel_data_alltime)), 'A6': np.zeros(len(vessel_data_alltime)), 'C': np.zeros(len(vessel_data_alltime)), 'V6': np.zeros(len(vessel_data_alltime)), 'V5': np.zeros(len(vessel_data_alltime)), 'V4': np.zeros(len(vessel_data_alltime)), 'V3': np.zeros(len(vessel_data_alltime)),\n",
    "           'V2':np.zeros(len(vessel_data_alltime)), 'V1': np.zeros(len(vessel_data_alltime))})\n",
    "Q = pd.DataFrame({'A1': np.zeros(len(vessel_data_alltime)), 'A2': np.zeros(len(vessel_data_alltime)), 'A3': np.zeros(len(vessel_data_alltime)), 'A4': np.zeros(len(vessel_data_alltime)), 'A5': np.zeros(len(vessel_data_alltime)), 'A6': np.zeros(len(vessel_data_alltime)), 'C': np.zeros(len(vessel_data_alltime)), 'V6': np.zeros(len(vessel_data_alltime)), 'V5': np.zeros(len(vessel_data_alltime)), 'V4': np.zeros(len(vessel_data_alltime)), 'V3': np.zeros(len(vessel_data_alltime)),\n",
    "           'V2':np.zeros(len(vessel_data_alltime)), 'V1': np.zeros(len(vessel_data_alltime))})\n",
    "Q_normal = pd.DataFrame({'A1': np.zeros(len(vessel_data_alltime)), 'A2': np.zeros(len(vessel_data_alltime)), 'A3': np.zeros(len(vessel_data_alltime)), 'A4': np.zeros(len(vessel_data_alltime)), 'A5': np.zeros(len(vessel_data_alltime)), 'A6': np.zeros(len(vessel_data_alltime)), 'C': np.zeros(len(vessel_data_alltime)), 'V6': np.zeros(len(vessel_data_alltime)), 'V5': np.zeros(len(vessel_data_alltime)), 'V4': np.zeros(len(vessel_data_alltime)), 'V3': np.zeros(len(vessel_data_alltime)),\n",
    "           'V2':np.zeros(len(vessel_data_alltime)), 'V1': np.zeros(len(vessel_data_alltime))})\n",
    "\n",
    "for i in range(len(vessel_data_alltime)):\n",
    "    for j in range(len(vessel_data_alltime[0])):\n",
    "        tissue_partials.iloc[i,j] = vessel_data_alltime[i].loc[j,'tissue partials(mmHg)']\n",
    "        dptdt.iloc[i,j] = vessel_data_alltime[i].loc[j,'dptdt']\n",
    "        dSoutdt.iloc[i,j] = vessel_data_alltime[i].loc[j,'dSoutdt']\n",
    "        Saturation_in.iloc[i,j] = vessel_data_alltime[i].loc[j,'Saturation in']\n",
    "        Q.iloc[i,j] = vessel_data_alltime[i].loc[j,'Q']\n",
    "\n",
    "for i in range(len(vessel_data_alltime[0])):\n",
    "    tissue_partials_normal.iloc[:,i] = tissue_partials.iloc[:,i] / baseline.loc[i,'tissue partials(mmHg)']\n",
    "    Q_normal.iloc[:,i] = Q.iloc[:,i] / baseline.loc[i,'Q in single(µm3/s)']\n",
    "\n",
    "fig1,ax1 = plt.subplots(figsize=(10,8))\n",
    "for i in range(13):\n",
    "    plt.plot(t,tissue_partials.iloc[:,i], label=vessel_data_alltime[0].loc[i,'Name'])    \n",
    "ax1.legend()\n",
    "plt.grid(which='both')\n",
    "plt.ylabel('tissue_partials')\n",
    "plt.xlabel('time')\n",
    "plt.title('tissue_partials against time', fontsize=20)\n",
    "\n",
    "fig2,ax2 = plt.subplots(figsize=(10,8))\n",
    "for i in range(13):\n",
    "    plt.plot(t,tissue_partials_normal.iloc[:,i], label=vessel_data_alltime[0].loc[i,'Name'])  \n",
    "ax2.legend()\n",
    "plt.grid(which='both')\n",
    "plt.ylabel('NORMAL tissue_partials')\n",
    "plt.xlabel('time')\n",
    "plt.title('NORMAL tissue_partials against time', fontsize=20)\n",
    "\n",
    "fig2a,ax2a = plt.subplots(figsize=(10,8))\n",
    "for i in range(13):\n",
    "    if i != 6:\n",
    "        plt.plot(t,tissue_partials_normal.iloc[:,i], label=vessel_data_alltime[0].loc[i,'Name'])  \n",
    "ax2a.legend()\n",
    "plt.grid(which='both')\n",
    "plt.ylabel('NORMAL tissue_partials')\n",
    "plt.xlabel('time')\n",
    "plt.title('NORMAL tissue_partials against time WITHOUT C', fontsize=20)\n",
    "\n",
    "fig3,ax3 = plt.subplots(figsize=(10,8))\n",
    "for i in range(13):\n",
    "    plt.plot(t,dptdt.iloc[:,i], label=vessel_data_alltime[0].loc[i,'Name'])\n",
    "ax3.legend()\n",
    "plt.grid(which='both')\n",
    "plt.ylabel('dptdt')\n",
    "plt.xlabel('time')\n",
    "plt.title('dptdt against time', fontsize=20)\n",
    "\n",
    "fig4,ax4 = plt.subplots(figsize=(10,8))\n",
    "for i in range(13):\n",
    "    plt.plot(t,dSoutdt.iloc[:,i], label=vessel_data_alltime[0].loc[i,'Name'])\n",
    "ax4.legend()\n",
    "plt.grid(which='both')\n",
    "plt.ylabel('dSoutdt')\n",
    "plt.xlabel('time')\n",
    "plt.title('dSoutdt against time', fontsize=20)\n",
    "\n",
    "fig5,ax5 = plt.subplots(figsize=(10,8))\n",
    "for i in range(13):\n",
    "    plt.plot(t,Saturation_in.iloc[:,i], label=vessel_data_alltime[0].loc[i,'Name'])\n",
    "ax5.legend()\n",
    "plt.grid(which='both')\n",
    "plt.ylabel('Saturation in')\n",
    "plt.xlabel('time')\n",
    "plt.title('Saturation in against time', fontsize=20)\n",
    "\n",
    "fig99,ax99 = plt.subplots(figsize=(10,8))\n",
    "for i in range(13):\n",
    "    plt.plot(t,Q_normal.iloc[:,i], label=vessel_data_alltime[0].loc[i,'Name'])\n",
    "ax99.legend()\n",
    "plt.grid(which='both')\n",
    "plt.ylabel('normal Q')\n",
    "plt.xlabel('time')\n",
    "plt.title('Normal Q against time', fontsize=20)\n",
    "\n",
    "fig4,ax4 = plt.subplots(figsize=(10,8))\n",
    "\n",
    "plt.plot(t,out['phi'])"
   ]
  },
  {
   "cell_type": "code",
   "execution_count": null,
   "metadata": {},
   "outputs": [],
   "source": [
    "Q_dS = pd.DataFrame({'A1': np.zeros(len(vessel_data_alltime)), 'A2': np.zeros(len(vessel_data_alltime)), 'A3': np.zeros(len(vessel_data_alltime)), 'A4': np.zeros(len(vessel_data_alltime)), 'A5': np.zeros(len(vessel_data_alltime)), 'A6': np.zeros(len(vessel_data_alltime)), 'C': np.zeros(len(vessel_data_alltime)), 'V6': np.zeros(len(vessel_data_alltime)), 'V5': np.zeros(len(vessel_data_alltime)), 'V4': np.zeros(len(vessel_data_alltime)), 'V3': np.zeros(len(vessel_data_alltime)),\n",
    "           'V2':np.zeros(len(vessel_data_alltime)), 'V1': np.zeros(len(vessel_data_alltime))})\n",
    "\n",
    "for i in range(len(terms_alltime)):\n",
    "    for j in range(len(terms_alltime[0])):\n",
    "        Q_dS.iloc[i,j] = terms_alltime[i].loc[j,'Q_S_diff']\n",
    "        \n",
    "f1,a1 = plt.subplots(figsize=(10,8))\n",
    "for i in range(13):\n",
    "    plt.plot(t,Q_dS.iloc[:,i], label=terms_alltime[0].loc[i,'Name'])    \n",
    "a1.legend()\n",
    "plt.grid(which='both')\n",
    "plt.ylabel('Q*dS')\n",
    "plt.xlabel('time')\n",
    "plt.title('Q*dS against time', fontsize=20)"
   ]
  },
  {
   "cell_type": "markdown",
   "metadata": {},
   "source": [
    "step['dSoutdt'] = 10* (2/(np.pi*((step['Diameter(µm)']**2)/4)*step['Length(µm)']))*((2 * np.pi * K * (step['Diameter(µm)']/2) * vessel_values_general['Length(µm)'])/(step['wall thickness(µm)']*cHb*H)*(step['partial pressure blood(mmHg)']-step['tissue partials(mmHg)']) - step['Q']*(step['Saturation out']-step['Saturation in'])) - step['dSindt']\n",
    "    "
   ]
  },
  {
   "cell_type": "code",
   "execution_count": 141,
   "metadata": {
    "collapsed": true,
    "jupyter": {
     "outputs_hidden": true
    }
   },
   "outputs": [
    {
     "ename": "TypeError",
     "evalue": "'DataFrame' objects are mutable, thus they cannot be hashed",
     "output_type": "error",
     "traceback": [
      "\u001b[0;31m---------------------------------------------------------------------------\u001b[0m",
      "\u001b[0;31mTypeError\u001b[0m                                 Traceback (most recent call last)",
      "\u001b[0;32m<ipython-input-141-d51daf557c3b>\u001b[0m in \u001b[0;36m<module>\u001b[0;34m\u001b[0m\n\u001b[1;32m      1\u001b[0m \u001b[0mterms_alltime_dict\u001b[0m \u001b[0;34m=\u001b[0m \u001b[0mpd\u001b[0m\u001b[0;34m.\u001b[0m\u001b[0mSeries\u001b[0m\u001b[0;34m(\u001b[0m\u001b[0mterms_alltime\u001b[0m\u001b[0;34m)\u001b[0m\u001b[0;34m\u001b[0m\u001b[0;34m\u001b[0m\u001b[0m\n\u001b[0;32m----> 2\u001b[0;31m \u001b[0mplt\u001b[0m\u001b[0;34m.\u001b[0m\u001b[0mplot\u001b[0m\u001b[0;34m(\u001b[0m\u001b[0mt\u001b[0m\u001b[0;34m[\u001b[0m\u001b[0;36m0\u001b[0m\u001b[0;34m:\u001b[0m\u001b[0;34m(\u001b[0m\u001b[0mi\u001b[0m\u001b[0;34m-\u001b[0m\u001b[0;36m1\u001b[0m\u001b[0;34m)\u001b[0m\u001b[0;34m]\u001b[0m\u001b[0;34m,\u001b[0m\u001b[0mterms_alltime_dict\u001b[0m\u001b[0;34m[\u001b[0m\u001b[0;36m0\u001b[0m\u001b[0;34m:\u001b[0m\u001b[0;34m(\u001b[0m\u001b[0mi\u001b[0m\u001b[0;34m-\u001b[0m\u001b[0;36m1\u001b[0m\u001b[0;34m)\u001b[0m\u001b[0;34m]\u001b[0m\u001b[0;34m)\u001b[0m\u001b[0;34m\u001b[0m\u001b[0;34m\u001b[0m\u001b[0m\n\u001b[0m",
      "\u001b[0;32m~/opt/anaconda3/lib/python3.7/site-packages/matplotlib/pyplot.py\u001b[0m in \u001b[0;36mplot\u001b[0;34m(scalex, scaley, data, *args, **kwargs)\u001b[0m\n\u001b[1;32m   2793\u001b[0m     return gca().plot(\n\u001b[1;32m   2794\u001b[0m         *args, scalex=scalex, scaley=scaley, **({\"data\": data} if data\n\u001b[0;32m-> 2795\u001b[0;31m         is not None else {}), **kwargs)\n\u001b[0m\u001b[1;32m   2796\u001b[0m \u001b[0;34m\u001b[0m\u001b[0m\n\u001b[1;32m   2797\u001b[0m \u001b[0;34m\u001b[0m\u001b[0m\n",
      "\u001b[0;32m~/opt/anaconda3/lib/python3.7/site-packages/matplotlib/axes/_axes.py\u001b[0m in \u001b[0;36mplot\u001b[0;34m(self, scalex, scaley, data, *args, **kwargs)\u001b[0m\n\u001b[1;32m   1664\u001b[0m         \"\"\"\n\u001b[1;32m   1665\u001b[0m         \u001b[0mkwargs\u001b[0m \u001b[0;34m=\u001b[0m \u001b[0mcbook\u001b[0m\u001b[0;34m.\u001b[0m\u001b[0mnormalize_kwargs\u001b[0m\u001b[0;34m(\u001b[0m\u001b[0mkwargs\u001b[0m\u001b[0;34m,\u001b[0m \u001b[0mmlines\u001b[0m\u001b[0;34m.\u001b[0m\u001b[0mLine2D\u001b[0m\u001b[0;34m.\u001b[0m\u001b[0m_alias_map\u001b[0m\u001b[0;34m)\u001b[0m\u001b[0;34m\u001b[0m\u001b[0;34m\u001b[0m\u001b[0m\n\u001b[0;32m-> 1666\u001b[0;31m         \u001b[0mlines\u001b[0m \u001b[0;34m=\u001b[0m \u001b[0;34m[\u001b[0m\u001b[0;34m*\u001b[0m\u001b[0mself\u001b[0m\u001b[0;34m.\u001b[0m\u001b[0m_get_lines\u001b[0m\u001b[0;34m(\u001b[0m\u001b[0;34m*\u001b[0m\u001b[0margs\u001b[0m\u001b[0;34m,\u001b[0m \u001b[0mdata\u001b[0m\u001b[0;34m=\u001b[0m\u001b[0mdata\u001b[0m\u001b[0;34m,\u001b[0m \u001b[0;34m**\u001b[0m\u001b[0mkwargs\u001b[0m\u001b[0;34m)\u001b[0m\u001b[0;34m]\u001b[0m\u001b[0;34m\u001b[0m\u001b[0;34m\u001b[0m\u001b[0m\n\u001b[0m\u001b[1;32m   1667\u001b[0m         \u001b[0;32mfor\u001b[0m \u001b[0mline\u001b[0m \u001b[0;32min\u001b[0m \u001b[0mlines\u001b[0m\u001b[0;34m:\u001b[0m\u001b[0;34m\u001b[0m\u001b[0;34m\u001b[0m\u001b[0m\n\u001b[1;32m   1668\u001b[0m             \u001b[0mself\u001b[0m\u001b[0;34m.\u001b[0m\u001b[0madd_line\u001b[0m\u001b[0;34m(\u001b[0m\u001b[0mline\u001b[0m\u001b[0;34m)\u001b[0m\u001b[0;34m\u001b[0m\u001b[0;34m\u001b[0m\u001b[0m\n",
      "\u001b[0;32m~/opt/anaconda3/lib/python3.7/site-packages/matplotlib/axes/_base.py\u001b[0m in \u001b[0;36m__call__\u001b[0;34m(self, *args, **kwargs)\u001b[0m\n\u001b[1;32m    223\u001b[0m                 \u001b[0mthis\u001b[0m \u001b[0;34m+=\u001b[0m \u001b[0margs\u001b[0m\u001b[0;34m[\u001b[0m\u001b[0;36m0\u001b[0m\u001b[0;34m]\u001b[0m\u001b[0;34m,\u001b[0m\u001b[0;34m\u001b[0m\u001b[0;34m\u001b[0m\u001b[0m\n\u001b[1;32m    224\u001b[0m                 \u001b[0margs\u001b[0m \u001b[0;34m=\u001b[0m \u001b[0margs\u001b[0m\u001b[0;34m[\u001b[0m\u001b[0;36m1\u001b[0m\u001b[0;34m:\u001b[0m\u001b[0;34m]\u001b[0m\u001b[0;34m\u001b[0m\u001b[0;34m\u001b[0m\u001b[0m\n\u001b[0;32m--> 225\u001b[0;31m             \u001b[0;32myield\u001b[0m \u001b[0;32mfrom\u001b[0m \u001b[0mself\u001b[0m\u001b[0;34m.\u001b[0m\u001b[0m_plot_args\u001b[0m\u001b[0;34m(\u001b[0m\u001b[0mthis\u001b[0m\u001b[0;34m,\u001b[0m \u001b[0mkwargs\u001b[0m\u001b[0;34m)\u001b[0m\u001b[0;34m\u001b[0m\u001b[0;34m\u001b[0m\u001b[0m\n\u001b[0m\u001b[1;32m    226\u001b[0m \u001b[0;34m\u001b[0m\u001b[0m\n\u001b[1;32m    227\u001b[0m     \u001b[0;32mdef\u001b[0m \u001b[0mget_next_color\u001b[0m\u001b[0;34m(\u001b[0m\u001b[0mself\u001b[0m\u001b[0;34m)\u001b[0m\u001b[0;34m:\u001b[0m\u001b[0;34m\u001b[0m\u001b[0;34m\u001b[0m\u001b[0m\n",
      "\u001b[0;32m~/opt/anaconda3/lib/python3.7/site-packages/matplotlib/axes/_base.py\u001b[0m in \u001b[0;36m_plot_args\u001b[0;34m(self, tup, kwargs)\u001b[0m\n\u001b[1;32m    389\u001b[0m             \u001b[0mx\u001b[0m\u001b[0;34m,\u001b[0m \u001b[0my\u001b[0m \u001b[0;34m=\u001b[0m \u001b[0mindex_of\u001b[0m\u001b[0;34m(\u001b[0m\u001b[0mtup\u001b[0m\u001b[0;34m[\u001b[0m\u001b[0;34m-\u001b[0m\u001b[0;36m1\u001b[0m\u001b[0;34m]\u001b[0m\u001b[0;34m)\u001b[0m\u001b[0;34m\u001b[0m\u001b[0;34m\u001b[0m\u001b[0m\n\u001b[1;32m    390\u001b[0m \u001b[0;34m\u001b[0m\u001b[0m\n\u001b[0;32m--> 391\u001b[0;31m         \u001b[0mx\u001b[0m\u001b[0;34m,\u001b[0m \u001b[0my\u001b[0m \u001b[0;34m=\u001b[0m \u001b[0mself\u001b[0m\u001b[0;34m.\u001b[0m\u001b[0m_xy_from_xy\u001b[0m\u001b[0;34m(\u001b[0m\u001b[0mx\u001b[0m\u001b[0;34m,\u001b[0m \u001b[0my\u001b[0m\u001b[0;34m)\u001b[0m\u001b[0;34m\u001b[0m\u001b[0;34m\u001b[0m\u001b[0m\n\u001b[0m\u001b[1;32m    392\u001b[0m \u001b[0;34m\u001b[0m\u001b[0m\n\u001b[1;32m    393\u001b[0m         \u001b[0;32mif\u001b[0m \u001b[0mself\u001b[0m\u001b[0;34m.\u001b[0m\u001b[0mcommand\u001b[0m \u001b[0;34m==\u001b[0m \u001b[0;34m'plot'\u001b[0m\u001b[0;34m:\u001b[0m\u001b[0;34m\u001b[0m\u001b[0;34m\u001b[0m\u001b[0m\n",
      "\u001b[0;32m~/opt/anaconda3/lib/python3.7/site-packages/matplotlib/axes/_base.py\u001b[0m in \u001b[0;36m_xy_from_xy\u001b[0;34m(self, x, y)\u001b[0m\n\u001b[1;32m    242\u001b[0m         \u001b[0;32mif\u001b[0m \u001b[0mself\u001b[0m\u001b[0;34m.\u001b[0m\u001b[0maxes\u001b[0m\u001b[0;34m.\u001b[0m\u001b[0mxaxis\u001b[0m \u001b[0;32mis\u001b[0m \u001b[0;32mnot\u001b[0m \u001b[0;32mNone\u001b[0m \u001b[0;32mand\u001b[0m \u001b[0mself\u001b[0m\u001b[0;34m.\u001b[0m\u001b[0maxes\u001b[0m\u001b[0;34m.\u001b[0m\u001b[0myaxis\u001b[0m \u001b[0;32mis\u001b[0m \u001b[0;32mnot\u001b[0m \u001b[0;32mNone\u001b[0m\u001b[0;34m:\u001b[0m\u001b[0;34m\u001b[0m\u001b[0;34m\u001b[0m\u001b[0m\n\u001b[1;32m    243\u001b[0m             \u001b[0mbx\u001b[0m \u001b[0;34m=\u001b[0m \u001b[0mself\u001b[0m\u001b[0;34m.\u001b[0m\u001b[0maxes\u001b[0m\u001b[0;34m.\u001b[0m\u001b[0mxaxis\u001b[0m\u001b[0;34m.\u001b[0m\u001b[0mupdate_units\u001b[0m\u001b[0;34m(\u001b[0m\u001b[0mx\u001b[0m\u001b[0;34m)\u001b[0m\u001b[0;34m\u001b[0m\u001b[0;34m\u001b[0m\u001b[0m\n\u001b[0;32m--> 244\u001b[0;31m             \u001b[0mby\u001b[0m \u001b[0;34m=\u001b[0m \u001b[0mself\u001b[0m\u001b[0;34m.\u001b[0m\u001b[0maxes\u001b[0m\u001b[0;34m.\u001b[0m\u001b[0myaxis\u001b[0m\u001b[0;34m.\u001b[0m\u001b[0mupdate_units\u001b[0m\u001b[0;34m(\u001b[0m\u001b[0my\u001b[0m\u001b[0;34m)\u001b[0m\u001b[0;34m\u001b[0m\u001b[0;34m\u001b[0m\u001b[0m\n\u001b[0m\u001b[1;32m    245\u001b[0m \u001b[0;34m\u001b[0m\u001b[0m\n\u001b[1;32m    246\u001b[0m             \u001b[0;32mif\u001b[0m \u001b[0mself\u001b[0m\u001b[0;34m.\u001b[0m\u001b[0mcommand\u001b[0m \u001b[0;34m!=\u001b[0m \u001b[0;34m'plot'\u001b[0m\u001b[0;34m:\u001b[0m\u001b[0;34m\u001b[0m\u001b[0;34m\u001b[0m\u001b[0m\n",
      "\u001b[0;32m~/opt/anaconda3/lib/python3.7/site-packages/matplotlib/axis.py\u001b[0m in \u001b[0;36mupdate_units\u001b[0;34m(self, data)\u001b[0m\n\u001b[1;32m   1491\u001b[0m         \u001b[0mneednew\u001b[0m \u001b[0;34m=\u001b[0m \u001b[0mself\u001b[0m\u001b[0;34m.\u001b[0m\u001b[0mconverter\u001b[0m \u001b[0;34m!=\u001b[0m \u001b[0mconverter\u001b[0m\u001b[0;34m\u001b[0m\u001b[0;34m\u001b[0m\u001b[0m\n\u001b[1;32m   1492\u001b[0m         \u001b[0mself\u001b[0m\u001b[0;34m.\u001b[0m\u001b[0mconverter\u001b[0m \u001b[0;34m=\u001b[0m \u001b[0mconverter\u001b[0m\u001b[0;34m\u001b[0m\u001b[0;34m\u001b[0m\u001b[0m\n\u001b[0;32m-> 1493\u001b[0;31m         \u001b[0mdefault\u001b[0m \u001b[0;34m=\u001b[0m \u001b[0mself\u001b[0m\u001b[0;34m.\u001b[0m\u001b[0mconverter\u001b[0m\u001b[0;34m.\u001b[0m\u001b[0mdefault_units\u001b[0m\u001b[0;34m(\u001b[0m\u001b[0mdata\u001b[0m\u001b[0;34m,\u001b[0m \u001b[0mself\u001b[0m\u001b[0;34m)\u001b[0m\u001b[0;34m\u001b[0m\u001b[0;34m\u001b[0m\u001b[0m\n\u001b[0m\u001b[1;32m   1494\u001b[0m         \u001b[0;32mif\u001b[0m \u001b[0mdefault\u001b[0m \u001b[0;32mis\u001b[0m \u001b[0;32mnot\u001b[0m \u001b[0;32mNone\u001b[0m \u001b[0;32mand\u001b[0m \u001b[0mself\u001b[0m\u001b[0;34m.\u001b[0m\u001b[0munits\u001b[0m \u001b[0;32mis\u001b[0m \u001b[0;32mNone\u001b[0m\u001b[0;34m:\u001b[0m\u001b[0;34m\u001b[0m\u001b[0;34m\u001b[0m\u001b[0m\n\u001b[1;32m   1495\u001b[0m             \u001b[0mself\u001b[0m\u001b[0;34m.\u001b[0m\u001b[0mset_units\u001b[0m\u001b[0;34m(\u001b[0m\u001b[0mdefault\u001b[0m\u001b[0;34m)\u001b[0m\u001b[0;34m\u001b[0m\u001b[0;34m\u001b[0m\u001b[0m\n",
      "\u001b[0;32m~/opt/anaconda3/lib/python3.7/site-packages/matplotlib/category.py\u001b[0m in \u001b[0;36mdefault_units\u001b[0;34m(data, axis)\u001b[0m\n\u001b[1;32m    113\u001b[0m         \u001b[0;31m# default_units->axis_info->convert\u001b[0m\u001b[0;34m\u001b[0m\u001b[0;34m\u001b[0m\u001b[0;34m\u001b[0m\u001b[0m\n\u001b[1;32m    114\u001b[0m         \u001b[0;32mif\u001b[0m \u001b[0maxis\u001b[0m\u001b[0;34m.\u001b[0m\u001b[0munits\u001b[0m \u001b[0;32mis\u001b[0m \u001b[0;32mNone\u001b[0m\u001b[0;34m:\u001b[0m\u001b[0;34m\u001b[0m\u001b[0;34m\u001b[0m\u001b[0m\n\u001b[0;32m--> 115\u001b[0;31m             \u001b[0maxis\u001b[0m\u001b[0;34m.\u001b[0m\u001b[0mset_units\u001b[0m\u001b[0;34m(\u001b[0m\u001b[0mUnitData\u001b[0m\u001b[0;34m(\u001b[0m\u001b[0mdata\u001b[0m\u001b[0;34m)\u001b[0m\u001b[0;34m)\u001b[0m\u001b[0;34m\u001b[0m\u001b[0;34m\u001b[0m\u001b[0m\n\u001b[0m\u001b[1;32m    116\u001b[0m         \u001b[0;32melse\u001b[0m\u001b[0;34m:\u001b[0m\u001b[0;34m\u001b[0m\u001b[0;34m\u001b[0m\u001b[0m\n\u001b[1;32m    117\u001b[0m             \u001b[0maxis\u001b[0m\u001b[0;34m.\u001b[0m\u001b[0munits\u001b[0m\u001b[0;34m.\u001b[0m\u001b[0mupdate\u001b[0m\u001b[0;34m(\u001b[0m\u001b[0mdata\u001b[0m\u001b[0;34m)\u001b[0m\u001b[0;34m\u001b[0m\u001b[0;34m\u001b[0m\u001b[0m\n",
      "\u001b[0;32m~/opt/anaconda3/lib/python3.7/site-packages/matplotlib/category.py\u001b[0m in \u001b[0;36m__init__\u001b[0;34m(self, data)\u001b[0m\n\u001b[1;32m    179\u001b[0m         \u001b[0mself\u001b[0m\u001b[0;34m.\u001b[0m\u001b[0m_counter\u001b[0m \u001b[0;34m=\u001b[0m \u001b[0mitertools\u001b[0m\u001b[0;34m.\u001b[0m\u001b[0mcount\u001b[0m\u001b[0;34m(\u001b[0m\u001b[0;34m)\u001b[0m\u001b[0;34m\u001b[0m\u001b[0;34m\u001b[0m\u001b[0m\n\u001b[1;32m    180\u001b[0m         \u001b[0;32mif\u001b[0m \u001b[0mdata\u001b[0m \u001b[0;32mis\u001b[0m \u001b[0;32mnot\u001b[0m \u001b[0;32mNone\u001b[0m\u001b[0;34m:\u001b[0m\u001b[0;34m\u001b[0m\u001b[0;34m\u001b[0m\u001b[0m\n\u001b[0;32m--> 181\u001b[0;31m             \u001b[0mself\u001b[0m\u001b[0;34m.\u001b[0m\u001b[0mupdate\u001b[0m\u001b[0;34m(\u001b[0m\u001b[0mdata\u001b[0m\u001b[0;34m)\u001b[0m\u001b[0;34m\u001b[0m\u001b[0;34m\u001b[0m\u001b[0m\n\u001b[0m\u001b[1;32m    182\u001b[0m \u001b[0;34m\u001b[0m\u001b[0m\n\u001b[1;32m    183\u001b[0m     \u001b[0;34m@\u001b[0m\u001b[0mstaticmethod\u001b[0m\u001b[0;34m\u001b[0m\u001b[0;34m\u001b[0m\u001b[0m\n",
      "\u001b[0;32m~/opt/anaconda3/lib/python3.7/site-packages/matplotlib/category.py\u001b[0m in \u001b[0;36mupdate\u001b[0;34m(self, data)\u001b[0m\n\u001b[1;32m    213\u001b[0m         \u001b[0;31m# check if convertible to number:\u001b[0m\u001b[0;34m\u001b[0m\u001b[0;34m\u001b[0m\u001b[0;34m\u001b[0m\u001b[0m\n\u001b[1;32m    214\u001b[0m         \u001b[0mconvertible\u001b[0m \u001b[0;34m=\u001b[0m \u001b[0;32mTrue\u001b[0m\u001b[0;34m\u001b[0m\u001b[0;34m\u001b[0m\u001b[0m\n\u001b[0;32m--> 215\u001b[0;31m         \u001b[0;32mfor\u001b[0m \u001b[0mval\u001b[0m \u001b[0;32min\u001b[0m \u001b[0mOrderedDict\u001b[0m\u001b[0;34m.\u001b[0m\u001b[0mfromkeys\u001b[0m\u001b[0;34m(\u001b[0m\u001b[0mdata\u001b[0m\u001b[0;34m)\u001b[0m\u001b[0;34m:\u001b[0m\u001b[0;34m\u001b[0m\u001b[0;34m\u001b[0m\u001b[0m\n\u001b[0m\u001b[1;32m    216\u001b[0m             \u001b[0;31m# OrderedDict just iterates over unique values in data.\u001b[0m\u001b[0;34m\u001b[0m\u001b[0;34m\u001b[0m\u001b[0;34m\u001b[0m\u001b[0m\n\u001b[1;32m    217\u001b[0m             \u001b[0;32mif\u001b[0m \u001b[0;32mnot\u001b[0m \u001b[0misinstance\u001b[0m\u001b[0;34m(\u001b[0m\u001b[0mval\u001b[0m\u001b[0;34m,\u001b[0m \u001b[0;34m(\u001b[0m\u001b[0mstr\u001b[0m\u001b[0;34m,\u001b[0m \u001b[0mbytes\u001b[0m\u001b[0;34m)\u001b[0m\u001b[0;34m)\u001b[0m\u001b[0;34m:\u001b[0m\u001b[0;34m\u001b[0m\u001b[0;34m\u001b[0m\u001b[0m\n",
      "\u001b[0;32m~/opt/anaconda3/lib/python3.7/site-packages/pandas/core/generic.py\u001b[0m in \u001b[0;36m__hash__\u001b[0;34m(self)\u001b[0m\n\u001b[1;32m   1884\u001b[0m         raise TypeError(\n\u001b[1;32m   1885\u001b[0m             \u001b[0;34m\"{0!r} objects are mutable, thus they cannot be\"\u001b[0m\u001b[0;34m\u001b[0m\u001b[0;34m\u001b[0m\u001b[0m\n\u001b[0;32m-> 1886\u001b[0;31m             \u001b[0;34m\" hashed\"\u001b[0m\u001b[0;34m.\u001b[0m\u001b[0mformat\u001b[0m\u001b[0;34m(\u001b[0m\u001b[0mself\u001b[0m\u001b[0;34m.\u001b[0m\u001b[0m__class__\u001b[0m\u001b[0;34m.\u001b[0m\u001b[0m__name__\u001b[0m\u001b[0;34m)\u001b[0m\u001b[0;34m\u001b[0m\u001b[0;34m\u001b[0m\u001b[0m\n\u001b[0m\u001b[1;32m   1887\u001b[0m         )\n\u001b[1;32m   1888\u001b[0m \u001b[0;34m\u001b[0m\u001b[0m\n",
      "\u001b[0;31mTypeError\u001b[0m: 'DataFrame' objects are mutable, thus they cannot be hashed"
     ]
    },
    {
     "data": {
      "image/png": "[encoded data removed]",
      "text/plain": [
       "<Figure size 432x288 with 1 Axes>"
      ]
     },
     "metadata": {
      "needs_background": "light"
     },
     "output_type": "display_data"
    }
   ],
   "source": [
    "terms_alltime_dict = pd.Series(terms_alltime)\n",
    "plt.plot(t[0:(i-1)],terms_alltime_dict[0:(i-1)])"
   ]
  },
  {
   "cell_type": "code",
   "execution_count": 92,
   "metadata": {},
   "outputs": [
    {
     "data": {
      "text/plain": [
       "[<matplotlib.lines.Line2D at 0x290f04a1888>,\n",
       " <matplotlib.lines.Line2D at 0x290f04a9a48>]"
      ]
     },
     "execution_count": 92,
     "metadata": {},
     "output_type": "execute_result"
    },
    {
     "data": {
      "image/png": "[encoded data removed]",
      "text/plain": [
       "<Figure size 432x288 with 1 Axes>"
      ]
     },
     "metadata": {
      "needs_background": "light"
     },
     "output_type": "display_data"
    }
   ],
   "source": [
    "plt.plot(t,out['Q_tot'],0)"
   ]
  },
  {
   "cell_type": "code",
   "execution_count": 94,
   "metadata": {},
   "outputs": [
    {
     "data": {
      "text/plain": [
       "0.049999999999999996"
      ]
     },
     "execution_count": 94,
     "metadata": {},
     "output_type": "execute_result"
    }
   ],
   "source": [
    "K"
   ]
  },
  {
   "cell_type": "code",
   "execution_count": 31,
   "metadata": {},
   "outputs": [
    {
     "data": {
      "text/plain": [
       "<matplotlib.axes._subplots.AxesSubplot at 0x11f830790>"
      ]
     },
     "execution_count": 31,
     "metadata": {},
     "output_type": "execute_result"
    },
    {
     "data": {
      "image/png": "[encoded data removed]",
      "text/plain": [
       "<Figure size 432x288 with 1 Axes>"
      ]
     },
     "metadata": {
      "needs_background": "light"
     },
     "output_type": "display_data"
    }
   ],
   "source": [
    "out.plot(x='t',y='Q_tot')"
   ]
  },
  {
   "cell_type": "code",
   "execution_count": 26,
   "metadata": {},
   "outputs": [
    {
     "data": {
      "text/plain": [
       "Index(['t', 'pressure_difference', 'phi', 'phi_min', 'dphidt', 'R_tot',\n",
       "       'Q_tot', 'Q_norm'],\n",
       "      dtype='object')"
      ]
     },
     "execution_count": 26,
     "metadata": {},
     "output_type": "execute_result"
    }
   ],
   "source": [
    "out.columns"
   ]
  },
  {
   "cell_type": "code",
   "execution_count": null,
   "metadata": {},
   "outputs": [],
   "source": []
  }
 ],
 "metadata": {
  "kernelspec": {
   "display_name": "Python 3",
   "language": "python",
   "name": "python3"
  },
  "language_info": {
   "codemirror_mode": {
    "name": "ipython",
    "version": 3
   },
   "file_extension": ".py",
   "mimetype": "text/x-python",
   "name": "python",
   "nbconvert_exporter": "python",
   "pygments_lexer": "ipython3",
   "version": "3.7.4"
  }
 },
 "nbformat": 4,
 "nbformat_minor": 4
}
