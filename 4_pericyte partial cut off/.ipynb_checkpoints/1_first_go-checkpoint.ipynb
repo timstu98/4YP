{
 "cells": [
  {
   "cell_type": "code",
   "execution_count": 4,
   "metadata": {},
   "outputs": [],
   "source": [
    "import pandas as pd\n",
    "import numpy as np\n",
    "from scipy import integrate\n",
    "from pylab import *\n",
    "from sympy.integrals import laplace_transform\n",
    "from sympy.integrals import inverse_laplace_transform\n",
    "import matplotlib.pyplot as plt\n",
    "from scipy.integrate import odeint\n",
    "from scipy import signal"
   ]
  },
  {
   "cell_type": "code",
   "execution_count": 31,
   "metadata": {},
   "outputs": [
    {
     "name": "stdout",
     "output_type": "stream",
     "text": [
      "Optimised value of tau:\n",
      "2.292929292929293\n",
      "LS for best value\n",
      "0.008865946431470602\n"
     ]
    }
   ],
   "source": [
    "K=1\n",
    "pre=1\n",
    "final =0.153\n",
    "delay = 7.62\n",
    "\n",
    "tau = linspace(2,3,num=100)\n",
    "LS = np.zeros(len(tau))\n",
    "#points = pd.DataFrame({'t': [7.62,8.08,8.69,9.22,11.73,11.85,20], 'd': [1,0.906,0.706,0.52,0.346,0.247,0.153,]})\n",
    "points = pd.DataFrame({'t': [7.62,8.08,8.69,9.22,11.73,11.85,20,30,40], 'd': [1,0.906,0.706,0.52,0.346,0.247,0.153,0.153,0.153]})\n",
    "\n",
    "def convert_time2diamater(t1,value):\n",
    "        diff = np.zeros(len(t1))\n",
    "        for i in range(len(t1)):\n",
    "                diff[i] = pd.Series((t1[i] - value)**2)\n",
    "    \n",
    "        for i in range(len(t1)):\n",
    "            if diff[i] == min(diff):\n",
    "                out = i\n",
    "        return y1[out]\n",
    "\n",
    "for j in range(len(tau)):\n",
    "    num = [K]\n",
    "    den = [tau[j],1]\n",
    "    sys1 = signal.TransferFunction(num,den)\n",
    "    t1,y1 = signal.step(sys1, T=np.linspace(0,45,100))\n",
    "\n",
    "    y1 = pre-(pre-final)*y1\n",
    "    t1 = pd.Series(t1 +delay)\n",
    "    pre_t = pd.Series(np.linspace(0,delay,100))\n",
    "    t1 = pre_t.append(t1,ignore_index=True)#\n",
    "    # t1 = pd.Series(t1)\n",
    "\n",
    "    y1 = pd.Series(y1)\n",
    "    pre_y = pd.Series(np.zeros(100) +1)\n",
    "    y1 = pre_y.append(y1, ignore_index=True)\n",
    "    \n",
    "    \n",
    "    diff = np.zeros(len(points))\n",
    "    for i in range(len(points)):\n",
    "        diff[i] = (points.loc[i,'d']-convert_time2diamater(t1,points.loc[i,'t']))**2\n",
    "    LS[j] = sum(diff)\n",
    "    \n",
    "for i in range(len(LS)):\n",
    "            if LS[i] == min(LS):\n",
    "                out = i\n",
    "                print(\"Optimised value of tau:\")\n",
    "                print(tau[i])\n",
    "\n",
    "print('LS for best value')\n",
    "print(LS[out])"
   ]
  },
  {
   "cell_type": "code",
   "execution_count": 10,
   "metadata": {},
   "outputs": [],
   "source": [
    "# a b and delay have to be optimised for. Final should be set? is this a correct idea? \n",
    "# or should i optimise for this too?\n",
    "\n",
    "# (1) Transfer Function\n",
    "num = [K]\n",
    "den = [tau[out],1]\n",
    "sys1 = signal.TransferFunction(num,den)\n",
    "t1,y1 = signal.step(sys1)\n",
    "\n",
    "y1 = pre-(pre-final)*y1\n",
    "t1 = pd.Series(t1 +delay)\n",
    "pre_t = pd.Series(np.linspace(0,delay,100))\n",
    "t1 = pre_t.append(t1,ignore_index=True)#\n",
    "# t1 = pd.Series(t1)\n",
    "\n",
    "y1 = pd.Series(y1)\n",
    "pre_y = pd.Series(np.zeros(100) +1)\n",
    "y1 = pre_y.append(y1, ignore_index=True)\n",
    "\n",
    "#lets do the LSE thing\n",
    "\n",
    "\n"
   ]
  },
  {
   "cell_type": "code",
   "execution_count": 32,
   "metadata": {},
   "outputs": [
    {
     "data": {
      "image/png": "[encoded data removed]",
      "text/plain": [
       "<Figure size 432x288 with 1 Axes>"
      ]
     },
     "metadata": {
      "needs_background": "light"
     },
     "output_type": "display_data"
    }
   ],
   "source": [
    "plt.figure(1)\n",
    "plt.plot(t1,y1,'b--',linewidth=2,label='Transfer Fcn')\n",
    "plt.scatter(points['t'],points['d'], color='r')\n",
    "plt.xlabel('Time')\n",
    "plt.ylabel('Response (y)')\n",
    "plt.ylim(0)\n",
    "plt.xlim(0)\n",
    "plt.legend(loc='best')\n",
    "plt.savefig(\"Pericyte response LS fit Ischaemia\")\n",
    "plt.show()"
   ]
  },
  {
   "cell_type": "code",
   "execution_count": 4,
   "metadata": {},
   "outputs": [
    {
     "ename": "NameError",
     "evalue": "name 'y' is not defined",
     "output_type": "error",
     "traceback": [
      "\u001b[1;31m---------------------------------------------------------------------------\u001b[0m",
      "\u001b[1;31mNameError\u001b[0m                                 Traceback (most recent call last)",
      "\u001b[1;32m<ipython-input-4-123af12c4a16>\u001b[0m in \u001b[0;36m<module>\u001b[1;34m\u001b[0m\n\u001b[0;32m     14\u001b[0m \u001b[1;32mdef\u001b[0m \u001b[0mmodel3\u001b[0m\u001b[1;33m(\u001b[0m\u001b[0my\u001b[0m\u001b[1;33m,\u001b[0m\u001b[0mu\u001b[0m\u001b[1;33m)\u001b[0m\u001b[1;33m:\u001b[0m\u001b[1;33m\u001b[0m\u001b[1;33m\u001b[0m\u001b[0m\n\u001b[0;32m     15\u001b[0m     \u001b[1;32mreturn\u001b[0m \u001b[1;33m(\u001b[0m\u001b[1;33m-\u001b[0m\u001b[0my\u001b[0m\u001b[1;33m/\u001b[0m\u001b[0ma\u001b[0m \u001b[1;33m+\u001b[0m \u001b[0mu\u001b[0m\u001b[1;33m)\u001b[0m\u001b[1;33m\u001b[0m\u001b[1;33m\u001b[0m\u001b[0m\n\u001b[1;32m---> 16\u001b[1;33m \u001b[0my\u001b[0m \u001b[1;33m=\u001b[0m \u001b[1;33m(\u001b[0m\u001b[1;36m1\u001b[0m\u001b[1;33m/\u001b[0m\u001b[0mb\u001b[0m\u001b[1;33m)\u001b[0m\u001b[1;33m*\u001b[0m\u001b[0modeint\u001b[0m\u001b[1;33m(\u001b[0m\u001b[0mmodel3\u001b[0m\u001b[1;33m(\u001b[0m\u001b[0my\u001b[0m\u001b[1;33m,\u001b[0m\u001b[0mu\u001b[0m\u001b[1;33m)\u001b[0m\u001b[1;33m,\u001b[0m\u001b[1;36m0\u001b[0m\u001b[1;33m,\u001b[0m\u001b[0mt\u001b[0m\u001b[1;33m)\u001b[0m\u001b[1;33m\u001b[0m\u001b[1;33m\u001b[0m\u001b[0m\n\u001b[0m\u001b[0;32m     17\u001b[0m \u001b[1;33m\u001b[0m\u001b[0m\n\u001b[0;32m     18\u001b[0m \u001b[0mplt\u001b[0m\u001b[1;33m.\u001b[0m\u001b[0mfigure\u001b[0m\u001b[1;33m(\u001b[0m\u001b[1;36m1\u001b[0m\u001b[1;33m)\u001b[0m\u001b[1;33m\u001b[0m\u001b[1;33m\u001b[0m\u001b[0m\n",
      "\u001b[1;31mNameError\u001b[0m: name 'y' is not defined"
     ]
    }
   ],
   "source": [
    "# Simulate taup * dy/dt = -y + K*u\n",
    "a=300\n",
    "b=300\n",
    "##Create step function\n",
    "t = np.linspace(0,60,1001)\n",
    "u = np.zeros(len(t))\n",
    "for i in range(len(t)): \n",
    "    if t[i] <= 5:\n",
    "        u[i] = 1\n",
    "    else:\n",
    "        u[i] = 0\n",
    "\n",
    "# (3) ODE Integrator\n",
    "def model3(y,u):\n",
    "    return (-y/a + u)\n",
    "y = (1/b)*odeint(model3(y,u),0,t)\n",
    "\n",
    "plt.figure(1)\n",
    "plt.plot(t,y,'r-',linewidth=1)\n",
    "plt.xlabel('Time')\n",
    "plt.ylabel('Response (y)')\n",
    "plt.show()"
   ]
  },
  {
   "cell_type": "code",
   "execution_count": 23,
   "metadata": {},
   "outputs": [
    {
     "name": "stdout",
     "output_type": "stream",
     "text": [
      "LS for best value\n",
      "0.008865946431470602\n"
     ]
    }
   ],
   "source": [
    "K=1\n",
    "pre=1\n",
    "final =0.153\n",
    "delay = 7.62\n",
    "\n",
    "tau = linspace(2,3,num=100)\n",
    "LS = np.zeros(len(tau))\n",
    "points = pd.DataFrame({'t': [7.62,8.08,8.69,9.22,11.73,11.85,20,30,40], 'd': [1,0.906,0.706,0.52,0.346,0.247,0.153,0.153,0.153]})\n",
    "\n",
    "def convert_time2diamater(t1,value):\n",
    "        diff = np.zeros(len(t1))\n",
    "        for i in range(len(t1)):\n",
    "                diff[i] = pd.Series((t1[i] - value)**2)\n",
    "    \n",
    "        for i in range(len(t1)):\n",
    "            if diff[i] == min(diff):\n",
    "                out = i\n",
    "        return y1[out]\n",
    "\n",
    "for j in range(len(tau)):\n",
    "    num = [K]\n",
    "    den = [tau[j],1]\n",
    "    sys1 = signal.TransferFunction(num,den)\n",
    "    t1,y1 = signal.step(sys1, T=np.linspace(0,45,100))\n",
    "\n",
    "    y1 = pre-(pre-final)*y1\n",
    "    t1 = pd.Series(t1 +delay)\n",
    "    pre_t = pd.Series(np.linspace(0,delay,100))\n",
    "    t1 = pre_t.append(t1,ignore_index=True)#\n",
    "    # t1 = pd.Series(t1)\n",
    "\n",
    "    y1 = pd.Series(y1)\n",
    "    pre_y = pd.Series(np.zeros(100) +1)\n",
    "    y1 = pre_y.append(y1, ignore_index=True)\n",
    "    \n",
    "    \n",
    "    diff = np.zeros(len(points))\n",
    "    for i in range(len(points)):\n",
    "        diff[i] = (points.loc[i,'d']-convert_time2diamater(t1,points.loc[i,'t']))**2\n",
    "    LS[j] = sum(diff)\n",
    "    \n",
    "for i in range(len(LS)):\n",
    "            if LS[i] == min(LS):\n",
    "                out = i\n",
    "\n",
    "print('LS for best value')\n",
    "print(LS[out])"
   ]
  },
  {
   "cell_type": "code",
   "execution_count": 24,
   "metadata": {},
   "outputs": [
    {
     "data": {
      "text/plain": [
       "0       0.000000\n",
       "1       0.076970\n",
       "2       0.153939\n",
       "3       0.230909\n",
       "4       0.307879\n",
       "         ...    \n",
       "195    50.801818\n",
       "196    51.256364\n",
       "197    51.710909\n",
       "198    52.165455\n",
       "199    52.620000\n",
       "Length: 200, dtype: float64"
      ]
     },
     "execution_count": 24,
     "metadata": {},
     "output_type": "execute_result"
    }
   ],
   "source": [
    "t1"
   ]
  },
  {
   "cell_type": "code",
   "execution_count": 21,
   "metadata": {},
   "outputs": [],
   "source": [
    "t1,y1 = signal.step(sys1, T=np.linspace(0,45,100))"
   ]
  },
  {
   "cell_type": "code",
   "execution_count": 22,
   "metadata": {},
   "outputs": [
    {
     "data": {
      "text/plain": [
       "array([ 0.        ,  0.45454545,  0.90909091,  1.36363636,  1.81818182,\n",
       "        2.27272727,  2.72727273,  3.18181818,  3.63636364,  4.09090909,\n",
       "        4.54545455,  5.        ,  5.45454545,  5.90909091,  6.36363636,\n",
       "        6.81818182,  7.27272727,  7.72727273,  8.18181818,  8.63636364,\n",
       "        9.09090909,  9.54545455, 10.        , 10.45454545, 10.90909091,\n",
       "       11.36363636, 11.81818182, 12.27272727, 12.72727273, 13.18181818,\n",
       "       13.63636364, 14.09090909, 14.54545455, 15.        , 15.45454545,\n",
       "       15.90909091, 16.36363636, 16.81818182, 17.27272727, 17.72727273,\n",
       "       18.18181818, 18.63636364, 19.09090909, 19.54545455, 20.        ,\n",
       "       20.45454545, 20.90909091, 21.36363636, 21.81818182, 22.27272727,\n",
       "       22.72727273, 23.18181818, 23.63636364, 24.09090909, 24.54545455,\n",
       "       25.        , 25.45454545, 25.90909091, 26.36363636, 26.81818182,\n",
       "       27.27272727, 27.72727273, 28.18181818, 28.63636364, 29.09090909,\n",
       "       29.54545455, 30.        , 30.45454545, 30.90909091, 31.36363636,\n",
       "       31.81818182, 32.27272727, 32.72727273, 33.18181818, 33.63636364,\n",
       "       34.09090909, 34.54545455, 35.        , 35.45454545, 35.90909091,\n",
       "       36.36363636, 36.81818182, 37.27272727, 37.72727273, 38.18181818,\n",
       "       38.63636364, 39.09090909, 39.54545455, 40.        , 40.45454545,\n",
       "       40.90909091, 41.36363636, 41.81818182, 42.27272727, 42.72727273,\n",
       "       43.18181818, 43.63636364, 44.09090909, 44.54545455, 45.        ])"
      ]
     },
     "execution_count": 22,
     "metadata": {},
     "output_type": "execute_result"
    }
   ],
   "source": [
    "t1"
   ]
  },
  {
   "cell_type": "code",
   "execution_count": null,
   "metadata": {},
   "outputs": [],
   "source": []
  }
 ],
 "metadata": {
  "kernelspec": {
   "display_name": "Python 3",
   "language": "python",
   "name": "python3"
  },
  "language_info": {
   "codemirror_mode": {
    "name": "ipython",
    "version": 3
   },
   "file_extension": ".py",
   "mimetype": "text/x-python",
   "name": "python",
   "nbconvert_exporter": "python",
   "pygments_lexer": "ipython3",
   "version": "3.7.4"
  }
 },
 "nbformat": 4,
 "nbformat_minor": 4
}
