{
 "cells": [
  {
   "cell_type": "markdown",
   "metadata": {},
   "source": [
    "# Model for baseline conditions only"
   ]
  },
  {
   "cell_type": "code",
   "execution_count": 14,
   "metadata": {},
   "outputs": [],
   "source": [
    "import pandas as pd\n",
    "import numpy as np\n",
    "import matplotlib.pyplot as plt\n",
    "import math"
   ]
  },
  {
   "cell_type": "markdown",
   "metadata": {},
   "source": [
    "#### For Attention List:\n",
    "1. Need to go through and check the units work properly. Note that the values didnt change when I removed units so seems okay\n",
    "2. Check units on flows\n",
    "3. Check units on Vt\n",
    "4. Add units to to all columns and decide upon my convention for this\n",
    "5. Check units and speak to Payne about the wall thickness calcs\n",
    "6. Is velocity redundant?  \n",
    "*TISSUE PARTIALS ARE DEFINITELY WRONG*"
   ]
  },
  {
   "cell_type": "markdown",
   "metadata": {},
   "source": [
    "#### Set Constants and paramaters"
   ]
  },
  {
   "cell_type": "code",
   "execution_count": 2,
   "metadata": {},
   "outputs": [],
   "source": [
    "#input params\n",
    "H = 0.42 #no units,ratio #Hematocrit assumed to be constant\n",
    "M = 30* 10e-9 #mol_ O2/(mL/s) #Taken from table 2 from Wiley Payne paper\n",
    "cHb = 0.2 #mL_O2/m #Taken from table 2 from Wiley Payne paper\n",
    "paO2_bar_t = 15 #mmHG #Taken from table 2 from Wiley Payne paper\n",
    "K = 5*10e-8\n",
    "\n",
    "##reset df\n",
    "df = None\n",
    "\n",
    "#Input data from paper\n",
    "df = pd.DataFrame({'Name': ['A1', 'A2', 'A3', 'A4', 'A5', 'A6', 'C', 'V6', 'V5', 'V4', 'V3', 'V2', 'V1'], \n",
    "                   'Number': [1, 2, 4, 8, 16, 32, 64, 32, 16, 8, 4, 2, 1],\n",
    "                   'Diameter(µm)': [23.97, 19.17, 15.28, 12.08, 9.46, 7.32, 8, 11.51, 14.53, 17.79, 21.45, 25.70, 30.77],\n",
    "                   'Length(µm)': [1267.6, 930.3, 543.6, 302.3, 161.2, 154.7, 243.9, 473.9, 272.3, 426.6, 632.5, 844.2, 936.3],\n",
    "                   'Viscocity(mPAs)': [1.59, 1.50, 1.42, 1.34, 1.28, 1.23, 1.24, 1.33, 1.40, 1.48, 1.55, 1.62, 1.7],\n",
    "                   'Pressure Drop(mmHg)': [6.93, 5.87, 4.02, 2.70, 1.82, 2.35, 2.62, 1.27, 0.61, 0.89, 1.31, 1.78, 2.01],\n",
    "                   'Saturation': [0.94, 0.93, 0.92, 0.89, 0.84, 0.765, 0.665, 0.61, 0.5975, 0.5875, 0.5825, 0.5775, 0.5725]\n",
    "                  })\n"
   ]
  },
  {
   "cell_type": "markdown",
   "metadata": {},
   "source": [
    "#### Calculate Flows and Vt"
   ]
  },
  {
   "cell_type": "code",
   "execution_count": 3,
   "metadata": {},
   "outputs": [],
   "source": [
    "#Calculate resistances of each vessel\n",
    "df['Resistance for U'] = 32 * df['Viscocity(mPAs)'] * df['Length(µm)'].div(df['Diameter(µm)']**2)\n",
    "df['Resistance for Q'] = 128 * df['Viscocity(mPAs)'] * df['Length(µm)'].div(math.pi*(df['Diameter(µm)']**4))\n",
    "\n",
    "#Alter resistances for C\n",
    "#These are aross each pressure drop (explains the doubled resistance for the capillaries as in paralell so have half the flow each (flow is shared))\n",
    "df.loc[df.index[df['Name'] == 'C'][0],'Resistance for U'] = df.loc[df.index[df['Name'] == 'C'][0],'Resistance for U']*2\n",
    "df.loc[df.index[df['Name'] == 'C'][0],'Resistance for Q'] = df.loc[df.index[df['Name'] == 'C'][0],'Resistance for Q']*2\n",
    "\n",
    "#Calculate flow and velocity in a single vessel\n",
    "df['U in single(m/s????)'] = df['Pressure Drop(mmHg)'].div(df['Resistance for U'])\n",
    "df['Q in single(m^3/s????)'] = df['Pressure Drop(mmHg)'].div(df['Resistance for Q'])\n",
    "\n",
    "#Calculate Vt\n",
    "df['Vt'] = df['Q in single(m^3/s????)']*cHb*H*df['Saturation']/M"
   ]
  },
  {
   "cell_type": "markdown",
   "metadata": {},
   "source": [
    "#### Calculate partial pressure in blood\n",
    "S and partial O2 relationship given by servinghaus 1979  \n",
    "Checked partial pressure against typical values online and it seems bang on."
   ]
  },
  {
   "cell_type": "code",
   "execution_count": 4,
   "metadata": {},
   "outputs": [],
   "source": [
    "def check_imag_roots_real(all_roots):\n",
    "    counter = 0\n",
    "    sols = 0\n",
    "    for i in range(len(all_roots)):\n",
    "        if all_roots[i].imag <= 10e-13 and all_roots[i].imag >= -10e-13:\n",
    "            sols = all_roots[i].real\n",
    "            counter += 1\n",
    "    if counter != 1:\n",
    "        print('Something seems wrong with the partial presure to Saturation cubic solver as not one solution is returned.')\n",
    "    return sols\n",
    " \n",
    "for i in range(len(df['Saturation'])):\n",
    "    root_temp = None\n",
    "    sols = 0\n",
    "    root_temp = np.roots([1,0,150,23400*df.loc[i,'Saturation']/(df.loc[i,'Saturation']-1)]) #gives mmHg , *133.322\n",
    "    sols = check_imag_roots_real(root_temp) \n",
    "    #sols = sols*133.322 ###Remove this step if want in mmHg\n",
    "    df.loc[i,'partial pressure blood(mmHg)'] = sols"
   ]
  },
  {
   "cell_type": "markdown",
   "metadata": {},
   "source": [
    "#### Calculate wall thickness\n",
    "Will take my vessel average partial pressure to be the 0.5(pin + pout)  \n",
    "All units were in mm so i played around with this equation from the paper  \n",
    "Equations are taken from Payne paper"
   ]
  },
  {
   "cell_type": "code",
   "execution_count": 5,
   "metadata": {},
   "outputs": [],
   "source": [
    "#all units were in mm so i played around with this equation from the paper\n",
    "df['X-Area wall(mm^2?)'] = np.pi * ( 0.16*(df['Diameter(µm)'])**2 + 1.4*(df['Diameter(µm)']) + 14 )\n",
    "df['wall thickness(µm)'] = ( -(df['Diameter(µm)']) + np.sqrt((df['Diameter(µm)'])**2 + (4*(df['X-Area wall(mm^2?)'])/np.pi)) ) / 2"
   ]
  },
  {
   "cell_type": "markdown",
   "metadata": {},
   "source": [
    "#### Calculate partial pressure in tissue\n",
    "Equations can be found on the week 1 or 2 notes from class. From steady state version of something on the paper"
   ]
  },
  {
   "cell_type": "code",
   "execution_count": 6,
   "metadata": {},
   "outputs": [],
   "source": [
    "df['tissue partials(mmHg)'] = df['partial pressure blood(mmHg)'] - M * df['Vt'] * df['wall thickness(µm)'] / (2 * np.pi * K * (df['Diameter(µm)']/2) * df['Length(µm)'])"
   ]
  },
  {
   "cell_type": "markdown",
   "metadata": {},
   "source": [
    "### SHOW RESULTS"
   ]
  },
  {
   "cell_type": "code",
   "execution_count": null,
   "metadata": {},
   "outputs": [],
   "source": []
  }
 ],
 "metadata": {
  "kernelspec": {
   "display_name": "Python 3",
   "language": "python",
   "name": "python3"
  },
  "language_info": {
   "codemirror_mode": {
    "name": "ipython",
    "version": 3
   },
   "file_extension": ".py",
   "mimetype": "text/x-python",
   "name": "python",
   "nbconvert_exporter": "python",
   "pygments_lexer": "ipython3",
   "version": "3.7.4"
  }
 },
 "nbformat": 4,
 "nbformat_minor": 4
}
