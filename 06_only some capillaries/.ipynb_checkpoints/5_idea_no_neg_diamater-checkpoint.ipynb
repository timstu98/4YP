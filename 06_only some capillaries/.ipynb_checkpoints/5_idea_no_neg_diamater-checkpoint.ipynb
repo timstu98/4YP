{
 "cells": [
  {
   "cell_type": "code",
   "execution_count": 1,
   "metadata": {},
   "outputs": [],
   "source": [
    "import pandas as pd\n",
    "import numpy as np\n",
    "import matplotlib.pyplot as plt\n",
    "import math\n",
    "\n",
    "windows = True # If on mac put false, windows true"
   ]
  },
  {
   "cell_type": "markdown",
   "metadata": {},
   "source": [
    "Can i write something which checks if it is stable? Say check the difference between the final two values say?  \n",
    "have a feeling there will be an error some where. maybe the way i calculate the resistance shouldnt be for all. think about the C line.  \n",
    "have worked out that it has to be under 3 delay with any alpha value."
   ]
  },
  {
   "cell_type": "markdown",
   "metadata": {},
   "source": [
    "#### data input"
   ]
  },
  {
   "cell_type": "code",
   "execution_count": 2,
   "metadata": {},
   "outputs": [],
   "source": [
    "if windows == True:\n",
    "    baselines = pd.read_csv(r\"C:\\Users\\timst\\Onedrive - Nexus365\\4YP\\python\\_storage\\baselines.csv\", index_col=0).rename(columns={\"Q in single(m^3/s????)\": \"baseline Q\"}) # FOR WINDOWS\n",
    "else:\n",
    "    baselines = pd.read_csv(r\"/Users/Debs/OneDrive - Nexus365/4YP/python/_storage/baselines.csv\", index_col=0).rename(columns={\"Q in single(m^3/s????)\": \"baseline Q\"}) # FOR MAC"
   ]
  },
  {
   "cell_type": "markdown",
   "metadata": {},
   "source": [
    "#### paramaters"
   ]
  },
  {
   "cell_type": "code",
   "execution_count": 3,
   "metadata": {},
   "outputs": [],
   "source": [
    "optimised_value_tau = 2.292929292929293\n",
    "phi_min_baseline = 0.153\n",
    "n=1\n",
    "max_time = 200 #standard 200\n",
    "no = 1001 #standard 101\n",
    "delay_pressure_drop = 15"
   ]
  },
  {
   "cell_type": "markdown",
   "metadata": {},
   "source": [
    "#### work out vectors"
   ]
  },
  {
   "cell_type": "code",
   "execution_count": 4,
   "metadata": {},
   "outputs": [],
   "source": [
    "t = pd.Series(np.linspace(0,max_time,no))\n",
    "dt = max_time/(no-1)\n",
    "\n",
    "#### PRessure stuff\n",
    "pressure_in = pd.Series(np.zeros(len(t)))\n",
    "ratio_drop = 0.5\n",
    "for i in range(len(t)):\n",
    "    if t[i] <= delay_pressure_drop:\n",
    "        pressure_in[i] = 60\n",
    "    else:\n",
    "        pressure_in[i] = 60 - 34.18*ratio_drop\n",
    "pressure_out = pd.Series(np.zeros(len(t))) + 60 - 34.18\n",
    "pressure_difference = pressure_in - pressure_out"
   ]
  },
  {
   "cell_type": "markdown",
   "metadata": {},
   "source": [
    "## Model"
   ]
  },
  {
   "cell_type": "markdown",
   "metadata": {},
   "source": [
    "#### Functions"
   ]
  },
  {
   "cell_type": "code",
   "execution_count": 5,
   "metadata": {},
   "outputs": [],
   "source": [
    "def total_R(baselines,phi,alpha):\n",
    "    if phi == 0:\n",
    "        C_ = 1000000000000000 # should maken a better value for infinite\n",
    "    else:\n",
    "        C_ = alpha*(baselines.loc[6,'Resistance for Q']/2)/phi**4 + (1-alpha)*(baselines.loc[6,'Resistance for Q']/2)\n",
    "    C_6 = (C_ + baselines.loc[5,'Resistance for Q'] + baselines.loc[7,'Resistance for Q'])/2\n",
    "    C_65 = (C_6 + baselines.loc[4,'Resistance for Q'] + baselines.loc[8,'Resistance for Q'])/2\n",
    "    C_654 = (C_65 + baselines.loc[3,'Resistance for Q'] + baselines.loc[9,'Resistance for Q'])/2\n",
    "    C_6543 = (C_654 + baselines.loc[2,'Resistance for Q'] + baselines.loc[10,'Resistance for Q'])/2\n",
    "    C_65432 = (C_6543 + baselines.loc[1,'Resistance for Q'] + baselines.loc[11,'Resistance for Q'])/2\n",
    "    C_654321 = C_65432 + baselines.loc[0,'Resistance for Q'] + baselines.loc[12,'Resistance for Q']\n",
    "    R_total = C_654321\n",
    "    return R_total\n",
    "\n",
    "def euler(alpha,delay):\n",
    "    delay_number = round(delay/dt)\n",
    "    \n",
    "    \n",
    "    R_tot = pd.Series(np.zeros(len(t)))\n",
    "    Q_tot = pd.Series(np.zeros(len(t)))\n",
    "    Q_norm = pd.Series(np.ones(len(t)))\n",
    "    \n",
    "    phi = pd.Series(np.ones(no))\n",
    "    phi_min = pd.Series(np.ones(no))\n",
    "    dphidt = pd.Series(np.zeros(no))\n",
    "    \n",
    "    for i in range(len(t)):\n",
    "        \n",
    "        if i >=delay_number: \n",
    "            R_tot[i] = total_R(baselines,phi[i],alpha)\n",
    "            Q_tot[i] = pressure_difference[i]/R_tot[i]\n",
    "            Q_norm[i] = Q_tot[i] / baselines['baseline Q'][0]\n",
    "            dphidt[i] =  (1/optimised_value_tau)*( -phi[i-delay_number] + Q_norm[i]*(1-phi_min[i]) + phi_min[i] )\n",
    "            \n",
    "            if dphidt[i]*dt + phi[i] < 0:\n",
    "                phi[i+1] = 0\n",
    "            else:\n",
    "                phi[i+1] = dphidt[i]*dt + phi[i]\n",
    "                \n",
    "            phi_min[i+1] = 1-(1-phi_min_baseline)*(1-Q_norm[i])**n\n",
    "            \n",
    "    combined = pd.DataFrame()\n",
    "    combined['t'] = t\n",
    "    combined['pressure_difference'] = pressure_difference\n",
    "    combined['phi'] = phi\n",
    "    combined['phi_min'] = phi_min\n",
    "    combined['dphidt'] = dphidt\n",
    "    combined['R_tot'] = R_tot\n",
    "    combined['Q_tot'] = Q_tot\n",
    "    combined['Q_norm'] = Q_norm\n",
    "            \n",
    "    return combined"
   ]
  },
  {
   "cell_type": "markdown",
   "metadata": {},
   "source": [
    "#### the loop"
   ]
  },
  {
   "cell_type": "code",
   "execution_count": 8,
   "metadata": {},
   "outputs": [],
   "source": [
    "# min_alpha = 0\n",
    "# max_alpha = 1\n",
    "# num_alpha = 5\n",
    "# alpha = np.linspace(min_alpha,max_alpha,num=num_alpha)\n",
    "alpha = [0,1]\n",
    "\n",
    "min_delay = 1\n",
    "max_delay = 3\n",
    "num_delay = 2\n",
    "delay = np.linspace(min_delay,max_delay, num=num_delay)\n",
    "\n",
    "response = {}\n",
    "yay_or_nay = pd.DataFrame()\n",
    "\n",
    "for i in range(len(alpha)):\n",
    "    for j in range(len(delay)):\n",
    "        #first is alpha second is delay\n",
    "        response[i,j] = euler(alpha[i],delay[j])\n",
    "        if len(response[i,j][response[i,j]['phi'] < 0]) == 0:\n",
    "            yay_or_nay.loc[alpha[i],delay[j]] = 1\n",
    "        else:\n",
    "            yay_or_nay.loc[alpha[i],delay[j]] = 0\n",
    "yay_or_nay.index.name = 'alpha'\n",
    "yay_or_nay = yay_or_nay.rename_axis('delay', axis=1)"
   ]
  },
  {
   "cell_type": "code",
   "execution_count": 9,
   "metadata": {},
   "outputs": [
    {
     "data": {
      "text/html": [
       "<div>\n",
       "<style scoped>\n",
       "    .dataframe tbody tr th:only-of-type {\n",
       "        vertical-align: middle;\n",
       "    }\n",
       "\n",
       "    .dataframe tbody tr th {\n",
       "        vertical-align: top;\n",
       "    }\n",
       "\n",
       "    .dataframe thead th {\n",
       "        text-align: right;\n",
       "    }\n",
       "</style>\n",
       "<table border=\"1\" class=\"dataframe\">\n",
       "  <thead>\n",
       "    <tr style=\"text-align: right;\">\n",
       "      <th></th>\n",
       "      <th>t</th>\n",
       "      <th>pressure_difference</th>\n",
       "      <th>phi</th>\n",
       "      <th>phi_min</th>\n",
       "      <th>dphidt</th>\n",
       "      <th>R_tot</th>\n",
       "      <th>Q_tot</th>\n",
       "      <th>Q_norm</th>\n",
       "    </tr>\n",
       "  </thead>\n",
       "  <tbody>\n",
       "    <tr>\n",
       "      <td>0</td>\n",
       "      <td>0.0</td>\n",
       "      <td>34.18</td>\n",
       "      <td>1.000000</td>\n",
       "      <td>1.000000</td>\n",
       "      <td>0.0</td>\n",
       "      <td>0.000000</td>\n",
       "      <td>0.000000</td>\n",
       "      <td>1.000000</td>\n",
       "    </tr>\n",
       "    <tr>\n",
       "      <td>1</td>\n",
       "      <td>0.2</td>\n",
       "      <td>34.18</td>\n",
       "      <td>1.000000</td>\n",
       "      <td>1.000000</td>\n",
       "      <td>0.0</td>\n",
       "      <td>0.000000</td>\n",
       "      <td>0.000000</td>\n",
       "      <td>1.000000</td>\n",
       "    </tr>\n",
       "    <tr>\n",
       "      <td>2</td>\n",
       "      <td>0.4</td>\n",
       "      <td>34.18</td>\n",
       "      <td>1.000000</td>\n",
       "      <td>1.000000</td>\n",
       "      <td>0.0</td>\n",
       "      <td>0.000000</td>\n",
       "      <td>0.000000</td>\n",
       "      <td>1.000000</td>\n",
       "    </tr>\n",
       "    <tr>\n",
       "      <td>3</td>\n",
       "      <td>0.6</td>\n",
       "      <td>34.18</td>\n",
       "      <td>1.000000</td>\n",
       "      <td>1.000000</td>\n",
       "      <td>0.0</td>\n",
       "      <td>0.000000</td>\n",
       "      <td>0.000000</td>\n",
       "      <td>1.000000</td>\n",
       "    </tr>\n",
       "    <tr>\n",
       "      <td>4</td>\n",
       "      <td>0.8</td>\n",
       "      <td>34.18</td>\n",
       "      <td>1.000000</td>\n",
       "      <td>1.000000</td>\n",
       "      <td>0.0</td>\n",
       "      <td>0.000000</td>\n",
       "      <td>0.000000</td>\n",
       "      <td>1.000000</td>\n",
       "    </tr>\n",
       "    <tr>\n",
       "      <td>...</td>\n",
       "      <td>...</td>\n",
       "      <td>...</td>\n",
       "      <td>...</td>\n",
       "      <td>...</td>\n",
       "      <td>...</td>\n",
       "      <td>...</td>\n",
       "      <td>...</td>\n",
       "      <td>...</td>\n",
       "    </tr>\n",
       "    <tr>\n",
       "      <td>996</td>\n",
       "      <td>199.2</td>\n",
       "      <td>17.09</td>\n",
       "      <td>0.788086</td>\n",
       "      <td>0.576336</td>\n",
       "      <td>0.0</td>\n",
       "      <td>1.227366</td>\n",
       "      <td>13.924129</td>\n",
       "      <td>0.499807</td>\n",
       "    </tr>\n",
       "    <tr>\n",
       "      <td>997</td>\n",
       "      <td>199.4</td>\n",
       "      <td>17.09</td>\n",
       "      <td>0.788086</td>\n",
       "      <td>0.576336</td>\n",
       "      <td>0.0</td>\n",
       "      <td>1.227366</td>\n",
       "      <td>13.924129</td>\n",
       "      <td>0.499807</td>\n",
       "    </tr>\n",
       "    <tr>\n",
       "      <td>998</td>\n",
       "      <td>199.6</td>\n",
       "      <td>17.09</td>\n",
       "      <td>0.788086</td>\n",
       "      <td>0.576336</td>\n",
       "      <td>0.0</td>\n",
       "      <td>1.227366</td>\n",
       "      <td>13.924129</td>\n",
       "      <td>0.499807</td>\n",
       "    </tr>\n",
       "    <tr>\n",
       "      <td>999</td>\n",
       "      <td>199.8</td>\n",
       "      <td>17.09</td>\n",
       "      <td>0.788086</td>\n",
       "      <td>0.576336</td>\n",
       "      <td>0.0</td>\n",
       "      <td>1.227366</td>\n",
       "      <td>13.924129</td>\n",
       "      <td>0.499807</td>\n",
       "    </tr>\n",
       "    <tr>\n",
       "      <td>1000</td>\n",
       "      <td>200.0</td>\n",
       "      <td>17.09</td>\n",
       "      <td>0.788086</td>\n",
       "      <td>0.576336</td>\n",
       "      <td>0.0</td>\n",
       "      <td>1.227366</td>\n",
       "      <td>13.924129</td>\n",
       "      <td>0.499807</td>\n",
       "    </tr>\n",
       "  </tbody>\n",
       "</table>\n",
       "<p>1001 rows × 8 columns</p>\n",
       "</div>"
      ],
      "text/plain": [
       "          t  pressure_difference       phi   phi_min  dphidt     R_tot  \\\n",
       "0       0.0                34.18  1.000000  1.000000     0.0  0.000000   \n",
       "1       0.2                34.18  1.000000  1.000000     0.0  0.000000   \n",
       "2       0.4                34.18  1.000000  1.000000     0.0  0.000000   \n",
       "3       0.6                34.18  1.000000  1.000000     0.0  0.000000   \n",
       "4       0.8                34.18  1.000000  1.000000     0.0  0.000000   \n",
       "...     ...                  ...       ...       ...     ...       ...   \n",
       "996   199.2                17.09  0.788086  0.576336     0.0  1.227366   \n",
       "997   199.4                17.09  0.788086  0.576336     0.0  1.227366   \n",
       "998   199.6                17.09  0.788086  0.576336     0.0  1.227366   \n",
       "999   199.8                17.09  0.788086  0.576336     0.0  1.227366   \n",
       "1000  200.0                17.09  0.788086  0.576336     0.0  1.227366   \n",
       "\n",
       "          Q_tot    Q_norm  \n",
       "0      0.000000  1.000000  \n",
       "1      0.000000  1.000000  \n",
       "2      0.000000  1.000000  \n",
       "3      0.000000  1.000000  \n",
       "4      0.000000  1.000000  \n",
       "...         ...       ...  \n",
       "996   13.924129  0.499807  \n",
       "997   13.924129  0.499807  \n",
       "998   13.924129  0.499807  \n",
       "999   13.924129  0.499807  \n",
       "1000  13.924129  0.499807  \n",
       "\n",
       "[1001 rows x 8 columns]"
      ]
     },
     "execution_count": 9,
     "metadata": {},
     "output_type": "execute_result"
    }
   ],
   "source": [
    "response[0,0]\n",
    "alpha[0]"
   ]
  },
  {
   "cell_type": "markdown",
   "metadata": {},
   "source": [
    "#### phi checker"
   ]
  },
  {
   "cell_type": "markdown",
   "metadata": {},
   "source": [
    "#### graphs"
   ]
  },
  {
   "cell_type": "code",
   "execution_count": 7,
   "metadata": {},
   "outputs": [
    {
     "data": {
      "image/png": "[encoded data removed]",
      "text/plain": [
       "<Figure size 1008x432 with 1 Axes>"
      ]
     },
     "metadata": {
      "needs_background": "light"
     },
     "output_type": "display_data"
    },
    {
     "data": {
      "image/png": "[encoded data removed]",
      "text/plain": [
       "<Figure size 1008x432 with 1 Axes>"
      ]
     },
     "metadata": {
      "needs_background": "light"
     },
     "output_type": "display_data"
    }
   ],
   "source": [
    "#set OPTION = 1 if want it to have a single value plot of delay with multiple alphas. \n",
    "#OPTION = 0 for single alpphas with multi delay\n",
    "OPTION = 1\n",
    "\n",
    "###Select which graphs\n",
    "#put alpha in or delay in if you want the whole range. or put the index of the ones you want eg. [0,4,6,8,9,10]\n",
    "# delay_graph = [0,1,2,3,4,5,6,7,8,9]\n",
    "delay_graph = np.arange(0,len(delay),1)\n",
    "# alpha_graph = [0,1,2,3,4]\n",
    "alpha_graph = np.arange(0,len(alpha),1)\n",
    "\n",
    "fig = {}\n",
    "ax = {}\n",
    "\n",
    "if OPTION == 1 :\n",
    "    for j in range(len(delay_graph)):\n",
    "        fig[j],ax[j] = plt.subplots(figsize=(14,6))\n",
    "        for i in range(len(alpha_graph)):\n",
    "            ax[j] = plt.plot(response[alpha_graph[i],delay_graph[j]]['t'],response[alpha_graph[i],delay_graph[j]]['phi'][0:len(t)],label='alpha:{}' .format(round(alpha[alpha_graph[i]], ndigits=2)))\n",
    "        fig[j] = plt.ylabel('normalised diameter')\n",
    "        fig[j] = plt.xlabel('time')\n",
    "        #ax[j] = plt.ylim(bottom=-0.5, top=1.5)\n",
    "        fig[j] = plt.title('delay : {}' .format(delay[delay_graph[j]]), fontsize=14)\n",
    "        fig[j] = plt.legend()\n",
    "        fig[j] = plt.grid(which='both')\n",
    "        \n",
    "elif OPTION == 0 :\n",
    "    for i in range(len(alpha_graph)):\n",
    "        fig[i],ax[i] = plt.subplots(figsize=(14,6))\n",
    "        for j in range(len(delay_graph)):\n",
    "            ax[i] = plt.plot(response[alpha_graph[i],delay_graph[j]]['t'],response[alpha_graph[i],delay_graph[j]]['phi'][0:len(t)],label='delay:{}' .format(round(delay[delay_graph[j]], ndigits=4)))\n",
    "        fig[i] = plt.ylabel('normalised diameter')\n",
    "        fig[i] = plt.xlabel('time')\n",
    "        ax[j] = plt.ylim(bottom=-0.5, top=1.5)\n",
    "        fig[i] = plt.title('alpha : {}' .format(alpha[alpha_graph[i]]), fontsize=14)\n",
    "        fig[i] = plt.legend()\n",
    "        fig[i] = plt.grid(which='both')"
   ]
  },
  {
   "cell_type": "code",
   "execution_count": null,
   "metadata": {},
   "outputs": [],
   "source": [
    "yay_or_nay"
   ]
  },
  {
   "cell_type": "code",
   "execution_count": null,
   "metadata": {},
   "outputs": [],
   "source": [
    "delay.index"
   ]
  },
  {
   "cell_type": "code",
   "execution_count": null,
   "metadata": {},
   "outputs": [],
   "source": []
  }
 ],
 "metadata": {
  "kernelspec": {
   "display_name": "Python 3",
   "language": "python",
   "name": "python3"
  },
  "language_info": {
   "codemirror_mode": {
    "name": "ipython",
    "version": 3
   },
   "file_extension": ".py",
   "mimetype": "text/x-python",
   "name": "python",
   "nbconvert_exporter": "python",
   "pygments_lexer": "ipython3",
   "version": "3.7.4"
  }
 },
 "nbformat": 4,
 "nbformat_minor": 4
}
