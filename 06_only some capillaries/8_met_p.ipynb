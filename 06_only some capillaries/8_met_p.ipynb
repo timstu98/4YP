{
 "cells": [
  {
   "cell_type": "code",
   "execution_count": 1,
   "metadata": {},
   "outputs": [],
   "source": [
    "import pandas as pd\n",
    "import numpy as np\n",
    "import matplotlib.pyplot as plt\n",
    "import math\n",
    "from tqdm import tqdm\n",
    "\n",
    "windows = False # If on mac put false, windows true"
   ]
  },
  {
   "cell_type": "markdown",
   "metadata": {},
   "source": [
    "#### Didnt have the important alpha factor in on the phi_baseline thing"
   ]
  },
  {
   "cell_type": "markdown",
   "metadata": {},
   "source": [
    "Can i write something which checks if it is stable? Say check the difference between the final two values say?  \n",
    "have a feeling there will be an error some where. maybe the way i calculate the resistance shouldnt be for all. think about the C line.  \n",
    "have worked out that it has to be under 3 delay with any alpha value."
   ]
  },
  {
   "cell_type": "markdown",
   "metadata": {},
   "source": [
    "#### data input"
   ]
  },
  {
   "cell_type": "code",
   "execution_count": 2,
   "metadata": {},
   "outputs": [],
   "source": [
    "if windows == True:\n",
    "    baselines = pd.read_csv(r\"C:\\Users\\timst\\Onedrive - Nexus365\\4YP\\python\\_storage\\baselines\\baselines_met.csv\", index_col=0).rename(columns={\"Q in single(µm3/s)\": \"baseline Q\"}) # FOR WINDOWS\n",
    "else:\n",
    "    baselines = pd.read_csv(r\"/Users/Debs/OneDrive - Nexus365/4YP/python/_storage/baselines/baselines_met.csv\", index_col=0).rename(columns={\"Q in single(µm3/s)\": \"baseline Q\"}) # FOR MAC"
   ]
  },
  {
   "cell_type": "markdown",
   "metadata": {},
   "source": [
    "#### paramaters"
   ]
  },
  {
   "cell_type": "code",
   "execution_count": 3,
   "metadata": {},
   "outputs": [],
   "source": [
    "optimised_value_tau = 2.292929292929293\n",
    "phi_min_baseline = 0.153\n",
    "n=1\n",
    "max_time = 140\n",
    "no = 1501\n",
    "delay_pressure_drop = 15\n",
    "\n",
    "hill_constant = 2 # mmHg\n",
    "time_for_drop = 30\n",
    "ratio_drop = 0.5"
   ]
  },
  {
   "cell_type": "markdown",
   "metadata": {},
   "source": [
    "#### work out vectors"
   ]
  },
  {
   "cell_type": "code",
   "execution_count": 4,
   "metadata": {},
   "outputs": [
    {
     "name": "stdout",
     "output_type": "stream",
     "text": [
      "Time of simulation : 140 seconds\n",
      "Time step : 0.09333333333333334 seconds\n",
      "Number of iterations: 1501\n"
     ]
    }
   ],
   "source": [
    "t = pd.Series(np.linspace(0,max_time,no))\n",
    "dt = max_time/(no-1)\n",
    "drop_value = 60 - 34.18*ratio_drop\n",
    "\n",
    "#### PRessure stuff\n",
    "pressure_in = pd.Series(np.zeros(len(t)))\n",
    "for i in range(len(t)):\n",
    "    if t[i] <= delay_pressure_drop:\n",
    "        pressure_in[i] = 60\n",
    "    elif t[i] <= delay_pressure_drop + time_for_drop:\n",
    "        pressure_in[i] = 60 - ((t[i] - delay_pressure_drop)/time_for_drop)*(60-drop_value)\n",
    "    else:\n",
    "        pressure_in[i] = drop_value\n",
    "pressure_out = pd.Series(np.zeros(len(t))) + 60 - 34.18\n",
    "pressure_difference = pressure_in - pressure_out\n",
    "\n",
    "print('Time of simulation :',max_time,'seconds')\n",
    "print('Time step :',dt,'seconds')\n",
    "print('Number of iterations:',no)"
   ]
  },
  {
   "cell_type": "markdown",
   "metadata": {},
   "source": [
    "## Model"
   ]
  },
  {
   "cell_type": "markdown",
   "metadata": {},
   "source": [
    "#### Functions"
   ]
  },
  {
   "cell_type": "code",
   "execution_count": 5,
   "metadata": {},
   "outputs": [],
   "source": [
    "def total_R(baselines,phi,alpha):\n",
    "    C_ = alpha*(baselines.loc[6,'Resistance for Q']/2)/phi**4  + (1-alpha)*(baselines.loc[6,'Resistance for Q']/2)\n",
    "    C_6 = (C_ + baselines.loc[5,'Resistance for Q'] + baselines.loc[7,'Resistance for Q'])/2\n",
    "    C_65 = (C_6 + baselines.loc[4,'Resistance for Q'] + baselines.loc[8,'Resistance for Q'])/2\n",
    "    C_654 = (C_65 + baselines.loc[3,'Resistance for Q'] + baselines.loc[9,'Resistance for Q'])/2\n",
    "    C_6543 = (C_654 + baselines.loc[2,'Resistance for Q'] + baselines.loc[10,'Resistance for Q'])/2\n",
    "    C_65432 = (C_6543 + baselines.loc[1,'Resistance for Q'] + baselines.loc[11,'Resistance for Q'])/2\n",
    "    C_654321 = C_65432 + baselines.loc[0,'Resistance for Q'] + baselines.loc[12,'Resistance for Q']\n",
    "    R_total = C_654321\n",
    "    return R_total\n",
    "\n",
    "def euler(alpha,delay):\n",
    "    delay_number = round(delay/dt)\n",
    "    \n",
    "    R_tot = pd.Series(np.zeros(len(t)))\n",
    "    Q_tot = pd.Series(np.zeros(len(t)))\n",
    "    Q_norm = pd.Series(np.ones(len(t)))\n",
    "    \n",
    "    phi = pd.Series(np.ones(no))\n",
    "    phi_min = pd.Series(np.ones(no))\n",
    "    dphidt = pd.Series(np.zeros(no))\n",
    "    \n",
    "    for i in range(len(t)):\n",
    "        \n",
    "        if i >=delay_number: \n",
    "            R_tot[i] = total_R(baselines,phi[i],alpha)\n",
    "            Q_tot[i] = pressure_difference[i]/R_tot[i]\n",
    "            Q_norm[i] = Q_tot[i] / baselines['baseline Q'][0]\n",
    "            dphidt[i] =  (1/optimised_value_tau)*( -phi[i-delay_number] + Q_norm[i]*(1-phi_min[i]) + phi_min[i] )\n",
    "            phi[i+1] = dphidt[i]*dt + phi[i]\n",
    "            phi_min[i+1] = 1-(alpha**0.25)*(1-phi_min_baseline)*(1-Q_norm[i])**n\n",
    "            \n",
    "    combined = pd.DataFrame()\n",
    "    combined['t'] = t\n",
    "    combined['pressure_difference'] = pressure_difference\n",
    "    combined['phi'] = phi\n",
    "    combined['phi_min'] = phi_min\n",
    "    combined['dphidt'] = dphidt\n",
    "    combined['R_tot'] = R_tot\n",
    "    combined['Q_tot'] = Q_tot\n",
    "    combined['Q_norm'] = Q_norm\n",
    "            \n",
    "    return combined"
   ]
  },
  {
   "cell_type": "markdown",
   "metadata": {},
   "source": [
    "#### the loop"
   ]
  },
  {
   "cell_type": "code",
   "execution_count": null,
   "metadata": {},
   "outputs": [
    {
     "name": "stderr",
     "output_type": "stream",
     "text": [
      " 70%|███████   | 7/10 [00:24<00:10,  3.49s/it]"
     ]
    }
   ],
   "source": [
    "response = {}\n",
    "alpha = np.linspace(0,1,num=10)\n",
    "delay = np.linspace(0,10, num=10)\n",
    "for i in tqdm(range(len(alpha))):\n",
    "    for j in range(len(delay)):\n",
    "        #first is alpha second is delay\n",
    "        response[i,j] = euler(alpha[i],delay[j])"
   ]
  },
  {
   "cell_type": "markdown",
   "metadata": {},
   "source": [
    "#### graphs"
   ]
  },
  {
   "cell_type": "code",
   "execution_count": null,
   "metadata": {},
   "outputs": [],
   "source": [
    "\n",
    "###Select which graphs\n",
    "#put alpha in or delay in if you want the whole range\n",
    "# delay_graph = [0,3,4,8,9]\n",
    "# alpha_graph = [0,1,2,3,4,5,6,7,8,9]\n",
    "delay_graph = [2,3,4,5]\n",
    "alpha_graph = [0,1,2,3,4,5]\n",
    "\n",
    "fig={}\n",
    "ax={}\n",
    "# fig,ax = plt.subplots(figsize=(14,6))\n",
    "# fig = plt.grid(which='both')\n",
    "for i in range(len(delay_graph)):\n",
    "    scale = response[alpha_graph[j],delay_graph[i]].loc[0,'phi'] / pressure_in[0]\n",
    "    fig[i],ax[i] = plt.subplots(figsize=(14,6))\n",
    "    fig[i] = plt.grid(which='both')\n",
    "    for j in range(len(alpha_graph)):\n",
    "        ax[i] = plt.plot(response[alpha_graph[j],delay_graph[i]]['t'],response[alpha_graph[j],delay_graph[i]]['phi'][0:len(t)],label='alpha:{} delay:{}' .format(round(alpha[alpha_graph[j]], ndigits=2),round(delay[delay_graph[i]], ndigits=4)))\n",
    "    ax[i] = plt.plot(response[alpha_graph[j],delay_graph[i]]['t'],scale*(pressure_in),label='pressure in', color='0.8')\n",
    "    fig[i] = plt.ylim(0,1.5)\n",
    "    fig[i] = plt.legend()"
   ]
  },
  {
   "cell_type": "code",
   "execution_count": 15,
   "metadata": {},
   "outputs": [
    {
     "data": {
      "text/plain": [
       "1.0"
      ]
     },
     "execution_count": 15,
     "metadata": {},
     "output_type": "execute_result"
    }
   ],
   "source": [
    "response[alpha_graph[j],delay_graph[i]].loc[0,'phi']"
   ]
  },
  {
   "cell_type": "code",
   "execution_count": null,
   "metadata": {},
   "outputs": [],
   "source": []
  }
 ],
 "metadata": {
  "kernelspec": {
   "display_name": "Python 3",
   "language": "python",
   "name": "python3"
  },
  "language_info": {
   "codemirror_mode": {
    "name": "ipython",
    "version": 3
   },
   "file_extension": ".py",
   "mimetype": "text/x-python",
   "name": "python",
   "nbconvert_exporter": "python",
   "pygments_lexer": "ipython3",
   "version": "3.7.4"
  }
 },
 "nbformat": 4,
 "nbformat_minor": 4
}
