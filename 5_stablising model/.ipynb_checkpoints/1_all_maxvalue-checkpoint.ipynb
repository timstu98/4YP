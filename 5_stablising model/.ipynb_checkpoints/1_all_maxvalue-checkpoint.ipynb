{
 "cells": [
  {
   "cell_type": "code",
   "execution_count": 1,
   "metadata": {},
   "outputs": [],
   "source": [
    "import pandas as pd\n",
    "import numpy as np\n",
    "import matplotlib.pyplot as plt\n",
    "import math"
   ]
  },
  {
   "cell_type": "markdown",
   "metadata": {},
   "source": [
    "#### Euler"
   ]
  },
  {
   "cell_type": "markdown",
   "metadata": {},
   "source": [
    "## Baseline Conditions"
   ]
  },
  {
   "cell_type": "markdown",
   "metadata": {},
   "source": [
    "#### Set Constants and paramaters"
   ]
  },
  {
   "cell_type": "code",
   "execution_count": 2,
   "metadata": {},
   "outputs": [],
   "source": [
    "#input params\n",
    "H = 0.42 #no units,ratio #Hematocrit assumed to be constant\n",
    "M = 30* 10e-9 #mol_ O2/(mL/s) #Taken from table 2 from Wiley Payne paper\n",
    "cHb = 0.2 #mL_O2/m #Taken from table 2 from Wiley Payne paper\n",
    "paO2_bar_t = 15 #mmHG #Taken from table 2 from Wiley Payne paper\n",
    "K = 5*10e-8\n",
    "\n",
    "##reset df\n",
    "df = None\n",
    "\n",
    "#Input data from paper\n",
    "df = pd.DataFrame({'Name': ['A1', 'A2', 'A3', 'A4', 'A5', 'A6', 'C', 'V6', 'V5', 'V4', 'V3', 'V2', 'V1'], \n",
    "                   'Number': [1, 2, 4, 8, 16, 32, 64, 32, 16, 8, 4, 2, 1],\n",
    "                   'Diameter(µm)': [23.97, 19.17, 15.28, 12.08, 9.46, 7.32, 8, 11.51, 14.53, 17.79, 21.45, 25.70, 30.77],\n",
    "                   'Length(µm)': [1267.6, 930.3, 543.6, 302.3, 161.2, 154.7, 243.9, 473.9, 272.3, 426.6, 632.5, 844.2, 936.3],\n",
    "                   'Viscocity(mPAs)': [1.59, 1.50, 1.42, 1.34, 1.28, 1.23, 1.24, 1.33, 1.40, 1.48, 1.55, 1.62, 1.7],\n",
    "                   'Pressure Drop(mmHg)': [6.93, 5.87, 4.02, 2.70, 1.82, 2.35, 2.62, 1.27, 0.61, 0.89, 1.31, 1.78, 2.01],\n",
    "                   'Saturation': [0.94, 0.93, 0.92, 0.89, 0.84, 0.765, 0.665, 0.61, 0.5975, 0.5875, 0.5825, 0.5775, 0.5725],\n",
    "                   'dS': [0.01, 0.01, 0.02, 0.04, 0.0625,0.0875, 0.0775, 0.03375, 0.01125, 0.0075, 0.005, 0.005, 0.005]\n",
    "                  })\n"
   ]
  },
  {
   "cell_type": "markdown",
   "metadata": {},
   "source": [
    "#### Calculate Flows and Vt"
   ]
  },
  {
   "cell_type": "code",
   "execution_count": 3,
   "metadata": {},
   "outputs": [],
   "source": [
    "#Calculate resistances of each vessel\n",
    "df['Resistance for U'] = 32 * df['Viscocity(mPAs)'] * df['Length(µm)'].div(df['Diameter(µm)']**2)\n",
    "df['Resistance for Q'] = 128 * df['Viscocity(mPAs)'] * df['Length(µm)'].div(math.pi*(df['Diameter(µm)']**4))\n",
    "\n",
    "#Alter resistances for C\n",
    "#These are aross each pressure drop (explains the doubled resistance for the capillaries as in paralell so have half the flow each (flow is shared))\n",
    "df.loc[df.index[df['Name'] == 'C'][0],'Resistance for U'] = df.loc[df.index[df['Name'] == 'C'][0],'Resistance for U']*2\n",
    "df.loc[df.index[df['Name'] == 'C'][0],'Resistance for Q'] = df.loc[df.index[df['Name'] == 'C'][0],'Resistance for Q']*2\n",
    "\n",
    "#Calculate flow and velocity in a single vessel\n",
    "df['U in single(m/s????)'] = df['Pressure Drop(mmHg)'].div(df['Resistance for U'])\n",
    "df['Q in single(m^3/s????)'] = df['Pressure Drop(mmHg)'].div(df['Resistance for Q'])\n",
    "\n",
    "#Find change in saturdation from data on saturation curve\n",
    "# S = pd.Series([])\n",
    "\n",
    "#Calculate Vt CHANGE IN SATURATIO  YA SHIT HEAD\n",
    "df['Vt'] = df['Q in single(m^3/s????)']*cHb*H*df['dS']/M"
   ]
  },
  {
   "cell_type": "code",
   "execution_count": 4,
   "metadata": {},
   "outputs": [],
   "source": [
    "#all units were in mm so i played around with this equation from the paper\n",
    "df['X-Area wall(mm^2?)'] = np.pi * ( 0.16*(df['Diameter(µm)'])**2 + 1.4*(df['Diameter(µm)']) + 14 )\n",
    "df['wall thickness(µm)'] = ( -(df['Diameter(µm)']) + np.sqrt((df['Diameter(µm)'])**2 + (4*(df['X-Area wall(mm^2?)'])/np.pi)) ) / 2"
   ]
  },
  {
   "cell_type": "markdown",
   "metadata": {},
   "source": [
    "#### Calculate partial pressure in tissue\n",
    "Equations can be found on the week 1 or 2 notes from class. From steady state version of something on the paper"
   ]
  },
  {
   "cell_type": "markdown",
   "metadata": {},
   "source": [
    "#### Pull out the baseline conditions"
   ]
  },
  {
   "cell_type": "code",
   "execution_count": 5,
   "metadata": {},
   "outputs": [
    {
     "data": {
      "text/html": [
       "<div>\n",
       "<style scoped>\n",
       "    .dataframe tbody tr th:only-of-type {\n",
       "        vertical-align: middle;\n",
       "    }\n",
       "\n",
       "    .dataframe tbody tr th {\n",
       "        vertical-align: top;\n",
       "    }\n",
       "\n",
       "    .dataframe thead th {\n",
       "        text-align: right;\n",
       "    }\n",
       "</style>\n",
       "<table border=\"1\" class=\"dataframe\">\n",
       "  <thead>\n",
       "    <tr style=\"text-align: right;\">\n",
       "      <th></th>\n",
       "      <th>Name</th>\n",
       "      <th>Number</th>\n",
       "      <th>Diameter(µm)</th>\n",
       "      <th>Length(µm)</th>\n",
       "      <th>Viscocity(mPAs)</th>\n",
       "      <th>Pressure Drop(mmHg)</th>\n",
       "      <th>Saturation</th>\n",
       "      <th>dS</th>\n",
       "      <th>Resistance for U</th>\n",
       "      <th>Resistance for Q</th>\n",
       "      <th>U in single(m/s????)</th>\n",
       "      <th>Q in single(m^3/s????)</th>\n",
       "      <th>Vt</th>\n",
       "      <th>X-Area wall(mm^2?)</th>\n",
       "      <th>wall thickness(µm)</th>\n",
       "    </tr>\n",
       "  </thead>\n",
       "  <tbody>\n",
       "    <tr>\n",
       "      <td>0</td>\n",
       "      <td>A1</td>\n",
       "      <td>1</td>\n",
       "      <td>23.97</td>\n",
       "      <td>1267.6</td>\n",
       "      <td>1.59</td>\n",
       "      <td>6.93</td>\n",
       "      <td>0.9400</td>\n",
       "      <td>0.01000</td>\n",
       "      <td>112.251787</td>\n",
       "      <td>0.248752</td>\n",
       "      <td>0.061736</td>\n",
       "      <td>27.859025</td>\n",
       "      <td>78005.271056</td>\n",
       "      <td>438.213672</td>\n",
       "      <td>4.841407</td>\n",
       "    </tr>\n",
       "    <tr>\n",
       "      <td>1</td>\n",
       "      <td>A2</td>\n",
       "      <td>2</td>\n",
       "      <td>19.17</td>\n",
       "      <td>930.3</td>\n",
       "      <td>1.50</td>\n",
       "      <td>5.87</td>\n",
       "      <td>0.9300</td>\n",
       "      <td>0.01000</td>\n",
       "      <td>121.512242</td>\n",
       "      <td>0.421004</td>\n",
       "      <td>0.048308</td>\n",
       "      <td>13.942870</td>\n",
       "      <td>39040.035790</td>\n",
       "      <td>313.016429</td>\n",
       "      <td>4.253658</td>\n",
       "    </tr>\n",
       "    <tr>\n",
       "      <td>2</td>\n",
       "      <td>A3</td>\n",
       "      <td>4</td>\n",
       "      <td>15.28</td>\n",
       "      <td>543.6</td>\n",
       "      <td>1.42</td>\n",
       "      <td>4.02</td>\n",
       "      <td>0.9200</td>\n",
       "      <td>0.02000</td>\n",
       "      <td>105.796442</td>\n",
       "      <td>0.576945</td>\n",
       "      <td>0.037997</td>\n",
       "      <td>6.967734</td>\n",
       "      <td>39019.312012</td>\n",
       "      <td>228.546291</td>\n",
       "      <td>3.810683</td>\n",
       "    </tr>\n",
       "    <tr>\n",
       "      <td>3</td>\n",
       "      <td>A4</td>\n",
       "      <td>8</td>\n",
       "      <td>12.08</td>\n",
       "      <td>302.3</td>\n",
       "      <td>1.34</td>\n",
       "      <td>2.70</td>\n",
       "      <td>0.8900</td>\n",
       "      <td>0.04000</td>\n",
       "      <td>88.829876</td>\n",
       "      <td>0.775060</td>\n",
       "      <td>0.030395</td>\n",
       "      <td>3.483601</td>\n",
       "      <td>39016.335895</td>\n",
       "      <td>170.463521</td>\n",
       "      <td>3.485850</td>\n",
       "    </tr>\n",
       "    <tr>\n",
       "      <td>4</td>\n",
       "      <td>A5</td>\n",
       "      <td>16</td>\n",
       "      <td>9.46</td>\n",
       "      <td>161.2</td>\n",
       "      <td>1.28</td>\n",
       "      <td>1.82</td>\n",
       "      <td>0.8400</td>\n",
       "      <td>0.06250</td>\n",
       "      <td>73.780690</td>\n",
       "      <td>1.049713</td>\n",
       "      <td>0.024668</td>\n",
       "      <td>1.733807</td>\n",
       "      <td>30341.627914</td>\n",
       "      <td>130.572935</td>\n",
       "      <td>3.265971</td>\n",
       "    </tr>\n",
       "    <tr>\n",
       "      <td>5</td>\n",
       "      <td>A6</td>\n",
       "      <td>32</td>\n",
       "      <td>7.32</td>\n",
       "      <td>154.7</td>\n",
       "      <td>1.23</td>\n",
       "      <td>2.35</td>\n",
       "      <td>0.7650</td>\n",
       "      <td>0.08750</td>\n",
       "      <td>113.637911</td>\n",
       "      <td>2.700295</td>\n",
       "      <td>0.020680</td>\n",
       "      <td>0.870275</td>\n",
       "      <td>21321.745183</td>\n",
       "      <td>103.110791</td>\n",
       "      <td>3.138293</td>\n",
       "    </tr>\n",
       "    <tr>\n",
       "      <td>6</td>\n",
       "      <td>C</td>\n",
       "      <td>64</td>\n",
       "      <td>8.00</td>\n",
       "      <td>243.9</td>\n",
       "      <td>1.24</td>\n",
       "      <td>2.62</td>\n",
       "      <td>0.6650</td>\n",
       "      <td>0.07750</td>\n",
       "      <td>302.436000</td>\n",
       "      <td>6.016773</td>\n",
       "      <td>0.008663</td>\n",
       "      <td>0.435449</td>\n",
       "      <td>9449.251212</td>\n",
       "      <td>111.338044</td>\n",
       "      <td>3.172168</td>\n",
       "    </tr>\n",
       "    <tr>\n",
       "      <td>7</td>\n",
       "      <td>V6</td>\n",
       "      <td>32</td>\n",
       "      <td>11.51</td>\n",
       "      <td>473.9</td>\n",
       "      <td>1.33</td>\n",
       "      <td>1.27</td>\n",
       "      <td>0.6100</td>\n",
       "      <td>0.03375</td>\n",
       "      <td>152.243122</td>\n",
       "      <td>1.463178</td>\n",
       "      <td>0.008342</td>\n",
       "      <td>0.867974</td>\n",
       "      <td>8202.351518</td>\n",
       "      <td>161.197683</td>\n",
       "      <td>3.433626</td>\n",
       "    </tr>\n",
       "    <tr>\n",
       "      <td>8</td>\n",
       "      <td>V5</td>\n",
       "      <td>16</td>\n",
       "      <td>14.53</td>\n",
       "      <td>272.3</td>\n",
       "      <td>1.40</td>\n",
       "      <td>0.61</td>\n",
       "      <td>0.5975</td>\n",
       "      <td>0.01125</td>\n",
       "      <td>57.782247</td>\n",
       "      <td>0.348476</td>\n",
       "      <td>0.010557</td>\n",
       "      <td>1.750477</td>\n",
       "      <td>5514.003939</td>\n",
       "      <td>214.009514</td>\n",
       "      <td>3.730525</td>\n",
       "    </tr>\n",
       "    <tr>\n",
       "      <td>9</td>\n",
       "      <td>V4</td>\n",
       "      <td>8</td>\n",
       "      <td>17.79</td>\n",
       "      <td>426.6</td>\n",
       "      <td>1.48</td>\n",
       "      <td>0.89</td>\n",
       "      <td>0.5875</td>\n",
       "      <td>0.00750</td>\n",
       "      <td>63.838202</td>\n",
       "      <td>0.256826</td>\n",
       "      <td>0.013941</td>\n",
       "      <td>3.465382</td>\n",
       "      <td>7277.302540</td>\n",
       "      <td>281.309064</td>\n",
       "      <td>4.092089</td>\n",
       "    </tr>\n",
       "    <tr>\n",
       "      <td>10</td>\n",
       "      <td>V3</td>\n",
       "      <td>4</td>\n",
       "      <td>21.45</td>\n",
       "      <td>632.5</td>\n",
       "      <td>1.55</td>\n",
       "      <td>1.31</td>\n",
       "      <td>0.5825</td>\n",
       "      <td>0.00500</td>\n",
       "      <td>68.184807</td>\n",
       "      <td>0.188688</td>\n",
       "      <td>0.019212</td>\n",
       "      <td>6.942696</td>\n",
       "      <td>9719.774569</td>\n",
       "      <td>369.597066</td>\n",
       "      <td>4.528591</td>\n",
       "    </tr>\n",
       "    <tr>\n",
       "      <td>11</td>\n",
       "      <td>V2</td>\n",
       "      <td>2</td>\n",
       "      <td>25.70</td>\n",
       "      <td>844.2</td>\n",
       "      <td>1.62</td>\n",
       "      <td>1.78</td>\n",
       "      <td>0.5775</td>\n",
       "      <td>0.00500</td>\n",
       "      <td>66.258881</td>\n",
       "      <td>0.127729</td>\n",
       "      <td>0.026864</td>\n",
       "      <td>13.935804</td>\n",
       "      <td>19510.125903</td>\n",
       "      <td>489.015286</td>\n",
       "      <td>5.060357</td>\n",
       "    </tr>\n",
       "    <tr>\n",
       "      <td>12</td>\n",
       "      <td>V1</td>\n",
       "      <td>1</td>\n",
       "      <td>30.77</td>\n",
       "      <td>936.3</td>\n",
       "      <td>1.70</td>\n",
       "      <td>2.01</td>\n",
       "      <td>0.5725</td>\n",
       "      <td>0.00500</td>\n",
       "      <td>53.797108</td>\n",
       "      <td>0.072346</td>\n",
       "      <td>0.037363</td>\n",
       "      <td>27.783183</td>\n",
       "      <td>38896.456306</td>\n",
       "      <td>655.225845</td>\n",
       "      <td>5.716258</td>\n",
       "    </tr>\n",
       "  </tbody>\n",
       "</table>\n",
       "</div>"
      ],
      "text/plain": [
       "   Name  Number  Diameter(µm)  Length(µm)  Viscocity(mPAs)  \\\n",
       "0    A1       1         23.97      1267.6             1.59   \n",
       "1    A2       2         19.17       930.3             1.50   \n",
       "2    A3       4         15.28       543.6             1.42   \n",
       "3    A4       8         12.08       302.3             1.34   \n",
       "4    A5      16          9.46       161.2             1.28   \n",
       "5    A6      32          7.32       154.7             1.23   \n",
       "6     C      64          8.00       243.9             1.24   \n",
       "7    V6      32         11.51       473.9             1.33   \n",
       "8    V5      16         14.53       272.3             1.40   \n",
       "9    V4       8         17.79       426.6             1.48   \n",
       "10   V3       4         21.45       632.5             1.55   \n",
       "11   V2       2         25.70       844.2             1.62   \n",
       "12   V1       1         30.77       936.3             1.70   \n",
       "\n",
       "    Pressure Drop(mmHg)  Saturation       dS  Resistance for U  \\\n",
       "0                  6.93      0.9400  0.01000        112.251787   \n",
       "1                  5.87      0.9300  0.01000        121.512242   \n",
       "2                  4.02      0.9200  0.02000        105.796442   \n",
       "3                  2.70      0.8900  0.04000         88.829876   \n",
       "4                  1.82      0.8400  0.06250         73.780690   \n",
       "5                  2.35      0.7650  0.08750        113.637911   \n",
       "6                  2.62      0.6650  0.07750        302.436000   \n",
       "7                  1.27      0.6100  0.03375        152.243122   \n",
       "8                  0.61      0.5975  0.01125         57.782247   \n",
       "9                  0.89      0.5875  0.00750         63.838202   \n",
       "10                 1.31      0.5825  0.00500         68.184807   \n",
       "11                 1.78      0.5775  0.00500         66.258881   \n",
       "12                 2.01      0.5725  0.00500         53.797108   \n",
       "\n",
       "    Resistance for Q  U in single(m/s????)  Q in single(m^3/s????)  \\\n",
       "0           0.248752              0.061736               27.859025   \n",
       "1           0.421004              0.048308               13.942870   \n",
       "2           0.576945              0.037997                6.967734   \n",
       "3           0.775060              0.030395                3.483601   \n",
       "4           1.049713              0.024668                1.733807   \n",
       "5           2.700295              0.020680                0.870275   \n",
       "6           6.016773              0.008663                0.435449   \n",
       "7           1.463178              0.008342                0.867974   \n",
       "8           0.348476              0.010557                1.750477   \n",
       "9           0.256826              0.013941                3.465382   \n",
       "10          0.188688              0.019212                6.942696   \n",
       "11          0.127729              0.026864               13.935804   \n",
       "12          0.072346              0.037363               27.783183   \n",
       "\n",
       "              Vt  X-Area wall(mm^2?)  wall thickness(µm)  \n",
       "0   78005.271056          438.213672            4.841407  \n",
       "1   39040.035790          313.016429            4.253658  \n",
       "2   39019.312012          228.546291            3.810683  \n",
       "3   39016.335895          170.463521            3.485850  \n",
       "4   30341.627914          130.572935            3.265971  \n",
       "5   21321.745183          103.110791            3.138293  \n",
       "6    9449.251212          111.338044            3.172168  \n",
       "7    8202.351518          161.197683            3.433626  \n",
       "8    5514.003939          214.009514            3.730525  \n",
       "9    7277.302540          281.309064            4.092089  \n",
       "10   9719.774569          369.597066            4.528591  \n",
       "11  19510.125903          489.015286            5.060357  \n",
       "12  38896.456306          655.225845            5.716258  "
      ]
     },
     "execution_count": 5,
     "metadata": {},
     "output_type": "execute_result"
    }
   ],
   "source": [
    "df_base = df\n",
    "df_base"
   ]
  },
  {
   "cell_type": "markdown",
   "metadata": {},
   "source": [
    "#### dropped by 50%"
   ]
  },
  {
   "cell_type": "code",
   "execution_count": 69,
   "metadata": {},
   "outputs": [
    {
     "name": "stdout",
     "output_type": "stream",
     "text": [
      "Final good value for i: 50\n",
      "delay value: 2.0\n"
     ]
    }
   ],
   "source": [
    "baselines = df_base[['Name','Number','Resistance for Q','Q in single(m^3/s????)','Vt','wall thickness(µm)','Diameter(µm)','Length(µm)']].rename(columns={\"Q in single(m^3/s????)\": \"baseline Q\"})\n",
    "\n",
    "def total_R(baselines,phi):\n",
    "    C_ = (baselines.loc[6,'Resistance for Q']/2)/phi**4\n",
    "    C_6 = (C_ + baselines.loc[5,'Resistance for Q'] + baselines.loc[7,'Resistance for Q'])/2\n",
    "    C_65 = (C_6 + baselines.loc[4,'Resistance for Q'] + baselines.loc[8,'Resistance for Q'])/2\n",
    "    C_654 = (C_65 + baselines.loc[3,'Resistance for Q'] + baselines.loc[9,'Resistance for Q'])/2\n",
    "    C_6543 = (C_654 + baselines.loc[2,'Resistance for Q'] + baselines.loc[10,'Resistance for Q'])/2\n",
    "    C_65432 = (C_6543 + baselines.loc[1,'Resistance for Q'] + baselines.loc[11,'Resistance for Q'])/2\n",
    "    C_654321 = C_65432 + baselines.loc[0,'Resistance for Q'] + baselines.loc[12,'Resistance for Q']\n",
    "    R_total = C_654321\n",
    "    return R_total\n",
    "\n",
    "max_time = 80\n",
    "no = 101\n",
    "t = pd.Series(np.linspace(0,max_time,no))\n",
    "\n",
    "ratio_drop = 0.5\n",
    "pressure_in = pd.Series(np.zeros(len(t)))\n",
    "for i in range(len(t)):\n",
    "    if t[i] <= 15:\n",
    "        pressure_in[i] = 60\n",
    "    else:\n",
    "        pressure_in[i] = 60 - 34.18*ratio_drop\n",
    "pressure_out = pd.Series(np.zeros(len(t))) + 60 - 34.18\n",
    "pressure_difference = pressure_in - pressure_out\n",
    "\n",
    "\n",
    "####Lets incorporate new model\n",
    "optimised_value_tau = 2.292929292929293\n",
    "phi_min_baseline = 0.153\n",
    "\n",
    "dt = max_time/(no-1)\n",
    "n=1\n",
    "\n",
    "\n",
    "#### Changing part\n",
    "def each_run(delay):\n",
    "    phi = pd.Series(np.ones(no))\n",
    "    phi_min = pd.Series(np.ones(no))\n",
    "    dphidt = pd.Series(np.zeros(no))\n",
    "    R_tot = pd.Series(np.zeros(len(t)))\n",
    "    Q_tot = pd.Series(np.zeros(len(t)))\n",
    "    Q_norm = pd.Series(np.ones(len(t)))\n",
    "    delay_number = pd.Series(np.zeros(len(t)))\n",
    "    \n",
    "    \n",
    "\n",
    "    for i in range(len(t)):      \n",
    "        if round(delay) < 0.5:\n",
    "            delay_number = 0\n",
    "        else:\n",
    "            delay_number = round(delay/dt)\n",
    "            \n",
    "        \n",
    "        if i >=delay_number: \n",
    "            R_tot[i] = total_R(baselines,phi[i])\n",
    "            Q_tot[i] = pressure_difference[i]/R_tot[i]\n",
    "            Q_norm[i] = Q_tot[i] / baselines['baseline Q'][0]    \n",
    "            dphidt[i] =  (1/optimised_value_tau)*( -phi[i-delay_number] + Q_norm[i]*(1-phi_min[i]) + phi_min[i] )\n",
    "            phi[i+1] = dphidt[i]*dt + phi[i]\n",
    "            phi_min[i+1] = 1-(1-phi_min_baseline)*(1-Q_norm[i])**n\n",
    "            if phi[i] < 0:\n",
    "                out = np.nan\n",
    "                return out\n",
    "\n",
    "    combined = pd.DataFrame()\n",
    "    combined['t'] = t\n",
    "    combined['pressure_difference'] = pressure_difference\n",
    "    combined['phi'] = phi\n",
    "    combined['phi_min'] = phi_min\n",
    "    combined['dphidt'] = dphidt\n",
    "    combined['R_tot'] = R_tot\n",
    "    combined['Q_tot'] = Q_tot\n",
    "    combined['Q_norm'] = Q_norm\n",
    "    return combined\n",
    "\n",
    "delay = pd.Series(np.linspace(1,3,101))\n",
    "master = {}\n",
    "\n",
    "for i in range(len(delay)):\n",
    "    master[i] = each_run(delay[i])\n",
    "    if type(master[i]) != pd.core.frame.DataFrame:\n",
    "        print('Final good value for i: {}' .format(i-1))\n",
    "        print('delay value: {}' .format(delay[i-1]))\n",
    "        break \n",
    "\n",
    "    "
   ]
  },
  {
   "cell_type": "code",
   "execution_count": 64,
   "metadata": {},
   "outputs": [
    {
     "data": {
      "text/plain": [
       "True"
      ]
     },
     "execution_count": 64,
     "metadata": {},
     "output_type": "execute_result"
    }
   ],
   "source": [
    "type(master[0]) == pd.core.frame.DataFrame"
   ]
  },
  {
   "cell_type": "code",
   "execution_count": 9,
   "metadata": {},
   "outputs": [
    {
     "data": {
      "image/png": "[encoded data removed]",
      "text/plain": [
       "<Figure size 432x288 with 1 Axes>"
      ]
     },
     "metadata": {
      "needs_background": "light"
     },
     "output_type": "display_data"
    }
   ],
   "source": [
    "fig, ax = plt.subplots()\n",
    "ax = plt.plot(t,Q_norm[0:len(t)], label='Q_norm')\n",
    "ax = plt.plot(t,dphidt[0:len(t)], label='dphidt')\n",
    "ax = plt.plot(t,phi[0:len(t)], label='phi')\n",
    "ax = plt.plot(t,phi_min[0:len(t)], label='phi_min')\n",
    "\n",
    "fig = plt.legend()"
   ]
  },
  {
   "cell_type": "code",
   "execution_count": 13,
   "metadata": {},
   "outputs": [],
   "source": [
    "#combined.iloc[30:80]"
   ]
  },
  {
   "cell_type": "code",
   "execution_count": 14,
   "metadata": {},
   "outputs": [
    {
     "data": {
      "text/plain": [
       "nan"
      ]
     },
     "execution_count": 14,
     "metadata": {},
     "output_type": "execute_result"
    }
   ],
   "source": [
    "np.nan"
   ]
  },
  {
   "cell_type": "code",
   "execution_count": 19,
   "metadata": {},
   "outputs": [
    {
     "data": {
      "text/plain": [
       "nan"
      ]
     },
     "execution_count": 19,
     "metadata": {},
     "output_type": "execute_result"
    }
   ],
   "source": [
    "master[0]"
   ]
  },
  {
   "cell_type": "code",
   "execution_count": 32,
   "metadata": {},
   "outputs": [
    {
     "data": {
      "text/plain": [
       "0.012012012012012012"
      ]
     },
     "execution_count": 32,
     "metadata": {},
     "output_type": "execute_result"
    }
   ],
   "source": [
    "delay[4]"
   ]
  },
  {
   "cell_type": "code",
   "execution_count": 37,
   "metadata": {},
   "outputs": [
    {
     "data": {
      "text/plain": [
       "0.0"
      ]
     },
     "execution_count": 37,
     "metadata": {},
     "output_type": "execute_result"
    }
   ],
   "source": [
    "round(delay[0])"
   ]
  },
  {
   "cell_type": "code",
   "execution_count": null,
   "metadata": {},
   "outputs": [],
   "source": []
  }
 ],
 "metadata": {
  "kernelspec": {
   "display_name": "Python 3",
   "language": "python",
   "name": "python3"
  },
  "language_info": {
   "codemirror_mode": {
    "name": "ipython",
    "version": 3
   },
   "file_extension": ".py",
   "mimetype": "text/x-python",
   "name": "python",
   "nbconvert_exporter": "python",
   "pygments_lexer": "ipython3",
   "version": "3.7.4"
  }
 },
 "nbformat": 4,
 "nbformat_minor": 4
}
