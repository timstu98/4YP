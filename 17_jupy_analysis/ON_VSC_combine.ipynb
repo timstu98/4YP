{
 "cells": [
  {
   "cell_type": "code",
   "execution_count": 15,
   "metadata": {},
   "outputs": [],
   "source": [
    "import pandas as pd\n",
    "import numpy as np\n",
    "import pickle\n",
    "from pathlib import Path\n",
    "from tqdm import tqdm\n",
    "folder = Path.cwd().parent\n",
    "from pydub import AudioSegment\n",
    "from pydub.playback import play\n",
    "\n",
    "number = '0010'"
   ]
  },
  {
   "cell_type": "code",
   "execution_count": 16,
   "metadata": {},
   "outputs": [
    {
     "name": "stdout",
     "output_type": "stream",
     "text": [
      "1\n",
      "2\n",
      "3\n",
      "4\n"
     ]
    }
   ],
   "source": [
    "main_path = folder / '_storage' / 'main' / number\n",
    "\n",
    "print('1')\n",
    "\n",
    "pickle_in = open(main_path / 'network.pickle'  , 'rb' )\n",
    "network = pickle.load(pickle_in)\n",
    "pickle_in.close()\n",
    "\n",
    "print('2')\n",
    "\n",
    "pickle_in2 = open(main_path / 'changes.pickle' , 'rb' )\n",
    "RK4 = pickle.load(pickle_in2)\n",
    "pickle_in2.close()\n",
    "\n",
    "print('3')\n",
    "\n",
    "pickle_in3 = open(main_path / 'vessels.pickle' , 'rb' )\n",
    "vessels_alltime = pickle.load(pickle_in3)\n",
    "pickle_in3.close()\n",
    "\n",
    "print('4')"
   ]
  },
  {
   "cell_type": "code",
   "execution_count": 17,
   "metadata": {},
   "outputs": [],
   "source": [
    "def time_step_display(i):\n",
    "    if i != 0:\n",
    "        print(network.iloc[[i-1,i,i+1],:])\n",
    "    else:\n",
    "        print(network.iloc[[i,i+1],:])\n",
    "    # print(pd.DataFrame(network.iloc[i-1,:]).transpose)\n",
    "    # print(network.iloc[i,:])\n",
    "    # print(network.iloc[i+1,:])\n",
    "\n",
    "    print(vessels_alltime[i])\n",
    "\n",
    "    print(RK4[i])\n",
    "\n",
    "def combine_network_changes(network,RK4):\n",
    "    network['dphidt'] = np.nan\n",
    "    network['dApdt'] = np.nan\n",
    "    network['dDpdt'] = np.nan\n",
    "    network['dAndt'] = np.nan\n",
    "    network['dDndt'] = np.nan\n",
    "    network['dcdt'] = np.nan\n",
    "    for i in tqdm(range(len(network)-5)):\n",
    "        network.at[i,'dphidt'] = RK4[i][4]\n",
    "        network.at[i,'dApdt'] = RK4[i][0]\n",
    "        network.at[i,'dDpdt'] = RK4[i][1]\n",
    "        network.at[i,'dAndt'] = RK4[i][2]\n",
    "        network.at[i,'dDndt'] = RK4[i][3]\n",
    "        network.at[i,'dcdt'] = RK4[i][5]\n",
    "\n",
    "    # print(network)\n",
    "\n",
    "    network.to_csv(main_path / 'combined_network.csv')\n",
    "    \n",
    "def combine_vessels_changes(vessels_alltime,RK4):\n",
    "    for i in tqdm(range(len(vessels_alltime)-5)):\n",
    "        vessels_alltime[i]['dptdt'] = RK4[i][6]['dptdt']\n",
    "        vessels_alltime[i]['dSoutdt'] = RK4[i][7]['dSoutdt']\n",
    "        vessels_alltime[i]['dSindt'] = RK4[i][8]['dSindt']\n",
    "\n",
    "    save = pd.concat(vessels_alltime)\n",
    "\n",
    "    save.to_csv(main_path / 'combined_vessels.csv')\n",
    "    \n",
    "    # pickle_out = open(main_path / 'combined_vessels.pickle','wb')\n",
    "    # pickle.dump(save,pickle_out)\n",
    "    # pickle_out.close()"
   ]
  },
  {
   "cell_type": "code",
   "execution_count": 18,
   "metadata": {},
   "outputs": [
    {
     "name": "stderr",
     "output_type": "stream",
     "text": [
      "100%|██████████| 5/5 [00:00<00:00, 5301.19it/s]\n",
      "100%|██████████| 4/4 [00:00<00:00, 522.69it/s]\n",
      "/Users/Debs/opt/anaconda3/lib/python3.7/site-packages/ipykernel_launcher.py:39: FutureWarning: Sorting because non-concatenation axis is not aligned. A future version\n",
      "of pandas will change to not sort by default.\n",
      "\n",
      "To accept the future behavior, pass 'sort=False'.\n",
      "\n",
      "To retain the current behavior and silence the warning, pass 'sort=True'.\n",
      "\n"
     ]
    }
   ],
   "source": [
    "combine_network_changes(network,RK4)\n",
    "out = combine_vessels_changes(vessels_alltime,RK4)\n",
    "\n",
    "\n",
    "\n",
    "# sound = AudioSegment.from_mp3('minecraft.mp3')\n",
    "# play(sound)"
   ]
  },
  {
   "cell_type": "code",
   "execution_count": 19,
   "metadata": {},
   "outputs": [
    {
     "data": {
      "text/plain": [
       "pandas.core.frame.DataFrame"
      ]
     },
     "execution_count": 19,
     "metadata": {},
     "output_type": "execute_result"
    }
   ],
   "source": [
    "type(network)"
   ]
  },
  {
   "cell_type": "code",
   "execution_count": null,
   "metadata": {},
   "outputs": [],
   "source": []
  }
 ],
 "metadata": {
  "kernelspec": {
   "display_name": "Python 3",
   "language": "python",
   "name": "python3"
  },
  "language_info": {
   "codemirror_mode": {
    "name": "ipython",
    "version": 3
   },
   "file_extension": ".py",
   "mimetype": "text/x-python",
   "name": "python",
   "nbconvert_exporter": "python",
   "pygments_lexer": "ipython3",
   "version": "3.7.4"
  }
 },
 "nbformat": 4,
 "nbformat_minor": 4
}
