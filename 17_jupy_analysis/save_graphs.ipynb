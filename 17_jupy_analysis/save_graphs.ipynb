{
 "cells": [
  {
   "cell_type": "code",
   "execution_count": 37,
   "metadata": {},
   "outputs": [],
   "source": [
    "import pandas as pd\n",
    "import numpy as np\n",
    "import matplotlib.pyplot as plt"
   ]
  },
  {
   "cell_type": "code",
   "execution_count": 41,
   "metadata": {},
   "outputs": [],
   "source": [
    "combined_vessels = pd.read_csv('combined_vessels.csv').rename(columns={'Unnamed: 1':'V no','Unnamed: 0':'time step'})\n",
    "network = pd.read_csv('combined_network.csv')"
   ]
  },
  {
   "cell_type": "code",
   "execution_count": 49,
   "metadata": {},
   "outputs": [],
   "source": [
    "def get_vessel(num):\n",
    "    out = combined_vessels[combined_vessels['V no'] == num]\n",
    "    return out\n",
    "\n",
    "def plt_v_t(column_string,vessel):\n",
    "    out = combined_vessels[combined_vessels['Name'] == vessel]\n",
    "    \n",
    "    fig = plt.figure()\n",
    "    plt.plot(network['t'][0:len(out)],out[column_string])\n",
    "    plt.title(vessel)\n",
    "    plt.ylabel(column_string)\n",
    "    plt.xlabel('Time / seconds')\n",
    "    plt.ylim(bottom=0)\n",
    "    plt.grid(which='both')\n",
    "#     plt.savefig(main_path / vessel + '_' + column_string + 'vs_t')"
   ]
  },
  {
   "cell_type": "code",
   "execution_count": 57,
   "metadata": {},
   "outputs": [
    {
     "data": {
      "image/png": "[encoded data removed]",
      "text/plain": [
       "<Figure size 432x288 with 1 Axes>"
      ]
     },
     "metadata": {
      "needs_background": "light"
     },
     "output_type": "display_data"
    }
   ],
   "source": [
    "plt_v_t('Sav','A3')"
   ]
  },
  {
   "cell_type": "code",
   "execution_count": 63,
   "metadata": {},
   "outputs": [
    {
     "data": {
      "text/plain": [
       "0.0024444444444444713"
      ]
     },
     "execution_count": 63,
     "metadata": {},
     "output_type": "execute_result"
    }
   ],
   "source": [
    "combined_vessels[combined_vessels['Name'] == 'C']['Sav'].iloc[0] - combined_vessels[combined_vessels['Name'] == 'C']['Sav'].iloc[-1]"
   ]
  },
  {
   "cell_type": "code",
   "execution_count": null,
   "metadata": {},
   "outputs": [],
   "source": []
  }
 ],
 "metadata": {
  "kernelspec": {
   "display_name": "Python 3",
   "language": "python",
   "name": "python3"
  },
  "language_info": {
   "codemirror_mode": {
    "name": "ipython",
    "version": 3
   },
   "file_extension": ".py",
   "mimetype": "text/x-python",
   "name": "python",
   "nbconvert_exporter": "python",
   "pygments_lexer": "ipython3",
   "version": "3.7.4"
  }
 },
 "nbformat": 4,
 "nbformat_minor": 4
}
