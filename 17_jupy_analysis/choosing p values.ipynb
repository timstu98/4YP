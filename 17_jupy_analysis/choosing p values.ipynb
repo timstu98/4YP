{
 "cells": [
  {
   "cell_type": "code",
   "execution_count": 4,
   "metadata": {},
   "outputs": [],
   "source": [
    "import pandas as pd\n",
    "import numpy as np\n",
    "import matplotlib.pyplot as plt\n",
    "from tqdm import tqdm\n",
    "from pathlib import Path\n",
    "folder = Path.cwd().parent"
   ]
  },
  {
   "cell_type": "code",
   "execution_count": 8,
   "metadata": {},
   "outputs": [],
   "source": [
    "baselines = pd.read_csv(folder / '_storage/baselines' / 'baselines_met.csv', index_col=0)\n",
    "baseline = baselines.drop(['Viscocity(mmHg*s)','Resistance for U', 'U in single(µm/s)'],axis=1).rename(columns={'Saturation ave': 'Sav'})\n",
    "constant = baseline.copy().drop(['Q in single(µm3/s)','Pressure Drop(mmHg)','Saturation in','Saturation out','Resistance for Q','dS','Sav','partial pressure blood(mmHg)','X-Area wall(???)','wall thickness(µm)','tissue partials(mmHg)'], axis=1)\n",
    "first_iteration_vessels = baseline.copy().loc[:,['Name','Number','Diameter(µm)','Length(µm)','Saturation in','Saturation out','Sav','Resistance for Q','Q in single(µm3/s)','Vt(µm3)','partial pressure blood(mmHg)','X-Area wall(???)','wall thickness(µm)','tissue partials(mmHg)']]"
   ]
  },
  {
   "cell_type": "code",
   "execution_count": 52,
   "metadata": {},
   "outputs": [],
   "source": [
    "sum_of_Vts = first_iteration_vessels['Vt(µm3)'].sum()\n",
    "baseline_pt_averaged = ( (first_iteration_vessels['tissue partials(mmHg)']*first_iteration_vessels['Vt(µm3)']).sum() ) / (first_iteration_vessels['Vt(µm3)'].sum())\n",
    "pt_averaged_50 = baseline_pt_averaged*0.5\n",
    "pt_averaged_5 = baseline_pt_averaged*0.1  \n",
    "\n",
    "kp_constant = 1/300 # s-1\n",
    "kn_constant = 1/150 # s-1\n",
    "\n",
    "# pt_averaged_50 = baseline_pt_averaged*0.5\n",
    "# pt_averaged_5 = baseline_pt_averaged*0.1  \n",
    "\n",
    "pt_averaged_50 = baseline_pt_averaged*0.5\n",
    "pt_averaged_5 = baseline_pt_averaged*0.2\n",
    "\n",
    "def single(pt):\n",
    "    \n",
    "    Ap = 1\n",
    "    Dp = 0\n",
    "\n",
    "    kp_p = (kn_constant/2)*(1-np.tanh( (pt-pt_averaged_50) / pt_averaged_5))\n",
    "    kp_n = (kn_constant/2)*(1+np.tanh( (pt-pt_averaged_50) / pt_averaged_5 ))\n",
    "    dApdt = -kp_p*Ap + kp_n*(1-Ap-Dp) #dAndt\n",
    "    dDpdt = kp_p*(1-Ap-Dp) #dDndt\n",
    "#     print(pt, '\\n dApdt:',dApdt,'\\n dDpdt:',dDpdt)\n",
    "    return dApdt\n",
    "\n",
    "# single(35)"
   ]
  },
  {
   "cell_type": "code",
   "execution_count": 53,
   "metadata": {},
   "outputs": [
    {
     "name": "stderr",
     "output_type": "stream",
     "text": [
      "100%|██████████| 100000/100000 [00:00<00:00, 143536.88it/s]\n"
     ]
    },
    {
     "data": {
      "text/plain": [
       "[<matplotlib.lines.Line2D at 0x129781950>]"
      ]
     },
     "execution_count": 53,
     "metadata": {},
     "output_type": "execute_result"
    },
    {
     "data": {
      "image/png": "[encoded data removed]",
      "text/plain": [
       "<Figure size 432x288 with 1 Axes>"
      ]
     },
     "metadata": {
      "needs_background": "light"
     },
     "output_type": "display_data"
    }
   ],
   "source": [
    "pt_averaged_50 = baseline_pt_averaged*1\n",
    "pt_averaged_5 = baseline_pt_averaged*0.1\n",
    "no = 100000\n",
    "pt= np.linspace(30,48,num=no)\n",
    "out = np.zeros(no)\n",
    "\n",
    "for i in tqdm(range(no)):\n",
    "    out[i] = single(pt[i])\n",
    "    \n",
    "plt.plot(pt,out)"
   ]
  },
  {
   "cell_type": "code",
   "execution_count": null,
   "metadata": {},
   "outputs": [],
   "source": []
  },
  {
   "cell_type": "code",
   "execution_count": 33,
   "metadata": {},
   "outputs": [
    {
     "data": {
      "text/plain": [
       "44.113829801035656"
      ]
     },
     "execution_count": 33,
     "metadata": {},
     "output_type": "execute_result"
    }
   ],
   "source": [
    "baseline_pt_averaged"
   ]
  },
  {
   "cell_type": "code",
   "execution_count": null,
   "metadata": {},
   "outputs": [],
   "source": []
  }
 ],
 "metadata": {
  "kernelspec": {
   "display_name": "Python 3",
   "language": "python",
   "name": "python3"
  },
  "language_info": {
   "codemirror_mode": {
    "name": "ipython",
    "version": 3
   },
   "file_extension": ".py",
   "mimetype": "text/x-python",
   "name": "python",
   "nbconvert_exporter": "python",
   "pygments_lexer": "ipython3",
   "version": "3.7.4"
  }
 },
 "nbformat": 4,
 "nbformat_minor": 4
}
