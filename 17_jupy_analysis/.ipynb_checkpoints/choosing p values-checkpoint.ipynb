{
 "cells": [
  {
   "cell_type": "code",
   "execution_count": 7,
   "metadata": {},
   "outputs": [],
   "source": [
    "import pandas as pd\n",
    "import numpy as np\n",
    "import matplotlib.pyplot as plt\n",
    "from tqdm import tqdm"
   ]
  },
  {
   "cell_type": "code",
   "execution_count": 8,
   "metadata": {},
   "outputs": [],
   "source": [
    "R = 1\n",
    "k = 0.1\n",
    "\n",
    "kp_constant = 1/300 # s-1\n",
    "kn_constant = 1/600 # s-1\n",
    "\n",
    "c_baseline = R/(1+k)\n",
    "# c_50 = c_baseline*10\n",
    "# c_5 = c_baseline\n",
    "\n",
    "def single(c):\n",
    "    \n",
    "    An = 1\n",
    "    Dn = 0\n",
    "\n",
    "    kn_p = (kn_constant/2)*(1+np.tanh( (c-c_50) / c_5))\n",
    "    kn_n = (kn_constant/2)*(1-np.tanh( (c-c_50) / c_5 ))\n",
    "    dAndt = -kn_p*An + kn_n*(1-An-Dn) #dAndt\n",
    "    dDndt = kn_p*(1-An-Dn) #dDndt\n",
    "#     print(c, '\\n dAndt:',dAndt,'\\n dDndt:',dDndt)\n",
    "    return dAndt"
   ]
  },
  {
   "cell_type": "code",
   "execution_count": 34,
   "metadata": {},
   "outputs": [
    {
     "name": "stderr",
     "output_type": "stream",
     "text": [
      "100%|██████████| 100000/100000 [00:00<00:00, 145390.71it/s]\n"
     ]
    },
    {
     "data": {
      "text/plain": [
       "[<matplotlib.lines.Line2D at 0x126fcc3d0>]"
      ]
     },
     "execution_count": 34,
     "metadata": {},
     "output_type": "execute_result"
    },
    {
     "data": {
      "image/png": "[encoded data removed]",
      "text/plain": [
       "<Figure size 432x288 with 1 Axes>"
      ]
     },
     "metadata": {
      "needs_background": "light"
     },
     "output_type": "display_data"
    }
   ],
   "source": [
    "c_50 = 1.1*c_baseline\n",
    "c_5 = 0.06*c_baseline\n",
    "no = 100000\n",
    "c= np.linspace(0.8,1.5,num=no)\n",
    "out = np.zeros(no)\n",
    "\n",
    "for i in tqdm(range(no)):\n",
    "    out[i] = single(c[i])\n",
    "    \n",
    "plt.plot(c,out)"
   ]
  },
  {
   "cell_type": "code",
   "execution_count": null,
   "metadata": {},
   "outputs": [],
   "source": []
  },
  {
   "cell_type": "code",
   "execution_count": null,
   "metadata": {},
   "outputs": [],
   "source": []
  }
 ],
 "metadata": {
  "kernelspec": {
   "display_name": "Python 3",
   "language": "python",
   "name": "python3"
  },
  "language_info": {
   "codemirror_mode": {
    "name": "ipython",
    "version": 3
   },
   "file_extension": ".py",
   "mimetype": "text/x-python",
   "name": "python",
   "nbconvert_exporter": "python",
   "pygments_lexer": "ipython3",
   "version": "3.7.4"
  }
 },
 "nbformat": 4,
 "nbformat_minor": 4
}
