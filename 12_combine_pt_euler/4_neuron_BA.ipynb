{
 "cells": [
  {
   "cell_type": "markdown",
   "metadata": {},
   "source": [
    "## LETS WORK TOWARD ITERROWS"
   ]
  },
  {
   "cell_type": "code",
   "execution_count": 1,
   "metadata": {},
   "outputs": [],
   "source": [
    "import pandas as pd\n",
    "import numpy as np\n",
    "import matplotlib.pyplot as plt\n",
    "import math\n",
    "import pickle\n",
    "%load_ext line_profiler\n",
    "from tqdm import tqdm\n",
    "\n",
    "windows = True # If on mac put false, windows true"
   ]
  },
  {
   "cell_type": "markdown",
   "metadata": {},
   "source": [
    "#### data input"
   ]
  },
  {
   "cell_type": "code",
   "execution_count": 2,
   "metadata": {},
   "outputs": [],
   "source": [
    "if windows == True:\n",
    "    baselines = pd.read_csv(r\"C:\\Users\\timst\\Onedrive - Nexus365\\4YP\\python\\_storage\\baselines\\baselines_met.csv\", index_col=0) # FOR WINDOWS\n",
    "    \n",
    "    pickle_in = open(r\"C:\\Users\\timst\\Onedrive - Nexus365\\4YP\\python\\_storage\\baselines\\baselines_pt_averaged.pickle\",'rb')\n",
    "    baseline_pt_averaged = pickle.load(pickle_in)\n",
    "else:\n",
    "    baselines = pd.read_csv(r\"/Users/Debs/OneDrive - Nexus365/4YP/python/_storage/baselines/baselines_met.csv\", index_col=0) # FOR MAC\n",
    "    \n",
    "    pickle_in = open(r\"/Users/Debs/OneDrive - Nexus365/4YP/python/_storage/baselines/baselines_pt_averaged.pickle\",'rb')\n",
    "    baseline_pt_averaged = pickle.load(pickle_in)"
   ]
  },
  {
   "cell_type": "markdown",
   "metadata": {},
   "source": [
    "#### paramaters"
   ]
  },
  {
   "cell_type": "code",
   "execution_count": 19,
   "metadata": {},
   "outputs": [],
   "source": [
    "#outside params, _o stands for original\n",
    "H = 0.42 #no units,ratio #Hematocrit assumed to be constant\n",
    "# M_o = 30* 10e-9 #mol_ O2/(mL/s) #Taken from table 2 from Wiley Payne paper\n",
    "cHb = 0.2 #mL_O2/mL #Taken from table 2 from Wiley Payne paper\n",
    "paO2_bar_t = 15 #mmHG #Taken from table 2 from Wiley Payne paper\n",
    "K_o = 5e-8 #µL/(mm*s*mmHg) #payne paper and boas et al\n",
    "alpha_t = 2.6e-5 #mL_O2/(mL*mmHg) from payne paper, solutbility coeff of oxygen in brain tissue\n",
    "\n",
    "#convert param to my SU\n",
    "M_constant = 8.20e-4 # cm3_O2/(cm3*s) , still unsure about the exact conversion so will just input in this section\n",
    "K = K_o * (1e6) # µm2/(s*mmHg)\n",
    "\n",
    "#model input params\n",
    "delay_pressure_drop = 4\n",
    "time_for_drop = 1\n",
    "optimised_value_tau = 2.292929292929293\n",
    "phi_min_baseline = 0.153\n",
    "n=1\n",
    "ratio_drop = 0.5\n",
    "hill_constant = 2 # mmHg\n",
    "# kp_constant = 1/300 # s-1\n",
    "kp_constant = 1/300 # s-1\n",
    "kn_constant = 1/600 # s-1\n",
    "\n",
    "#loop info\n",
    "# no = 1000001 #12501\n",
    "# max_time = 400\n",
    "no = 400001 #12501\n",
    "max_time = 300"
   ]
  },
  {
   "cell_type": "markdown",
   "metadata": {},
   "source": [
    "#### work out vectors"
   ]
  },
  {
   "cell_type": "code",
   "execution_count": 20,
   "metadata": {},
   "outputs": [
    {
     "name": "stdout",
     "output_type": "stream",
     "text": [
      "Time of simulation : 300 seconds\n",
      "Time vessels : 0.00075 seconds\n",
      "Number of iterations: 400001\n"
     ]
    }
   ],
   "source": [
    "t = pd.Series(np.linspace(0,max_time,no))\n",
    "dt = max_time/(no-1)\n",
    "drop_value = 60 - 34.18*ratio_drop\n",
    "\n",
    "#### PRessure stuff\n",
    "pressure_in = pd.Series(np.zeros(len(t)))\n",
    "for i in range(len(t)):\n",
    "    if t[i] <= delay_pressure_drop:\n",
    "        pressure_in[i] = 60\n",
    "    elif t[i] <= delay_pressure_drop + time_for_drop:\n",
    "        pressure_in[i] = 60 - ((t[i] - delay_pressure_drop)/time_for_drop)*(60-drop_value)\n",
    "    else:\n",
    "        pressure_in[i] = drop_value\n",
    "pressure_out = pd.Series(np.zeros(len(t))) + 60 - 34.18\n",
    "pressure_difference = pressure_in - pressure_out\n",
    "\n",
    "print('Time of simulation :',max_time,'seconds')\n",
    "print('Time vessels :',dt,'seconds')\n",
    "print('Number of iterations:',no)"
   ]
  },
  {
   "cell_type": "markdown",
   "metadata": {},
   "source": [
    "## Model"
   ]
  },
  {
   "cell_type": "markdown",
   "metadata": {},
   "source": [
    "#### Functions"
   ]
  },
  {
   "cell_type": "code",
   "execution_count": 21,
   "metadata": {},
   "outputs": [],
   "source": [
    "def total_R(baselines,phi,alpha):\n",
    "    \"\"\"Calculates the resistance of the network.\n",
    "    \n",
    "    \"\"\"\n",
    "    \n",
    "    C_ = alpha*(baselines.at[6,'Resistance for Q']/2)/phi**4  + (1-alpha)*(baselines.at[6,'Resistance for Q']/2)\n",
    "    C_6 = (C_ + baselines.at[5,'Resistance for Q'] + baselines.at[7,'Resistance for Q'])/2\n",
    "    C_65 = (C_6 + baselines.at[4,'Resistance for Q'] + baselines.at[8,'Resistance for Q'])/2\n",
    "    C_654 = (C_65 + baselines.at[3,'Resistance for Q'] + baselines.at[9,'Resistance for Q'])/2\n",
    "    C_6543 = (C_654 + baselines.at[2,'Resistance for Q'] + baselines.at[10,'Resistance for Q'])/2\n",
    "    C_65432 = (C_6543 + baselines.at[1,'Resistance for Q'] + baselines.at[11,'Resistance for Q'])/2\n",
    "    C_654321 = C_65432 + baselines.at[0,'Resistance for Q'] + baselines.at[12,'Resistance for Q']\n",
    "    R_total = C_654321\n",
    "    return R_total\n",
    " \n",
    "def check_imag_roots_real(two_roots):\n",
    "    \"\"\"Takes two imaginary roots from the Servinghaus equation and returns the real one.\n",
    "    \n",
    "    Will print if there is an error.\n",
    "    Returns real root.\"\"\"\n",
    "    \n",
    "    counter = 0\n",
    "    sols = 0\n",
    "    for i in range(len(two_roots)):\n",
    "        if two_roots[i].imag <= 10e-13 and two_roots[i].imag >= -10e-13:\n",
    "            sols = two_roots[i].real\n",
    "            counter += 1\n",
    "    if counter != 1:\n",
    "        print('Something seems wrong with the partial presure to Saturation cubic solver as not one solution is returned.')\n",
    "    return sols\n",
    "\n",
    "def master(alpha,delay,baselines):\n",
    "    \"\"\"Entire model.\n",
    "    \n",
    "    \"\"\"  \n",
    "    ###Set up\n",
    "    \n",
    "    delay_number = round(delay/dt) #finds nearest index to the \n",
    "    \n",
    "    network = pd.DataFrame()\n",
    "    network['t'] = t\n",
    "    network['pressure_difference'] = pressure_difference\n",
    "    network['phi'] = pd.Series(np.zeros(no))\n",
    "    network['phi_min'] = pd.Series(np.zeros(no))\n",
    "    network['dphidt'] = pd.Series(np.zeros(no))\n",
    "    network['R_tot'] = pd.Series(np.zeros(no))\n",
    "    network['Q_tot'] = pd.Series(np.zeros(no))\n",
    "    network['Q_norm'] = pd.Series(np.zeros(no))\n",
    "    network['pt_averaged'] = pd.Series(np.zeros(no))\n",
    "    \n",
    "    network['pt_averaged_50'] = pd.Series(np.zeros(no))\n",
    "    network['pt_averaged_5'] = pd.Series(np.zeros(no))\n",
    "    network['kp_p'] = pd.Series(np.zeros(no))\n",
    "    network['kp_n'] = pd.Series(np.zeros(no))\n",
    "    network['dApdt'] = pd.Series(np.zeros(no))\n",
    "    network['Ap'] = pd.Series(np.zeros(no))\n",
    "    network['dDpdt'] = pd.Series(np.zeros(no))\n",
    "    network['Dp'] = pd.Series(np.zeros(no))\n",
    "    \n",
    "    ### Initialise values\n",
    "    \n",
    "    network.at[0,'phi'] = 1\n",
    "    network.at[0,'phi_min'] = 1\n",
    "    network.at[0,'dphidt'] = 0\n",
    "    network.at[0,'Ap'] = 1\n",
    "    network.at[0,'Dp'] = 0\n",
    "    network.at[0,'pt_averaged'] = baseline_pt_averaged # kind of a bit of a different way to the rest. So I can embed the new parts where they should be in for loop.\n",
    "    \n",
    "    pt_averaged_50 = baseline_pt_averaged*0.8\n",
    "    pt_averaged_5 = baseline_pt_averaged*0.1\n",
    "    \n",
    "    R = 1\n",
    "    k = 0.1\n",
    "    tau_c = 1/600 #s-1\n",
    "    c_baseline = R/(1+k)\n",
    "    network.at[0,'c'] = c_baseline\n",
    "    c_50 = c_baseline*10\n",
    "    c_5 = c_baseline\n",
    "    network.at[0,'An'] = 1\n",
    "    network.at[0,'Dn'] = 0\n",
    "    \n",
    "    \n",
    "    for i in tqdm(range(len(t))):\n",
    "        \"\"\"For each time step:\n",
    "        \n",
    "        \"\"\"  \n",
    "        ### Update network paramaters\n",
    "        \n",
    "        network.at[i,'R_tot'] = total_R(baselines,network.at[i,'phi'],alpha)\n",
    "        network.at[i,'Q_tot'] = network.at[i,'pressure_difference']/network.at[i,'R_tot']\n",
    "        network.at[i,'Q_norm'] = network.at[i,'Q_tot'] / baselines['Q in single(µm3/s)'][0]\n",
    "        \n",
    "        #New bits:\n",
    "        network.at[i,'kp_p'] = (kp_constant/2)*(1-np.tanh( (network.at[i,'pt_averaged']-pt_averaged_50) / pt_averaged_5))\n",
    "        network.at[i,'kp_n'] = (kp_constant/2)*(1+np.tanh( (network.at[i,'pt_averaged']-pt_averaged_50) / pt_averaged_5 ))\n",
    "        network.at[i,'dApdt'] = -network.at[i,'kp_p']*network.at[i,'Ap'] + network.at[i,'kp_n']*(1-network.at[i,'Ap']-network.at[i,'Dp'])\n",
    "        network.at[i,'dDpdt'] = network.at[i,'kp_p']*(1-network.at[i,'Ap']-network.at[i,'Dp'])\n",
    "        \n",
    "        network.at[i,'kn_p'] = (kn_constant/2)*(1+np.tanh( (network.at[i,'c']-c_50) / c_5))\n",
    "        network.at[i,'kn_n'] = (kn_constant/2)*(1-np.tanh( (network.at[i,'c']-c_50) / c_5 ))\n",
    "        network.at[i,'dAndt'] = -network.at[i,'kn_p']*network.at[i,'An'] + network.at[i,'kn_n']*(1-network.at[i,'An']-network.at[i,'Dn'])\n",
    "        network.at[i,'dDndt'] = network.at[i,'kn_p']*(1-network.at[i,'An']-network.at[i,'Dn'])\n",
    "        \n",
    "        network.at[i,'dcdt'] = (1/tau_c)*(R-network.at[i,'c']*(k+network.at[i,'Q_norm']))\n",
    " \n",
    "\n",
    "        if i-delay_number <0: # As cant index before 0 as not initialised for that.\n",
    "            network.at[i,'dphidt'] =  (1/optimised_value_tau)*( - 1 + network.at[i,'Q_norm']*(1-network.at[i,'phi_min']) + network.at[i,'phi_min'] )\n",
    "        else:\n",
    "            network.at[i,'dphidt'] =  (1/optimised_value_tau)*( -network.at[i-delay_number,'phi'] + network.at[i,'Ap']*(network.at[i,'Q_norm']*(1-network.at[i,'phi_min']) + network.at[i,'phi_min']) )\n",
    "            \n",
    "        #Euler    \n",
    "        network.at[i+1,'phi'] = network.at[i,'dphidt']*dt + network.at[i,'phi']\n",
    "        network.at[i+1,'phi_min'] = 1-(alpha**0.25)*(1-phi_min_baseline)*(1-network.at[i,'Q_norm'])**n  \n",
    "        \n",
    "        network.at[i+1,'Ap'] = network.at[i,'dApdt']*dt + network.at[i,'Ap']   \n",
    "        network.at[i+1,'Dp'] = network.at[i,'dDpdt']*dt + network.at[i,'Dp']  \n",
    "        \n",
    "        network.at[i+1,'An'] = network.at[i,'dAndt']*dt + network.at[i,'An']   \n",
    "        network.at[i+1,'Dn'] = network.at[i,'dDndt']*dt + network.at[i,'Dn']  \n",
    "        network.at[i+1,'c'] = network.at[i,'dcdt']*dt + network.at[i,'c']  \n",
    "        #### Update Vessel paramaters\n",
    "        \n",
    "        # Euler from previous model. Necessary for: ...\n",
    "        if i == 0:                                  \n",
    "            vessels = first_iteration.copy()\n",
    "        else:\n",
    "            vessels = vessel_data_alltime[i-1].copy()\n",
    "            #Following works as I have loaded in previous values. Then updateding for the new ones Forwards Euler.\n",
    "            vessels['tissue partials(mmHg)'] = vessels['tissue partials(mmHg)'] + vessels['dptdt']*dt\n",
    "            vessels['Saturation out'] = vessels['Saturation out'] + vessels['dSoutdt']*dt\n",
    "            vessels['Saturation in'] = vessels['Saturation in'] + vessels['dSindt']*dt \n",
    "        #Update other values for new flow\n",
    "        vessels.at[6,'Diameter(µm)'] = baseline.at[6,'Diameter(µm)']*network.at[i,'phi']    \n",
    "        vessels.at[6,'X-Area wall(???)'] = np.pi * ( 0.16*(vessels.at[6,'Diameter(µm)'])**2 + 1.4*(vessels.at[6,'Diameter(µm)']) + 14 )\n",
    "        vessels.at[6,'wall thickness(µm)'] = ( -(vessels.at[6,'Diameter(µm)']) + np.sqrt((vessels.at[6,'Diameter(µm)'])**2 + (4*(vessels.at[6,'X-Area wall(???)'])/np.pi))) / 2\n",
    "        vessels['Saturation ave'] = (vessels['Saturation in']+vessels['Saturation out'])/2\n",
    "        vessels['M'] = (network.at[i,'An'])*M_constant*vessels['tissue partials(mmHg)']/(vessels['tissue partials(mmHg)']+hill_constant)\n",
    "        for j in range(len(vessels['Saturation ave'])):\n",
    "            root_temp = None\n",
    "            sols = 0\n",
    "            root_temp = np.roots([1,0,150,23400*vessels.at[j,'Saturation ave']/(vessels.at[j,'Saturation ave']-1)]) #gives mmHg\n",
    "            sols = check_imag_roots_real(root_temp) \n",
    "            vessels.at[j,'partial pressure blood(mmHg)'] = sols    \n",
    "        #Could just do the flow update as ratio of previous flow to new flow then times previous values by this ratio as all flows scale linearly.\n",
    "        for j in range(len(vessels)):\n",
    "            \"\"\"For each vessel\n",
    "            Update Q in single based on updated Q_tot\n",
    "            Calculate dSoutdt and make this dSindt for next vessel.\"\"\"\n",
    "            #Could definitely get rid of this by not updating. I ahve all the values I realistically need with one column. Just for completeness. Could just have dSoutdt for each vessel and know this is thenext ones dSinDt. and know for A1 is is 0.\n",
    "            if j ==0:\n",
    "                vessels.at[j,'dSindt'] = 0\n",
    "                vessels.at[j,'Q in single(µm3/s)'] = network.at[i,'Q_tot']\n",
    "            else:\n",
    "                vessels.at[j,'dSindt'] = vessels.at[j-1,'dSoutdt']\n",
    "                if j <=  6:\n",
    "                    vessels.at[j,'Q in single(µm3/s)'] = vessels.at[j-1,'Q in single(µm3/s)']/2\n",
    "                else:\n",
    "                    vessels.at[j,'Q in single(µm3/s)'] = vessels.at[j-1,'Q in single(µm3/s)']*2\n",
    "\n",
    "            vessels.at[j,'dSoutdt'] = 2/(np.pi*((vessels.at[j,'Diameter(µm)']**2)/4)*vessels.at[j,'Length(µm)']) \\\n",
    "                                    * ( - (2 * np.pi * K * (vessels.at[j,'Diameter(µm)']/2) * constant.at[j,'Length(µm)'])/(vessels.at[j,'wall thickness(µm)']*cHb*H) \\\n",
    "                                    * (vessels.at[j,'partial pressure blood(mmHg)']-vessels.at[j,'tissue partials(mmHg)'])\\\n",
    "                                    - vessels.at[j,'Q in single(µm3/s)']*(vessels.at[j,'Saturation out']-vessels.at[j,'Saturation in']) )\\\n",
    "                                    - vessels.at[j,'dSindt']\n",
    "            \n",
    "        ### The main show: calculating dpdt and other useful representations.\n",
    "        \n",
    "        vessels['dptdt'] = (1/(alpha_t*constant['Vt(µm3)']))\\\n",
    "                        *(((2 * np.pi * K * (vessels['Diameter(µm)']/2) * constant['Length(µm)'])/(vessels['wall thickness(µm)']))\\\n",
    "                        *(vessels['partial pressure blood(mmHg)']-vessels['tissue partials(mmHg)'])\\\n",
    "                        - vessels['M'] * constant['Vt(µm3)'])\n",
    "        vessels['pt_by_Vt'] = vessels['tissue partials(mmHg)'] * vessels['Vt(µm3)']\n",
    "\n",
    "        network.at[i+1,'pt_averaged'] = vessels['pt_by_Vt'].sum()/13 ###### BADDDDDDd\n",
    "\n",
    "        ### Save vessels to a dictionary\n",
    "        \n",
    "        vessel_data_alltime[i] = vessels\n",
    "    \n",
    "    ### To let you know whether it managed to run all the way through.\n",
    "    \n",
    "    if i == no-1:\n",
    "        print('finished')\n",
    "    else:\n",
    "        print('broken')\n",
    "    \n",
    "    return network, vessel_data_alltime"
   ]
  },
  {
   "cell_type": "markdown",
   "metadata": {},
   "source": [
    "#### Clean up baselines"
   ]
  },
  {
   "cell_type": "markdown",
   "metadata": {},
   "source": [
    "#### the loop"
   ]
  },
  {
   "cell_type": "code",
   "execution_count": 22,
   "metadata": {},
   "outputs": [
    {
     "name": "stderr",
     "output_type": "stream",
     "text": [
      "100%|██████████| 400001/400001 [53:23<00:00, 124.87it/s] \n"
     ]
    },
    {
     "name": "stdout",
     "output_type": "stream",
     "text": [
      "finished\n",
      "min: 1.4070181074364e-25\n",
      "final: 0.004980989134884685\n"
     ]
    },
    {
     "data": {
      "image/png": "[encoded data removed]",
      "text/plain": [
       "<Figure size 432x288 with 1 Axes>"
      ]
     },
     "metadata": {
      "needs_background": "light"
     },
     "output_type": "display_data"
    }
   ],
   "source": [
    "# Initialise Data, set up DFs\n",
    "baseline = baselines.drop(['Viscocity(mmHg*s)','Resistance for U', 'U in single(µm/s)'],axis=1)\n",
    "first_iteration = baseline.loc[:,['Name','Number','Diameter(µm)','Length(µm)','Saturation in','Saturation out','Resistance for Q','Q in single(µm3/s)','Vt(µm3)','partial pressure blood(mmHg)','X-Area wall(???)','wall thickness(µm)','tissue partials(mmHg)']].assign(dptdt = np.zeros(len(baseline)))\n",
    "constant = baseline.drop(['Q in single(µm3/s)','Pressure Drop(mmHg)','Saturation in','Saturation out','Resistance for Q','dS','Saturation ave','partial pressure blood(mmHg)','X-Area wall(???)','wall thickness(µm)','tissue partials(mmHg)'], axis=1)\n",
    "vessel_data_alltime = {}\n",
    "pt_averaged = pd.Series(np.zeros(len(t)))\n",
    "terms_data_alltime = {}\n",
    "\n",
    "alpha = 0.5\n",
    "delay = 2.99\n",
    "\n",
    "# %timeit euler2(alpha,delay,baselines)\n",
    "\n",
    "# %timeit -r 10 -n 1 run()\n",
    "        \n",
    "# %prun -s cumulative run()\n",
    "\n",
    "# %lprun -f master master(alpha,delay,baselines)\n",
    "\n",
    "N,V_alltime = master(alpha,delay,baselines)\n",
    "plt.plot(N['t'],N['Q_norm'])\n",
    "print('min:',min(N['Q_norm']))\n",
    "print('final:', N.at[len(N)-2,'Q_norm'])"
   ]
  },
  {
   "cell_type": "code",
   "execution_count": 1,
   "metadata": {},
   "outputs": [
    {
     "ename": "NameError",
     "evalue": "name 'plt' is not defined",
     "output_type": "error",
     "traceback": [
      "\u001b[0;31m---------------------------------------------------------------------------\u001b[0m",
      "\u001b[0;31mNameError\u001b[0m                                 Traceback (most recent call last)",
      "\u001b[0;32m<ipython-input-1-e67704e3d18b>\u001b[0m in \u001b[0;36m<module>\u001b[0;34m\u001b[0m\n\u001b[1;32m      2\u001b[0m \u001b[0;31m# plt.plot(N['t'],N['pt_averaged']/N.at[0,'pt_averaged'])\u001b[0m\u001b[0;34m\u001b[0m\u001b[0;34m\u001b[0m\u001b[0;34m\u001b[0m\u001b[0m\n\u001b[1;32m      3\u001b[0m \u001b[0;31m# min(N['pt_averaged']/N.at[0,'pt_averaged'])\u001b[0m\u001b[0;34m\u001b[0m\u001b[0;34m\u001b[0m\u001b[0;34m\u001b[0m\u001b[0m\n\u001b[0;32m----> 4\u001b[0;31m \u001b[0mplt\u001b[0m\u001b[0;34m.\u001b[0m\u001b[0mplot\u001b[0m\u001b[0;34m(\u001b[0m\u001b[0mN\u001b[0m\u001b[0;34m[\u001b[0m\u001b[0;34m't'\u001b[0m\u001b[0;34m]\u001b[0m\u001b[0;34m,\u001b[0m\u001b[0mN\u001b[0m\u001b[0;34m[\u001b[0m\u001b[0;34m'Ap'\u001b[0m\u001b[0;34m]\u001b[0m\u001b[0;34m)\u001b[0m\u001b[0;34m\u001b[0m\u001b[0;34m\u001b[0m\u001b[0m\n\u001b[0m\u001b[1;32m      5\u001b[0m \u001b[0mplt\u001b[0m\u001b[0;34m.\u001b[0m\u001b[0mplot\u001b[0m\u001b[0;34m(\u001b[0m\u001b[0mN\u001b[0m\u001b[0;34m[\u001b[0m\u001b[0;34m't'\u001b[0m\u001b[0;34m]\u001b[0m\u001b[0;34m,\u001b[0m\u001b[0mN\u001b[0m\u001b[0;34m[\u001b[0m\u001b[0;34m'Dp'\u001b[0m\u001b[0;34m]\u001b[0m\u001b[0;34m)\u001b[0m\u001b[0;34m\u001b[0m\u001b[0;34m\u001b[0m\u001b[0m\n\u001b[1;32m      6\u001b[0m \u001b[0mplt\u001b[0m\u001b[0;34m.\u001b[0m\u001b[0mplot\u001b[0m\u001b[0;34m(\u001b[0m\u001b[0mN\u001b[0m\u001b[0;34m[\u001b[0m\u001b[0;34m't'\u001b[0m\u001b[0;34m]\u001b[0m\u001b[0;34m,\u001b[0m\u001b[0mN\u001b[0m\u001b[0;34m[\u001b[0m\u001b[0;34m'An'\u001b[0m\u001b[0;34m]\u001b[0m\u001b[0;34m)\u001b[0m\u001b[0;34m\u001b[0m\u001b[0;34m\u001b[0m\u001b[0m\n",
      "\u001b[0;31mNameError\u001b[0m: name 'plt' is not defined"
     ]
    }
   ],
   "source": [
    "# plt.plot(N['t'],N['pt_averaged'])\n",
    "# plt.plot(N['t'],N['pt_averaged']/N.at[0,'pt_averaged'])\n",
    "# min(N['pt_averaged']/N.at[0,'pt_averaged'])\n",
    "plt.plot(N['t'],N['Ap'])\n",
    "plt.plot(N['t'],N['Dp'])\n",
    "plt.plot(N['t'],N['An'])\n",
    "plt.plot(N['t'],N['Dn'])"
   ]
  },
  {
   "cell_type": "code",
   "execution_count": null,
   "metadata": {},
   "outputs": [],
   "source": [
    "N"
   ]
  },
  {
   "cell_type": "code",
   "execution_count": null,
   "metadata": {},
   "outputs": [],
   "source": [
    "def plot_param(column_name,normal = 0):\n",
    "    df = None\n",
    "    string = None\n",
    "    df = pd.DataFrame({'A1': np.zeros(len(vessel_data_alltime)), 'A2': np.zeros(len(vessel_data_alltime)), 'A3': np.zeros(len(vessel_data_alltime)), 'A4': np.zeros(len(vessel_data_alltime)), 'A5': np.zeros(len(vessel_data_alltime)), 'A6': np.zeros(len(vessel_data_alltime)), 'C': np.zeros(len(vessel_data_alltime)), 'V6': np.zeros(len(vessel_data_alltime)), 'V5': np.zeros(len(vessel_data_alltime)), 'V4': np.zeros(len(vessel_data_alltime)), 'V3': np.zeros(len(vessel_data_alltime)),\n",
    "           'V2':np.zeros(len(vessel_data_alltime)), 'V1': np.zeros(len(vessel_data_alltime))})\n",
    "    for i in range(len(vessel_data_alltime)):\n",
    "        for j in range(len(vessel_data_alltime[0])):\n",
    "            df.iloc[i,j] = vessel_data_alltime[i].at[j,column_name]\n",
    "    fig,ax = plt.subplots(figsize=(10,8))\n",
    "    if normal == 1:\n",
    "        df_normal =  pd.DataFrame({'A1': np.zeros(len(vessel_data_alltime)), 'A2': np.zeros(len(vessel_data_alltime)), 'A3': np.zeros(len(vessel_data_alltime)), 'A4': np.zeros(len(vessel_data_alltime)), 'A5': np.zeros(len(vessel_data_alltime)), 'A6': np.zeros(len(vessel_data_alltime)), 'C': np.zeros(len(vessel_data_alltime)), 'V6': np.zeros(len(vessel_data_alltime)), 'V5': np.zeros(len(vessel_data_alltime)), 'V4': np.zeros(len(vessel_data_alltime)), 'V3': np.zeros(len(vessel_data_alltime)),\n",
    "                       'V2':np.zeros(len(vessel_data_alltime)), 'V1': np.zeros(len(vessel_data_alltime))})\n",
    "        for i in range(len(vessel_data_alltime[0])):\n",
    "            df_normal.iloc[:,i] = df.iloc[:,i] / baseline.at[i,column_name]\n",
    "        column_name = column_name + 'normal'\n",
    "        scale = df_normal.iloc[0,0] / pressure_difference[0]\n",
    "        plt.plot(t,scale*(pressure_difference),label='pressure in', color='0.8')\n",
    "        plt.ylim(0,1.1)\n",
    "    for i in range(13):\n",
    "        if normal ==0:\n",
    "            plt.plot(t,df.iloc[:,i], label=vessel_data_alltime[0].at[i,'Name'])\n",
    "        elif normal ==1:\n",
    "            plt.plot(t,df_normal.iloc[:,i], label=vessel_data_alltime[0].at[i,'Name'])\n",
    "        else:\n",
    "            print('error')\n",
    "    ax.legend()\n",
    "    plt.grid(which='both')\n",
    "    string = column_name + ' against time'\n",
    "    plt.ylabel(column_name)\n",
    "    plt.xlabel('time /s')\n",
    "    plt.title(string, fontsize=20)\n",
    "    \n",
    "# plot_param('partial pressure blood(mmHg)')\n",
    "plot_param('partial pressure blood(mmHg)',1)\n",
    "# plot_param('tissue partials(mmHg)')\n",
    "plot_param('tissue partials(mmHg)',1)\n",
    "plot_param('Saturation in')\n",
    "plot_param('Saturation out')\n",
    "# plot_param('pt_averaged')\n",
    "# plot_param('Q in single(µm3/s)')\n",
    "plot_param('Q in single(µm3/s)',1)\n",
    "# plot_param('dptdt')\n",
    "# plot_param('dSoutdt')\n",
    "# plot_param('dSindt')"
   ]
  },
  {
   "cell_type": "code",
   "execution_count": null,
   "metadata": {
    "jupyter": {
     "source_hidden": true
    }
   },
   "outputs": [],
   "source": [
    "save = False\n",
    "if save == True:\n",
    "    if windows == True:\n",
    "        pickle_out = open(r\"C:\\Users\\timst\\Onedrive - Nexus365\\4YP\\python\\_storage\\out_pressures_new.pickle\",'wb')\n",
    "        pickle.dump(vessel_data_alltime, pickle_out)\n",
    "        pickle_out.close()\n",
    "        \n",
    "        pickle_out2 = open(r\"C:\\Users\\timst\\Onedrive - Nexus365\\4YP\\python\\_storage\\terms_new.pickle\",'wb')\n",
    "        pickle.dump(terms_alltime, pickle_out2)\n",
    "        pickle_out2.close()\n",
    "    else:\n",
    "        pickle_out = open(r\"/Users/Debs/OneDrive - Nexus365/4YP/python/_storage/out_pressures_new_2_99.pickle\",'wb')\n",
    "        pickle.dump(vessel_data_alltime, pickle_out)\n",
    "        pickle_out.close()\n",
    "        \n",
    "        pickle_out2 = open(r\"/Users/Debs/OneDrive - Nexus365/4YP/python/_storage/terms_new_2_99.pickle\",'wb')\n",
    "        pickle.dump(terms_alltime, pickle_out2)\n",
    "        pickle_out2.close()\n",
    "#### CHANGE TO BASELINES WITHIN FOLDER. this means i dont need to worry about changing baselines for later calcls unless i absolutely want to"
   ]
  },
  {
   "cell_type": "code",
   "execution_count": 26,
   "metadata": {},
   "outputs": [
    {
     "data": {
      "text/plain": [
       "0.40146469786344946"
      ]
     },
     "execution_count": 26,
     "metadata": {},
     "output_type": "execute_result"
    }
   ],
   "source": [
    "min(N['Q_norm'])"
   ]
  },
  {
   "cell_type": "code",
   "execution_count": 59,
   "metadata": {},
   "outputs": [
    {
     "name": "stdout",
     "output_type": "stream",
     "text": [
      "final: 0.4740659919836162\n"
     ]
    }
   ],
   "source": [
    "print('final:', N.at[len(N)-2,'Q_norm'])"
   ]
  },
  {
   "cell_type": "code",
   "execution_count": null,
   "metadata": {},
   "outputs": [],
   "source": []
  }
 ],
 "metadata": {
  "kernelspec": {
   "display_name": "Python 3",
   "language": "python",
   "name": "python3"
  },
  "language_info": {
   "codemirror_mode": {
    "name": "ipython",
    "version": 3
   },
   "file_extension": ".py",
   "mimetype": "text/x-python",
   "name": "python",
   "nbconvert_exporter": "python",
   "pygments_lexer": "ipython3",
   "version": "3.7.4"
  }
 },
 "nbformat": 4,
 "nbformat_minor": 4
}
