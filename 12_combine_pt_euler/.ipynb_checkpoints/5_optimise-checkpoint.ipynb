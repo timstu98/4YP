{
 "cells": [
  {
   "cell_type": "markdown",
   "metadata": {},
   "source": [
    "## LETS WORK TOWARD ITERROWS"
   ]
  },
  {
   "cell_type": "code",
   "execution_count": 114,
   "metadata": {},
   "outputs": [
    {
     "name": "stdout",
     "output_type": "stream",
     "text": [
      "The line_profiler extension is already loaded. To reload it, use:\n",
      "  %reload_ext line_profiler\n"
     ]
    }
   ],
   "source": [
    "import pandas as pd\n",
    "import numpy as np\n",
    "import matplotlib.pyplot as plt\n",
    "import pickle\n",
    "%load_ext line_profiler\n",
    "from tqdm import tqdm\n",
    "from pathlib import Path\n",
    "import datetime\n",
    "\n",
    "folder = Path.cwd().parent\n",
    "save = False"
   ]
  },
  {
   "cell_type": "markdown",
   "metadata": {},
   "source": [
    "#### data input"
   ]
  },
  {
   "cell_type": "code",
   "execution_count": 22,
   "metadata": {},
   "outputs": [],
   "source": [
    "baselines = pd.read_csv(folder / '_storage/baselines' / 'baselines_met.csv', index_col=0)\n",
    "\n",
    "pickle_in = open(folder / '_storage/baselines' / 'baselines_pt_averaged.pickle' , 'rb')\n",
    "baseline_pt_averaged = pickle.load(pickle_in)\n",
    "pickle_in.close()"
   ]
  },
  {
   "cell_type": "markdown",
   "metadata": {},
   "source": [
    "#### paramaters"
   ]
  },
  {
   "cell_type": "code",
   "execution_count": 29,
   "metadata": {},
   "outputs": [],
   "source": [
    "#outside params, _o stands for original\n",
    "H = 0.42 #no units,ratio #Hematocrit assumed to be constant\n",
    "# M_o = 30* 10e-9 #mol_ O2/(mL/s) #Taken from table 2 from Wiley Payne paper\n",
    "cHb = 0.2 #mL_O2/mL #Taken from table 2 from Wiley Payne paper\n",
    "paO2_bar_t = 15 #mmHG #Taken from table 2 from Wiley Payne paper\n",
    "K_o = 5e-8 #µL/(mm*s*mmHg) #payne paper and boas et al\n",
    "alpha_t = 2.6e-5 #mL_O2/(mL*mmHg) from payne paper, solutbility coeff of oxygen in brain tissue\n",
    "\n",
    "#convert param to my SU\n",
    "M_constant = 8.20e-4 # cm3_O2/(cm3*s) , still unsure about the exact conversion so will just input in this section\n",
    "K = K_o * (1e6) # µm2/(s*mmHg)\n",
    "\n",
    "#model input params\n",
    "delay_pressure_drop = 4\n",
    "time_for_drop = 1\n",
    "optimised_value_tau = 2.292929292929293\n",
    "phi_min_baseline = 0.153\n",
    "n=1\n",
    "ratio_drop = 0.5\n",
    "hill_constant = 2 # mmHg\n",
    "kp_constant = 1/300 # s-1\n",
    "kn_constant = 1/600 # s-1\n",
    "\n",
    "#loop info\n",
    "no = 5001\n",
    "max_time = 20"
   ]
  },
  {
   "cell_type": "markdown",
   "metadata": {},
   "source": [
    "#### work out vectors"
   ]
  },
  {
   "cell_type": "code",
   "execution_count": 30,
   "metadata": {},
   "outputs": [
    {
     "name": "stdout",
     "output_type": "stream",
     "text": [
      "Time of simulation : 20 seconds\n",
      "Time vessels : 0.004 seconds\n",
      "Number of iterations: 5001\n"
     ]
    }
   ],
   "source": [
    "t = pd.Series(np.linspace(0,max_time,no))\n",
    "dt = max_time/(no-1)\n",
    "drop_value = 60 - 34.18*ratio_drop\n",
    "\n",
    "#### PRessure stuff\n",
    "pressure_in = pd.Series(np.zeros(len(t)))\n",
    "for i in range(len(t)):\n",
    "    if t[i] <= delay_pressure_drop:\n",
    "        pressure_in[i] = 60\n",
    "    elif t[i] <= delay_pressure_drop + time_for_drop:\n",
    "        pressure_in[i] = 60 - ((t[i] - delay_pressure_drop)/time_for_drop)*(60-drop_value)\n",
    "    else:\n",
    "        pressure_in[i] = drop_value\n",
    "pressure_out = pd.Series(np.zeros(len(t))) + 60 - 34.18\n",
    "pressure_difference = pressure_in - pressure_out\n",
    "\n",
    "print('Time of simulation :',max_time,'seconds')\n",
    "print('Time vessels :',dt,'seconds')\n",
    "print('Number of iterations:',no)"
   ]
  },
  {
   "cell_type": "markdown",
   "metadata": {},
   "source": [
    "## Model"
   ]
  },
  {
   "cell_type": "markdown",
   "metadata": {},
   "source": [
    "#### Functions"
   ]
  },
  {
   "cell_type": "code",
   "execution_count": 31,
   "metadata": {},
   "outputs": [],
   "source": [
    "def total_R(baselines,phi,alpha):\n",
    "    \"\"\"Calculates the resistance of the network.\n",
    "    \n",
    "    \"\"\"\n",
    "    \n",
    "    C_ = alpha*(baselines.at[6,'Resistance for Q']/2)/phi**4  + (1-alpha)*(baselines.at[6,'Resistance for Q']/2)\n",
    "    C_6 = (C_ + baselines.at[5,'Resistance for Q'] + baselines.at[7,'Resistance for Q'])/2\n",
    "    C_65 = (C_6 + baselines.at[4,'Resistance for Q'] + baselines.at[8,'Resistance for Q'])/2\n",
    "    C_654 = (C_65 + baselines.at[3,'Resistance for Q'] + baselines.at[9,'Resistance for Q'])/2\n",
    "    C_6543 = (C_654 + baselines.at[2,'Resistance for Q'] + baselines.at[10,'Resistance for Q'])/2\n",
    "    C_65432 = (C_6543 + baselines.at[1,'Resistance for Q'] + baselines.at[11,'Resistance for Q'])/2\n",
    "    C_654321 = C_65432 + baselines.at[0,'Resistance for Q'] + baselines.at[12,'Resistance for Q']\n",
    "    R_total = C_654321\n",
    "    return R_total\n",
    " \n",
    "def check_imag_roots_real(two_roots):\n",
    "    \"\"\"Takes two imaginary roots from the Servinghaus equation and returns the real one.\n",
    "    \n",
    "    Will print if there is an error.\n",
    "    Returns real root.\"\"\"\n",
    "    \n",
    "    counter = 0\n",
    "    sols = 0\n",
    "    for i in range(len(two_roots)):\n",
    "        if two_roots[i].imag <= 10e-13 and two_roots[i].imag >= -10e-13:\n",
    "            sols = two_roots[i].real\n",
    "            counter += 1\n",
    "    if counter != 1:\n",
    "        print('Something seems wrong with the partial presure to Saturation cubic solver as not one solution is returned.')\n",
    "    return sols\n",
    "\n",
    "def master(alpha,delay,baselines):\n",
    "    \"\"\"Entire model.\n",
    "    \n",
    "    \"\"\"  \n",
    "    ###Set up\n",
    "    \n",
    "    delay_number = round(delay/dt) #finds nearest index to the \n",
    "    no_vessels = 13\n",
    "    \n",
    "    network = pd.DataFrame()\n",
    "    network['t'] = t\n",
    "    network['pressure_difference'] = pressure_difference\n",
    "    network['phi'] = pd.Series(np.zeros(no))\n",
    "    network['phi_min'] = pd.Series(np.zeros(no))\n",
    "    network['dphidt'] = pd.Series(np.zeros(no))\n",
    "    network['R_tot'] = pd.Series(np.zeros(no))\n",
    "    network['Q_tot'] = pd.Series(np.zeros(no))\n",
    "    network['Q_norm'] = pd.Series(np.zeros(no))\n",
    "    network['pt_averaged'] = pd.Series(np.zeros(no))\n",
    "    \n",
    "    network['pt_averaged_50'] = pd.Series(np.zeros(no))\n",
    "    network['pt_averaged_5'] = pd.Series(np.zeros(no))\n",
    "    network['kp_p'] = pd.Series(np.zeros(no))\n",
    "    network['kp_n'] = pd.Series(np.zeros(no))\n",
    "    network['dApdt'] = pd.Series(np.zeros(no))\n",
    "    network['Ap'] = pd.Series(np.zeros(no))\n",
    "    network['dDpdt'] = pd.Series(np.zeros(no))\n",
    "    network['Dp'] = pd.Series(np.zeros(no))\n",
    "    \n",
    "    ### Initialise values\n",
    "    \n",
    "    network.at[0,'phi'] = 1\n",
    "    network.at[0,'phi_min'] = 1\n",
    "    network.at[0,'dphidt'] = 0\n",
    "    network.at[0,'Ap'] = 1\n",
    "    network.at[0,'Dp'] = 0\n",
    "    network.at[0,'pt_averaged'] = baseline_pt_averaged # kind of a bit of a different way to the rest. So I can embed the new parts where they should be in for loop.\n",
    "    \n",
    "    pt_averaged_50 = baseline_pt_averaged*0.5\n",
    "    pt_averaged_5 = baseline_pt_averaged*0.1\n",
    "    \n",
    "    R = 1\n",
    "    k = 0.1\n",
    "    tau_c = 1/600 #s-1\n",
    "    c_baseline = R/(1+k)\n",
    "    network.at[0,'c'] = c_baseline\n",
    "    c_50 = c_baseline*10\n",
    "    c_5 = c_baseline\n",
    "    network.at[0,'An'] = 1\n",
    "    network.at[0,'Dn'] = 0\n",
    "    \n",
    "    \n",
    "    for i in tqdm(range(len(t))):\n",
    "        \"\"\"For each time step:\n",
    "        \n",
    "        \"\"\"  \n",
    "        ### Update network paramaters\n",
    "        \n",
    "        network.at[i,'R_tot'] = total_R(baselines,network.at[i,'phi'],alpha)\n",
    "        network.at[i,'Q_tot'] = network.at[i,'pressure_difference']/network.at[i,'R_tot']\n",
    "        network.at[i,'Q_norm'] = network.at[i,'Q_tot'] / baselines['Q in single(µm3/s)'][0]\n",
    "        \n",
    "        #New bits:\n",
    "        network.at[i,'kp_p'] = (kp_constant/2)*(1-np.tanh( (network.at[i,'pt_averaged']-pt_averaged_50) / pt_averaged_5))\n",
    "        network.at[i,'kp_n'] = (kp_constant/2)*(1+np.tanh( (network.at[i,'pt_averaged']-pt_averaged_50) / pt_averaged_5 ))\n",
    "        network.at[i,'dApdt'] = -network.at[i,'kp_p']*network.at[i,'Ap'] + network.at[i,'kp_n']*(1-network.at[i,'Ap']-network.at[i,'Dp'])\n",
    "        network.at[i,'dDpdt'] = network.at[i,'kp_p']*(1-network.at[i,'Ap']-network.at[i,'Dp'])\n",
    "        \n",
    "        network.at[i,'kn_p'] = (kn_constant/2)*(1+np.tanh( (network.at[i,'c']-c_50) / c_5))\n",
    "        network.at[i,'kn_n'] = (kn_constant/2)*(1-np.tanh( (network.at[i,'c']-c_50) / c_5 ))\n",
    "        network.at[i,'dAndt'] = -network.at[i,'kn_p']*network.at[i,'An'] + network.at[i,'kn_n']*(1-network.at[i,'An']-network.at[i,'Dn'])\n",
    "        network.at[i,'dDndt'] = network.at[i,'kn_p']*(1-network.at[i,'An']-network.at[i,'Dn'])\n",
    "        \n",
    "        network.at[i,'dcdt'] = (1/tau_c)*(R-network.at[i,'c']*(k+network.at[i,'Q_norm']))\n",
    " \n",
    "\n",
    "        if i-delay_number <0: # As cant index before 0 as not initialised for that.\n",
    "            network.at[i,'dphidt'] =  (1/optimised_value_tau)*( - 1 + network.at[i,'Q_norm']*(1-network.at[i,'phi_min']) + network.at[i,'phi_min'] )\n",
    "        else:\n",
    "            network.at[i,'dphidt'] =  (1/optimised_value_tau)*( -network.at[i-delay_number,'phi'] + network.at[i,'Ap']*(network.at[i,'Q_norm']*(1-network.at[i,'phi_min']) + network.at[i,'phi_min']) )\n",
    "            \n",
    "        #Euler    \n",
    "        network.at[i+1,'phi'] = network.at[i,'dphidt']*dt + network.at[i,'phi']\n",
    "        network.at[i+1,'phi_min'] = 1-(alpha**0.25)*(1-phi_min_baseline)*(1-network.at[i,'Q_norm'])**n  \n",
    "        \n",
    "        network.at[i+1,'Ap'] = network.at[i,'dApdt']*dt + network.at[i,'Ap']   \n",
    "        network.at[i+1,'Dp'] = network.at[i,'dDpdt']*dt + network.at[i,'Dp']  \n",
    "        \n",
    "        network.at[i+1,'An'] = network.at[i,'dAndt']*dt + network.at[i,'An']   \n",
    "        network.at[i+1,'Dn'] = network.at[i,'dDndt']*dt + network.at[i,'Dn']  \n",
    "        network.at[i+1,'c'] = network.at[i,'dcdt']*dt + network.at[i,'c']  \n",
    "        #### Update Vessel paramaters\n",
    "        \n",
    "        # Euler from previous model. Necessary for: ...\n",
    "        if i == 0:                                  \n",
    "            vessels = first_iteration.copy()\n",
    "        else:\n",
    "            vessels = vessel_data_alltime[i-1].copy()\n",
    "            #Following works as I have loaded in previous values. Then updateding for the new ones Forwards Euler.\n",
    "            vessels['tissue partials(mmHg)'] = vessels['tissue partials(mmHg)'] + vessels['dptdt']*dt\n",
    "            vessels['Saturation out'] = vessels['Saturation out'] + vessels['dSoutdt']*dt\n",
    "            vessels['Saturation in'] = vessels['Saturation in'] + vessels['dSindt']*dt \n",
    "#             vessels['Sav'] = vessels['Sav'] + vessels['dSavdt']*dt\n",
    "        #Update other values for new flow\n",
    "        vessels.at[6,'Diameter(µm)'] = baseline.at[6,'Diameter(µm)']*network.at[i,'phi']    \n",
    "        vessels.at[6,'X-Area wall(???)'] = np.pi * ( 0.16*(vessels.at[6,'Diameter(µm)'])**2 + 1.4*(vessels.at[6,'Diameter(µm)']) + 14 )\n",
    "        vessels.at[6,'wall thickness(µm)'] = ( -(vessels.at[6,'Diameter(µm)']) + np.sqrt((vessels.at[6,'Diameter(µm)'])**2 + (4*(vessels.at[6,'X-Area wall(???)'])/np.pi))) / 2\n",
    "        vessels['Sav'] = (vessels['Saturation in']+vessels['Saturation out'])/2\n",
    "        vessels['M'] = (network.at[i,'An'])*M_constant*vessels['tissue partials(mmHg)']/(vessels['tissue partials(mmHg)']+hill_constant)\n",
    "        for j in range(no_vessels):\n",
    "            root_temp = None\n",
    "            sols = 0\n",
    "            root_temp = np.roots([1,0,150,23400*vessels.at[j,'Sav']/(vessels.at[j,'Sav']-1)]) #gives mmHg\n",
    "            sols = check_imag_roots_real(root_temp) \n",
    "            vessels.at[j,'partial pressure blood(mmHg)'] = sols    \n",
    "        #Could just do the flow update as ratio of previous flow to new flow then times previous values by this ratio as all flows scale linearly.\n",
    "        vessels['Q in single(µm3/s)'] = vessels['Q in single(µm3/s)']*network.at[i,'Q_norm']\n",
    "        \n",
    "#         for j in range(no_vessels):\n",
    "#             if j == 0:\n",
    "#                 vessels.at[j,'dS'] = 2*(1-vessels.at[j,'Sav'])\n",
    "#             else:\n",
    "#                 vessels.at[j,'dS'] = 2*(vessels.at[j-1,'Sav'] - vessels.at[j,'Sav']) - vessels.at[j-1,'dS']\n",
    "        \n",
    "#         vessels['dSavdt'] = 0.5 * (2/(np.pi*((vessels['Diameter(µm)']**2)/4)*vessels['Length(µm)'])) \\\n",
    "#                             * ( - (2 * np.pi * K * (vessels['Diameter(µm)']/2) * constant['Length(µm)'])/(vessels['wall thickness(µm)']*cHb*H) \\\n",
    "#                             * (vessels['partial pressure blood(mmHg)']-vessels['tissue partials(mmHg)'])\\\n",
    "#                             - vessels['Q in single(µm3/s)']*vessels['dS'] )\\\n",
    "        \n",
    "        for j in range(len(vessels)):\n",
    "            \"\"\"For each vessel\n",
    "            Update Q in single based on updated Q_tot\n",
    "            Calculate dSoutdt and make this dSindt for next vessel.\"\"\"\n",
    "            #Could definitely get rid of this by not updating. I ahve all the values I realistically need with one column. Just for completeness. Could just have dSoutdt for each vessel and know this is thenext ones dSinDt. and know for A1 is is 0.\n",
    "            if j ==0:\n",
    "                vessels.at[j,'dSindt'] = 0\n",
    "            else:\n",
    "                vessels.at[j,'dSindt'] = vessels.at[j-1,'dSoutdt']\n",
    "\n",
    "            vessels.at[j,'dSoutdt'] = 2/(np.pi*((vessels.at[j,'Diameter(µm)']**2)/4)*vessels.at[j,'Length(µm)']) \\\n",
    "                                    * ( - (2 * np.pi * K * (vessels.at[j,'Diameter(µm)']/2) * constant.at[j,'Length(µm)'])/(vessels.at[j,'wall thickness(µm)']*cHb*H) \\\n",
    "                                    * (vessels.at[j,'partial pressure blood(mmHg)']-vessels.at[j,'tissue partials(mmHg)'])\\\n",
    "                                    - vessels.at[j,'Q in single(µm3/s)']*(vessels.at[j,'Saturation out']-vessels.at[j,'Saturation in']) )\\\n",
    "                                    - vessels.at[j,'dSindt']\n",
    "            \n",
    "        ### The main show: calculating dpdt and other useful representations.\n",
    "        \n",
    "        vessels['dptdt'] = (1/(alpha_t*constant['Vt(µm3)']))\\\n",
    "                        *(((2 * np.pi * K * (vessels['Diameter(µm)']/2) * constant['Length(µm)'])/(vessels['wall thickness(µm)']))\\\n",
    "                        *(vessels['partial pressure blood(mmHg)']-vessels['tissue partials(mmHg)'])\\\n",
    "                        - vessels['M'] * constant['Vt(µm3)'])\n",
    "        vessels['pt_by_Vt'] = vessels['tissue partials(mmHg)'] * vessels['Vt(µm3)']\n",
    "\n",
    "        network.at[i+1,'pt_averaged'] = vessels['pt_by_Vt'].sum()/13 ###### BADDDDDDd\n",
    "\n",
    "        ### Save vessels to a dictionary\n",
    "        \n",
    "        vessel_data_alltime[i] = vessels\n",
    "    \n",
    "    ### To let you know whether it managed to run all the way through.\n",
    "    \n",
    "    if i == no-1:\n",
    "        print('finished')\n",
    "    else:\n",
    "        print('broken')\n",
    "    \n",
    "    return network, vessel_data_alltime"
   ]
  },
  {
   "cell_type": "markdown",
   "metadata": {},
   "source": [
    "#### Clean up baselines"
   ]
  },
  {
   "cell_type": "markdown",
   "metadata": {},
   "source": [
    "#### the loop"
   ]
  },
  {
   "cell_type": "code",
   "execution_count": 32,
   "metadata": {},
   "outputs": [
    {
     "name": "stderr",
     "output_type": "stream",
     "text": [
      "100%|██████████| 5001/5001 [00:34<00:00, 142.90it/s]\n"
     ]
    },
    {
     "name": "stdout",
     "output_type": "stream",
     "text": [
      "finished\n",
      "min: 0.48063944295081684\n",
      "final: 0.4901554316373863\n"
     ]
    },
    {
     "data": {
      "image/png": "[encoded data removed]",
      "text/plain": [
       "<Figure size 432x288 with 1 Axes>"
      ]
     },
     "metadata": {
      "needs_background": "light"
     },
     "output_type": "display_data"
    }
   ],
   "source": [
    "# Initialise Data, set up DFs\n",
    "# baseline = baselines.drop(['Viscocity(mmHg*s)','Resistance for U', 'U in single(µm/s)'],axis=1).rename(columns={'Saturation ave': 'Sav'})\n",
    "# first_iteration = baseline.loc[:,['Name','Number','Diameter(µm)','Length(µm)','dS','Sav','Resistance for Q','Q in single(µm3/s)','Vt(µm3)','partial pressure blood(mmHg)','X-Area wall(???)','wall thickness(µm)','tissue partials(mmHg)']].assign(dptdt = np.zeros(len(baseline)),dSavdt = np.zeros(len(baseline)))\n",
    "# constant = baseline.drop(['Q in single(µm3/s)','Pressure Drop(mmHg)','Saturation in','Saturation out','Resistance for Q','dS','Sav','partial pressure blood(mmHg)','X-Area wall(???)','wall thickness(µm)','tissue partials(mmHg)'], axis=1)\n",
    "# vessel_data_alltime = {}\n",
    "# pt_averaged = pd.Series(np.zeros(len(t)))\n",
    "# terms_data_alltime = {}\n",
    "\n",
    "baseline = baselines.drop(['Viscocity(mmHg*s)','Resistance for U', 'U in single(µm/s)'],axis=1).rename(columns={'Saturation ave': 'Sav'})\n",
    "first_iteration = baseline.loc[:,['Name','Number','Diameter(µm)','Length(µm)','Saturation in','Saturation out','Sav','Resistance for Q','Q in single(µm3/s)','Vt(µm3)','partial pressure blood(mmHg)','X-Area wall(???)','wall thickness(µm)','tissue partials(mmHg)']].assign(dptdt = np.zeros(len(baseline)))\n",
    "constant = baseline.drop(['Q in single(µm3/s)','Pressure Drop(mmHg)','Saturation in','Saturation out','Resistance for Q','dS','Sav','partial pressure blood(mmHg)','X-Area wall(???)','wall thickness(µm)','tissue partials(mmHg)'], axis=1)\n",
    "vessel_data_alltime = {}\n",
    "pt_averaged = pd.Series(np.zeros(len(t)))\n",
    "terms_data_alltime = {}\n",
    "\n",
    "alpha = 0.2\n",
    "delay = 2.99\n",
    "\n",
    "\n",
    "\n",
    "# %timeit euler2(alpha,delay,baselines)\n",
    "\n",
    "# %timeit -r 10 -n 1 run()\n",
    "        \n",
    "# %prun -s cumulative run()\n",
    "\n",
    "# %lprun -f master master(alpha,delay,baselines)\n",
    "\n",
    "N,V_alltime = master(alpha,delay,baselines)\n",
    "plt.plot(N['t'],N['Q_norm'])\n",
    "print('min:',min(N['Q_norm']))\n",
    "print('final:', N.at[len(N)-2,'Q_norm'])"
   ]
  },
  {
   "cell_type": "code",
   "execution_count": 35,
   "metadata": {
    "collapsed": true,
    "jupyter": {
     "outputs_hidden": true
    }
   },
   "outputs": [
    {
     "data": {
      "text/plain": [
       "[<matplotlib.lines.Line2D at 0x20aabbf05c8>]"
      ]
     },
     "execution_count": 35,
     "metadata": {},
     "output_type": "execute_result"
    },
    {
     "data": {
      "image/png": "[encoded data removed]",
      "text/plain": [
       "<Figure size 432x288 with 1 Axes>"
      ]
     },
     "metadata": {
      "needs_background": "light"
     },
     "output_type": "display_data"
    }
   ],
   "source": [
    "# plt.plot(N['t'],N['pt_averaged'])\n",
    "# plt.plot(N['t'],N['pt_averaged']/N.at[0,'pt_averaged'])\n",
    "# min(N['pt_averaged']/N.at[0,'pt_averaged'])\n",
    "plt.plot(N['t'],N['Ap'])\n",
    "plt.plot(N['t'],N['Dp'])\n",
    "plt.plot(N['t'],N['Ap'])"
   ]
  },
  {
   "cell_type": "code",
   "execution_count": 21,
   "metadata": {
    "collapsed": true,
    "jupyter": {
     "outputs_hidden": true,
     "source_hidden": true
    }
   },
   "outputs": [
    {
     "name": "stderr",
     "output_type": "stream",
     "text": [
      "  3%|▎         | 127918/4000001 [06:05<4:31:16, 237.90it/s]"
     ]
    },
    {
     "ename": "KeyboardInterrupt",
     "evalue": "",
     "output_type": "error",
     "traceback": [
      "\u001b[0;31m---------------------------------------------------------------------------\u001b[0m",
      "\u001b[0;31mKeyboardInterrupt\u001b[0m                         Traceback (most recent call last)",
      "\u001b[0;32m<ipython-input-21-1fdc1e1b0ac6>\u001b[0m in \u001b[0;36m<module>\u001b[0;34m\u001b[0m\n\u001b[1;32m     32\u001b[0m \u001b[0;34m\u001b[0m\u001b[0m\n\u001b[1;32m     33\u001b[0m \u001b[0;31m# plot_param('partial pressure blood(mmHg)')\u001b[0m\u001b[0;34m\u001b[0m\u001b[0;34m\u001b[0m\u001b[0;34m\u001b[0m\u001b[0m\n\u001b[0;32m---> 34\u001b[0;31m \u001b[0mplot_param\u001b[0m\u001b[0;34m(\u001b[0m\u001b[0;34m'partial pressure blood(mmHg)'\u001b[0m\u001b[0;34m,\u001b[0m\u001b[0;36m1\u001b[0m\u001b[0;34m)\u001b[0m\u001b[0;34m\u001b[0m\u001b[0;34m\u001b[0m\u001b[0m\n\u001b[0m\u001b[1;32m     35\u001b[0m \u001b[0;31m# # plot_param('tissue partials(mmHg)')\u001b[0m\u001b[0;34m\u001b[0m\u001b[0;34m\u001b[0m\u001b[0;34m\u001b[0m\u001b[0m\n\u001b[1;32m     36\u001b[0m \u001b[0mplot_param\u001b[0m\u001b[0;34m(\u001b[0m\u001b[0;34m'tissue partials(mmHg)'\u001b[0m\u001b[0;34m,\u001b[0m\u001b[0;36m1\u001b[0m\u001b[0;34m)\u001b[0m\u001b[0;34m\u001b[0m\u001b[0;34m\u001b[0m\u001b[0m\n",
      "\u001b[0;32m<ipython-input-21-1fdc1e1b0ac6>\u001b[0m in \u001b[0;36mplot_param\u001b[0;34m(column_name, normal)\u001b[0m\n\u001b[1;32m      6\u001b[0m     \u001b[0;32mfor\u001b[0m \u001b[0mi\u001b[0m \u001b[0;32min\u001b[0m \u001b[0mtqdm\u001b[0m\u001b[0;34m(\u001b[0m\u001b[0mrange\u001b[0m\u001b[0;34m(\u001b[0m\u001b[0mlen\u001b[0m\u001b[0;34m(\u001b[0m\u001b[0mvessel_data_alltime\u001b[0m\u001b[0;34m)\u001b[0m\u001b[0;34m)\u001b[0m\u001b[0;34m)\u001b[0m\u001b[0;34m:\u001b[0m\u001b[0;34m\u001b[0m\u001b[0;34m\u001b[0m\u001b[0m\n\u001b[1;32m      7\u001b[0m         \u001b[0;32mfor\u001b[0m \u001b[0mj\u001b[0m \u001b[0;32min\u001b[0m \u001b[0mrange\u001b[0m\u001b[0;34m(\u001b[0m\u001b[0mlen\u001b[0m\u001b[0;34m(\u001b[0m\u001b[0mvessel_data_alltime\u001b[0m\u001b[0;34m[\u001b[0m\u001b[0;36m0\u001b[0m\u001b[0;34m]\u001b[0m\u001b[0;34m)\u001b[0m\u001b[0;34m)\u001b[0m\u001b[0;34m:\u001b[0m\u001b[0;34m\u001b[0m\u001b[0;34m\u001b[0m\u001b[0m\n\u001b[0;32m----> 8\u001b[0;31m             \u001b[0mdf\u001b[0m\u001b[0;34m.\u001b[0m\u001b[0miloc\u001b[0m\u001b[0;34m[\u001b[0m\u001b[0mi\u001b[0m\u001b[0;34m,\u001b[0m\u001b[0mj\u001b[0m\u001b[0;34m]\u001b[0m \u001b[0;34m=\u001b[0m \u001b[0mvessel_data_alltime\u001b[0m\u001b[0;34m[\u001b[0m\u001b[0mi\u001b[0m\u001b[0;34m]\u001b[0m\u001b[0;34m.\u001b[0m\u001b[0mat\u001b[0m\u001b[0;34m[\u001b[0m\u001b[0mj\u001b[0m\u001b[0;34m,\u001b[0m\u001b[0mcolumn_name\u001b[0m\u001b[0;34m]\u001b[0m\u001b[0;34m\u001b[0m\u001b[0;34m\u001b[0m\u001b[0m\n\u001b[0m\u001b[1;32m      9\u001b[0m     \u001b[0mfig\u001b[0m\u001b[0;34m,\u001b[0m\u001b[0max\u001b[0m \u001b[0;34m=\u001b[0m \u001b[0mplt\u001b[0m\u001b[0;34m.\u001b[0m\u001b[0msubplots\u001b[0m\u001b[0;34m(\u001b[0m\u001b[0mfigsize\u001b[0m\u001b[0;34m=\u001b[0m\u001b[0;34m(\u001b[0m\u001b[0;36m10\u001b[0m\u001b[0;34m,\u001b[0m\u001b[0;36m8\u001b[0m\u001b[0;34m)\u001b[0m\u001b[0;34m)\u001b[0m\u001b[0;34m\u001b[0m\u001b[0;34m\u001b[0m\u001b[0m\n\u001b[1;32m     10\u001b[0m     \u001b[0;32mif\u001b[0m \u001b[0mnormal\u001b[0m \u001b[0;34m==\u001b[0m \u001b[0;36m1\u001b[0m\u001b[0;34m:\u001b[0m\u001b[0;34m\u001b[0m\u001b[0;34m\u001b[0m\u001b[0m\n",
      "\u001b[0;32m~/opt/anaconda3/lib/python3.7/site-packages/pandas/core/indexing.py\u001b[0m in \u001b[0;36m__setitem__\u001b[0;34m(self, key, value)\u001b[0m\n\u001b[1;32m    202\u001b[0m         \u001b[0;32melse\u001b[0m\u001b[0;34m:\u001b[0m\u001b[0;34m\u001b[0m\u001b[0;34m\u001b[0m\u001b[0m\n\u001b[1;32m    203\u001b[0m             \u001b[0mkey\u001b[0m \u001b[0;34m=\u001b[0m \u001b[0mcom\u001b[0m\u001b[0;34m.\u001b[0m\u001b[0mapply_if_callable\u001b[0m\u001b[0;34m(\u001b[0m\u001b[0mkey\u001b[0m\u001b[0;34m,\u001b[0m \u001b[0mself\u001b[0m\u001b[0;34m.\u001b[0m\u001b[0mobj\u001b[0m\u001b[0;34m)\u001b[0m\u001b[0;34m\u001b[0m\u001b[0;34m\u001b[0m\u001b[0m\n\u001b[0;32m--> 204\u001b[0;31m         \u001b[0mindexer\u001b[0m \u001b[0;34m=\u001b[0m \u001b[0mself\u001b[0m\u001b[0;34m.\u001b[0m\u001b[0m_get_setitem_indexer\u001b[0m\u001b[0;34m(\u001b[0m\u001b[0mkey\u001b[0m\u001b[0;34m)\u001b[0m\u001b[0;34m\u001b[0m\u001b[0;34m\u001b[0m\u001b[0m\n\u001b[0m\u001b[1;32m    205\u001b[0m         \u001b[0mself\u001b[0m\u001b[0;34m.\u001b[0m\u001b[0m_setitem_with_indexer\u001b[0m\u001b[0;34m(\u001b[0m\u001b[0mindexer\u001b[0m\u001b[0;34m,\u001b[0m \u001b[0mvalue\u001b[0m\u001b[0;34m)\u001b[0m\u001b[0;34m\u001b[0m\u001b[0;34m\u001b[0m\u001b[0m\n\u001b[1;32m    206\u001b[0m \u001b[0;34m\u001b[0m\u001b[0m\n",
      "\u001b[0;32m~/opt/anaconda3/lib/python3.7/site-packages/pandas/core/indexing.py\u001b[0m in \u001b[0;36m_get_setitem_indexer\u001b[0;34m(self, key)\u001b[0m\n\u001b[1;32m    180\u001b[0m         \u001b[0;32mif\u001b[0m \u001b[0misinstance\u001b[0m\u001b[0;34m(\u001b[0m\u001b[0mkey\u001b[0m\u001b[0;34m,\u001b[0m \u001b[0mtuple\u001b[0m\u001b[0;34m)\u001b[0m\u001b[0;34m:\u001b[0m\u001b[0;34m\u001b[0m\u001b[0;34m\u001b[0m\u001b[0m\n\u001b[1;32m    181\u001b[0m             \u001b[0;32mtry\u001b[0m\u001b[0;34m:\u001b[0m\u001b[0;34m\u001b[0m\u001b[0;34m\u001b[0m\u001b[0m\n\u001b[0;32m--> 182\u001b[0;31m                 \u001b[0;32mreturn\u001b[0m \u001b[0mself\u001b[0m\u001b[0;34m.\u001b[0m\u001b[0m_convert_tuple\u001b[0m\u001b[0;34m(\u001b[0m\u001b[0mkey\u001b[0m\u001b[0;34m,\u001b[0m \u001b[0mis_setter\u001b[0m\u001b[0;34m=\u001b[0m\u001b[0;32mTrue\u001b[0m\u001b[0;34m)\u001b[0m\u001b[0;34m\u001b[0m\u001b[0;34m\u001b[0m\u001b[0m\n\u001b[0m\u001b[1;32m    183\u001b[0m             \u001b[0;32mexcept\u001b[0m \u001b[0mIndexingError\u001b[0m\u001b[0;34m:\u001b[0m\u001b[0;34m\u001b[0m\u001b[0;34m\u001b[0m\u001b[0m\n\u001b[1;32m    184\u001b[0m                 \u001b[0;32mpass\u001b[0m\u001b[0;34m\u001b[0m\u001b[0;34m\u001b[0m\u001b[0m\n",
      "\u001b[0;32m~/opt/anaconda3/lib/python3.7/site-packages/pandas/core/indexing.py\u001b[0m in \u001b[0;36m_convert_tuple\u001b[0;34m(self, key, is_setter)\u001b[0m\n\u001b[1;32m    260\u001b[0m                 \u001b[0;32mif\u001b[0m \u001b[0mi\u001b[0m \u001b[0;34m>=\u001b[0m \u001b[0mself\u001b[0m\u001b[0;34m.\u001b[0m\u001b[0mobj\u001b[0m\u001b[0;34m.\u001b[0m\u001b[0mndim\u001b[0m\u001b[0;34m:\u001b[0m\u001b[0;34m\u001b[0m\u001b[0;34m\u001b[0m\u001b[0m\n\u001b[1;32m    261\u001b[0m                     \u001b[0;32mraise\u001b[0m \u001b[0mIndexingError\u001b[0m\u001b[0;34m(\u001b[0m\u001b[0;34m\"Too many indexers\"\u001b[0m\u001b[0;34m)\u001b[0m\u001b[0;34m\u001b[0m\u001b[0;34m\u001b[0m\u001b[0m\n\u001b[0;32m--> 262\u001b[0;31m                 \u001b[0midx\u001b[0m \u001b[0;34m=\u001b[0m \u001b[0mself\u001b[0m\u001b[0;34m.\u001b[0m\u001b[0m_convert_to_indexer\u001b[0m\u001b[0;34m(\u001b[0m\u001b[0mk\u001b[0m\u001b[0;34m,\u001b[0m \u001b[0maxis\u001b[0m\u001b[0;34m=\u001b[0m\u001b[0mi\u001b[0m\u001b[0;34m,\u001b[0m \u001b[0mis_setter\u001b[0m\u001b[0;34m=\u001b[0m\u001b[0mis_setter\u001b[0m\u001b[0;34m)\u001b[0m\u001b[0;34m\u001b[0m\u001b[0;34m\u001b[0m\u001b[0m\n\u001b[0m\u001b[1;32m    263\u001b[0m                 \u001b[0mkeyidx\u001b[0m\u001b[0;34m.\u001b[0m\u001b[0mappend\u001b[0m\u001b[0;34m(\u001b[0m\u001b[0midx\u001b[0m\u001b[0;34m)\u001b[0m\u001b[0;34m\u001b[0m\u001b[0;34m\u001b[0m\u001b[0m\n\u001b[1;32m    264\u001b[0m         \u001b[0;32mreturn\u001b[0m \u001b[0mtuple\u001b[0m\u001b[0;34m(\u001b[0m\u001b[0mkeyidx\u001b[0m\u001b[0;34m)\u001b[0m\u001b[0;34m\u001b[0m\u001b[0;34m\u001b[0m\u001b[0m\n",
      "\u001b[0;32m~/opt/anaconda3/lib/python3.7/site-packages/pandas/core/indexing.py\u001b[0m in \u001b[0;36m_convert_to_indexer\u001b[0;34m(self, obj, axis, is_setter, raise_missing)\u001b[0m\n\u001b[1;32m   2173\u001b[0m \u001b[0;34m\u001b[0m\u001b[0m\n\u001b[1;32m   2174\u001b[0m         \u001b[0;32mtry\u001b[0m\u001b[0;34m:\u001b[0m\u001b[0;34m\u001b[0m\u001b[0;34m\u001b[0m\u001b[0m\n\u001b[0;32m-> 2175\u001b[0;31m             \u001b[0mself\u001b[0m\u001b[0;34m.\u001b[0m\u001b[0m_validate_key\u001b[0m\u001b[0;34m(\u001b[0m\u001b[0mobj\u001b[0m\u001b[0;34m,\u001b[0m \u001b[0maxis\u001b[0m\u001b[0;34m)\u001b[0m\u001b[0;34m\u001b[0m\u001b[0;34m\u001b[0m\u001b[0m\n\u001b[0m\u001b[1;32m   2176\u001b[0m             \u001b[0;32mreturn\u001b[0m \u001b[0mobj\u001b[0m\u001b[0;34m\u001b[0m\u001b[0;34m\u001b[0m\u001b[0m\n\u001b[1;32m   2177\u001b[0m         \u001b[0;32mexcept\u001b[0m \u001b[0mValueError\u001b[0m\u001b[0;34m:\u001b[0m\u001b[0;34m\u001b[0m\u001b[0;34m\u001b[0m\u001b[0m\n",
      "\u001b[0;32m~/opt/anaconda3/lib/python3.7/site-packages/pandas/core/indexing.py\u001b[0m in \u001b[0;36m_validate_key\u001b[0;34m(self, key, axis)\u001b[0m\n\u001b[1;32m   1995\u001b[0m \u001b[0;34m\u001b[0m\u001b[0m\n\u001b[1;32m   1996\u001b[0m     \u001b[0;32mdef\u001b[0m \u001b[0m_validate_key\u001b[0m\u001b[0;34m(\u001b[0m\u001b[0mself\u001b[0m\u001b[0;34m,\u001b[0m \u001b[0mkey\u001b[0m\u001b[0;34m,\u001b[0m \u001b[0maxis\u001b[0m\u001b[0;34m:\u001b[0m \u001b[0mint\u001b[0m\u001b[0;34m)\u001b[0m\u001b[0;34m:\u001b[0m\u001b[0;34m\u001b[0m\u001b[0;34m\u001b[0m\u001b[0m\n\u001b[0;32m-> 1997\u001b[0;31m         \u001b[0;32mif\u001b[0m \u001b[0mcom\u001b[0m\u001b[0;34m.\u001b[0m\u001b[0mis_bool_indexer\u001b[0m\u001b[0;34m(\u001b[0m\u001b[0mkey\u001b[0m\u001b[0;34m)\u001b[0m\u001b[0;34m:\u001b[0m\u001b[0;34m\u001b[0m\u001b[0;34m\u001b[0m\u001b[0m\n\u001b[0m\u001b[1;32m   1998\u001b[0m             \u001b[0;32mif\u001b[0m \u001b[0mhasattr\u001b[0m\u001b[0;34m(\u001b[0m\u001b[0mkey\u001b[0m\u001b[0;34m,\u001b[0m \u001b[0;34m\"index\"\u001b[0m\u001b[0;34m)\u001b[0m \u001b[0;32mand\u001b[0m \u001b[0misinstance\u001b[0m\u001b[0;34m(\u001b[0m\u001b[0mkey\u001b[0m\u001b[0;34m.\u001b[0m\u001b[0mindex\u001b[0m\u001b[0;34m,\u001b[0m \u001b[0mIndex\u001b[0m\u001b[0;34m)\u001b[0m\u001b[0;34m:\u001b[0m\u001b[0;34m\u001b[0m\u001b[0;34m\u001b[0m\u001b[0m\n\u001b[1;32m   1999\u001b[0m                 \u001b[0;32mif\u001b[0m \u001b[0mkey\u001b[0m\u001b[0;34m.\u001b[0m\u001b[0mindex\u001b[0m\u001b[0;34m.\u001b[0m\u001b[0minferred_type\u001b[0m \u001b[0;34m==\u001b[0m \u001b[0;34m\"integer\"\u001b[0m\u001b[0;34m:\u001b[0m\u001b[0;34m\u001b[0m\u001b[0;34m\u001b[0m\u001b[0m\n",
      "\u001b[0;32m~/opt/anaconda3/lib/python3.7/site-packages/pandas/core/common.py\u001b[0m in \u001b[0;36mis_bool_indexer\u001b[0;34m(key)\u001b[0m\n\u001b[1;32m    121\u001b[0m     \u001b[0mna_msg\u001b[0m \u001b[0;34m=\u001b[0m \u001b[0;34m\"cannot index with vector containing NA / NaN values\"\u001b[0m\u001b[0;34m\u001b[0m\u001b[0;34m\u001b[0m\u001b[0m\n\u001b[1;32m    122\u001b[0m     if isinstance(key, (ABCSeries, np.ndarray, ABCIndex)) or (\n\u001b[0;32m--> 123\u001b[0;31m         \u001b[0mis_array_like\u001b[0m\u001b[0;34m(\u001b[0m\u001b[0mkey\u001b[0m\u001b[0;34m)\u001b[0m \u001b[0;32mand\u001b[0m \u001b[0mis_extension_array_dtype\u001b[0m\u001b[0;34m(\u001b[0m\u001b[0mkey\u001b[0m\u001b[0;34m.\u001b[0m\u001b[0mdtype\u001b[0m\u001b[0;34m)\u001b[0m\u001b[0;34m\u001b[0m\u001b[0;34m\u001b[0m\u001b[0m\n\u001b[0m\u001b[1;32m    124\u001b[0m     ):\n\u001b[1;32m    125\u001b[0m         \u001b[0;32mif\u001b[0m \u001b[0mkey\u001b[0m\u001b[0;34m.\u001b[0m\u001b[0mdtype\u001b[0m \u001b[0;34m==\u001b[0m \u001b[0mnp\u001b[0m\u001b[0;34m.\u001b[0m\u001b[0mobject_\u001b[0m\u001b[0;34m:\u001b[0m\u001b[0;34m\u001b[0m\u001b[0;34m\u001b[0m\u001b[0m\n",
      "\u001b[0;32m~/opt/anaconda3/lib/python3.7/site-packages/pandas/core/dtypes/inference.py\u001b[0m in \u001b[0;36mis_array_like\u001b[0;34m(obj)\u001b[0m\n\u001b[1;32m    244\u001b[0m \u001b[0;34m\u001b[0m\u001b[0m\n\u001b[1;32m    245\u001b[0m \u001b[0;34m\u001b[0m\u001b[0m\n\u001b[0;32m--> 246\u001b[0;31m \u001b[0;32mdef\u001b[0m \u001b[0mis_array_like\u001b[0m\u001b[0;34m(\u001b[0m\u001b[0mobj\u001b[0m\u001b[0;34m)\u001b[0m\u001b[0;34m:\u001b[0m\u001b[0;34m\u001b[0m\u001b[0;34m\u001b[0m\u001b[0m\n\u001b[0m\u001b[1;32m    247\u001b[0m     \"\"\"\n\u001b[1;32m    248\u001b[0m     \u001b[0mCheck\u001b[0m \u001b[0;32mif\u001b[0m \u001b[0mthe\u001b[0m \u001b[0mobject\u001b[0m \u001b[0;32mis\u001b[0m \u001b[0marray\u001b[0m\u001b[0;34m-\u001b[0m\u001b[0mlike\u001b[0m\u001b[0;34m.\u001b[0m\u001b[0;34m\u001b[0m\u001b[0;34m\u001b[0m\u001b[0m\n",
      "\u001b[0;31mKeyboardInterrupt\u001b[0m: "
     ]
    },
    {
     "name": "stderr",
     "output_type": "stream",
     "text": [
      "  3%|▎         | 127918/4000001 [06:20<4:31:16, 237.90it/s]"
     ]
    }
   ],
   "source": [
    "def plot_param(column_name,normal = 0):\n",
    "    df = None\n",
    "    string = None\n",
    "    df = pd.DataFrame({'A1': np.zeros(len(vessel_data_alltime)), 'A2': np.zeros(len(vessel_data_alltime)), 'A3': np.zeros(len(vessel_data_alltime)), 'A4': np.zeros(len(vessel_data_alltime)), 'A5': np.zeros(len(vessel_data_alltime)), 'A6': np.zeros(len(vessel_data_alltime)), 'C': np.zeros(len(vessel_data_alltime)), 'V6': np.zeros(len(vessel_data_alltime)), 'V5': np.zeros(len(vessel_data_alltime)), 'V4': np.zeros(len(vessel_data_alltime)), 'V3': np.zeros(len(vessel_data_alltime)),\n",
    "           'V2':np.zeros(len(vessel_data_alltime)), 'V1': np.zeros(len(vessel_data_alltime))})\n",
    "    for i in tqdm(range(len(vessel_data_alltime))):\n",
    "        for j in range(len(vessel_data_alltime[0])):\n",
    "            df.iloc[i,j] = vessel_data_alltime[i].at[j,column_name]\n",
    "    fig,ax = plt.subplots(figsize=(10,8))\n",
    "    if normal == 1:\n",
    "        df_normal =  pd.DataFrame({'A1': np.zeros(len(vessel_data_alltime)), 'A2': np.zeros(len(vessel_data_alltime)), 'A3': np.zeros(len(vessel_data_alltime)), 'A4': np.zeros(len(vessel_data_alltime)), 'A5': np.zeros(len(vessel_data_alltime)), 'A6': np.zeros(len(vessel_data_alltime)), 'C': np.zeros(len(vessel_data_alltime)), 'V6': np.zeros(len(vessel_data_alltime)), 'V5': np.zeros(len(vessel_data_alltime)), 'V4': np.zeros(len(vessel_data_alltime)), 'V3': np.zeros(len(vessel_data_alltime)),\n",
    "                       'V2':np.zeros(len(vessel_data_alltime)), 'V1': np.zeros(len(vessel_data_alltime))})\n",
    "        for i in range(len(vessel_data_alltime[0])):\n",
    "            df_normal.iloc[:,i] = df.iloc[:,i] / baseline.at[i,column_name]\n",
    "        column_name = column_name + 'normal'\n",
    "        scale = df_normal.iloc[0,0] / pressure_difference[0]\n",
    "        plt.plot(t,scale*(pressure_difference),label='pressure in', color='0.8')\n",
    "        plt.ylim(0,1.1)\n",
    "    for i in range(13):\n",
    "        if normal ==0:\n",
    "            plt.plot(t,df.iloc[:,i], label=vessel_data_alltime[0].at[i,'Name'])\n",
    "        elif normal ==1:\n",
    "            plt.plot(t,df_normal.iloc[:,i], label=vessel_data_alltime[0].at[i,'Name'])\n",
    "        else:\n",
    "            print('error')\n",
    "    ax.legend()\n",
    "    plt.grid(which='both')\n",
    "    string = column_name + ' against time'\n",
    "    plt.ylabel(column_name)\n",
    "    plt.xlabel('time /s')\n",
    "    plt.title(string, fontsize=20)\n",
    "    \n",
    "# plot_param('partial pressure blood(mmHg)')\n",
    "plot_param('partial pressure blood(mmHg)',1)\n",
    "# # plot_param('tissue partials(mmHg)')\n",
    "plot_param('tissue partials(mmHg)',1)\n",
    "# plot_param('Saturation in')\n",
    "# plot_param('Saturation out')\n",
    "# plot_param('pt_averaged')\n",
    "# plot_param('Q in single(µm3/s)')\n",
    "# plot_param('Q in single(µm3/s)',1)\n",
    "# plot_param('dptdt')\n",
    "# plot_param('dSoutdt')\n",
    "# plot_param('dSindt')\n",
    "# plot_param('dSavdt')\n",
    "# plot_param('Sav')\n",
    "# plot_param('dS')"
   ]
  },
  {
   "cell_type": "code",
   "execution_count": 113,
   "metadata": {},
   "outputs": [
    {
     "name": "stdout",
     "output_type": "stream",
     "text": [
      "text file saved\n",
      "Vessels saved\n",
      "Network saved\n"
     ]
    },
    {
     "data": {
      "image/png": "[encoded data removed]",
      "text/plain": [
       "<Figure size 432x288 with 1 Axes>"
      ]
     },
     "metadata": {
      "needs_background": "light"
     },
     "output_type": "display_data"
    }
   ],
   "source": [
    "txt_file = [\n",
    "    'Time of simulation: ' + str(max_time) + ' seconds\\n' ,\n",
    "    'Number of iterations: ' + str(no) + '\\n',\n",
    "    'therefore time step is: ' + str(dt) + ' seconds\\n' ,\n",
    "    'Delay for pressure drop: ' + str(delay_pressure_drop) + ' seconds\\n' ,\n",
    "    'Time over which pressure drops: ' + str(time_for_drop) + ' seconds\\n',\n",
    "    'Ratio pressure drop: ' + str(ratio_drop) + '\\n',\n",
    "    'kp_constant: ' + str(kp_constant) + '\\n',\n",
    "    'kn_constant: ' + str(kn_constant) + '\\n',\n",
    "    'Date and time: ' + str(datetime.datetime.now())\n",
    "           ]\n",
    "\n",
    "if save == True:\n",
    "    count = 1\n",
    "    while count < 1000:\n",
    "    \n",
    "        if len(str(count)) == 3:\n",
    "            subfoulder = str(i)\n",
    "        elif len(str(i)) == 2:\n",
    "            subfoulder = str(0) + str(count)\n",
    "        else:\n",
    "            subfoulder = str(0) + str(0) + str(count)\n",
    "    \n",
    "        attempt = folder / '_storage' / 'main' / subfoulder\n",
    "    \n",
    "        if attempt.exists():\n",
    "            count = count+1\n",
    "        else:\n",
    "            main_path = attempt\n",
    "            main_path.mkdir()\n",
    "            break\n",
    "    \n",
    "    file= open(main_path / \"info.txt\",\"w\") \n",
    "    file.writelines(txt_file)\n",
    "    file.close()  \n",
    "    print('text file saved')\n",
    "    \n",
    "    pickle_out = open(main_path / 'vessels_first_long_run.pickle' , 'wb' )\n",
    "    pickle.dump(V_alltime, pickle_out)\n",
    "    pickle_out.close()\n",
    "    print('Vessels saved')\n",
    "    \n",
    "    pickle_out2 = open(main_path / 'network_first_long_run.pickle' , 'wb' )\n",
    "    pickle.dump(N, pickle_out2)\n",
    "    pickle_out2.close()\n",
    "    print('Network saved')\n",
    "    \n",
    "    plt.plot(N['t'],N['Q_norm'])\n",
    "    plt.ylabel('Normalised Flow')\n",
    "    plt.xlabel('Time / seconds')\n",
    "    plt.grid(which='both')\n",
    "    plt.savefig(main_path / 'Q_vs_t')\n",
    "    "
   ]
  },
  {
   "cell_type": "markdown",
   "metadata": {},
   "source": [
    "so here is what i want to do:  \n",
    "have a successful run folder called main in storage that saves N, V and also a text file saying what i ran for that time.  \n",
    "a thing that saves to a temporary folder in the cwd in case of crashes (every 20% of the way through). may need to review this step as may take a long time depending on how big the run is."
   ]
  }
 ],
 "metadata": {
  "kernelspec": {
   "display_name": "Python 3",
   "language": "python",
   "name": "python3"
  },
  "language_info": {
   "codemirror_mode": {
    "name": "ipython",
    "version": 3
   },
   "file_extension": ".py",
   "mimetype": "text/x-python",
   "name": "python",
   "nbconvert_exporter": "python",
   "pygments_lexer": "ipython3",
   "version": "3.7.4"
  }
 },
 "nbformat": 4,
 "nbformat_minor": 4
}
