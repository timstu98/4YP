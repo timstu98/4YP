{
 "cells": [
  {
   "cell_type": "markdown",
   "metadata": {},
   "source": [
    "# palettes = [\"deep\", \"muted\", \"pastel\", \"bright\", \"dark\", \"colorblind\"]"
   ]
  },
  {
   "cell_type": "code",
   "execution_count": 3,
   "metadata": {},
   "outputs": [],
   "source": [
    "import matplotlib.pyplot as plt\n",
    "import pandas as pd\n",
    "import numpy as np\n",
    "import seaborn as sns\n",
    "# palettes = [\"deep\", \"muted\", \"pastel\", \"bright\", \"dark\", \"colorblind\"]\n",
    "# sns.set(palette ='colorblind')\n",
    "from pylab import *\n",
    "import tikzplotlib\n",
    "from numpy import ma\n",
    "from matplotlib import ticker, cm\n",
    "\n",
    "from mpl_toolkits.mplot3d import Axes3D  # noqa: F401 unused import"
   ]
  },
  {
   "cell_type": "code",
   "execution_count": 39,
   "metadata": {},
   "outputs": [],
   "source": [
    "def run(R,k):\n",
    "    fig = plt.figure()\n",
    "    # ax = fig.gca(projection='3d')\n",
    "\n",
    "    # Make data.\n",
    "    c_bas = R/(k+1)\n",
    "    c = np.arange(c_bas, c_bas+2, 0.001)\n",
    "    f = np.arange(0, 1, 0.001)\n",
    "    c, f = np.meshgrid(c, f)\n",
    "    dcdt = (1/600)*(R-(k+f)*c)\n",
    "\n",
    "    # Plot the surface.\n",
    "    # surf = ax.plot_surface(c, f, -dcdt, cmap=cm.coolwarm,\n",
    "    #                        linewidth=0, antialiased=False)\n",
    "    # surf = ax.plot_wireframe(c, -f, -dcdt)\n",
    "    fig, ax = plt.subplots()\n",
    "    # cs = ax.contourf(c, f, dcdt, locator=ticker.LogLocator())\n",
    "    cs = ax.contourf(c, f, dcdt,cmap='RdBu')\n",
    "    cbar = fig.colorbar(cs)\n",
    "    cbar.set_label('dcdt', rotation=270)\n",
    "\n",
    "    # Customize the z axis.\n",
    "    # ax.set_zlim(-1.01, 1.01)\n",
    "    # ax.zaxis.set_major_locator(LinearLocator(10))\n",
    "    # ax.zaxis.set_major_formatter(FormatStrFormatter('%.02f'))\n",
    "\n",
    "    # Add a color bar which maps values to colors.\n",
    "    # fig.colorbar(surf, shrink=0.5, aspect=5)\n",
    "\n",
    "#     tikzplotlib.clean_figure()\n",
    "#     tikzplotlib.save('build-up.tikz',\n",
    "#            axis_height = '\\\\figureheight',\n",
    "#            axis_width = '\\\\figurewidth')"
   ]
  },
  {
   "cell_type": "code",
   "execution_count": null,
   "metadata": {},
   "outputs": [],
   "source": []
  },
  {
   "cell_type": "code",
   "execution_count": null,
   "metadata": {},
   "outputs": [],
   "source": []
  },
  {
   "cell_type": "code",
   "execution_count": 40,
   "metadata": {},
   "outputs": [
    {
     "data": {
      "text/plain": [
       "<Figure size 432x288 with 0 Axes>"
      ]
     },
     "metadata": {},
     "output_type": "display_data"
    },
    {
     "data": {
      "image/png": "[encoded data removed]",
      "text/plain": [
       "<Figure size 432x288 with 2 Axes>"
      ]
     },
     "metadata": {
      "needs_background": "light"
     },
     "output_type": "display_data"
    }
   ],
   "source": [
    "# R = [0.2,0.5,1,1.5,2]\n",
    "# for i in range(len(R)):\n",
    "#     run(R[i],0.1)\n",
    "    \n",
    "# k = [0.01,0.05,0.1,0.15,0.5,1]\n",
    "# for i in range(len(R)):\n",
    "#     run(1,k[i])\n",
    "\n",
    "run(1,0.1)\n",
    "plt.ylabel('Flow')\n",
    "plt.xlabel('AB concentration')\n",
    "plt.savefig('build-up.png')"
   ]
  },
  {
   "cell_type": "code",
   "execution_count": null,
   "metadata": {},
   "outputs": [],
   "source": []
  },
  {
   "cell_type": "code",
   "execution_count": null,
   "metadata": {},
   "outputs": [],
   "source": []
  }
 ],
 "metadata": {
  "kernelspec": {
   "display_name": "Python 3",
   "language": "python",
   "name": "python3"
  },
  "language_info": {
   "codemirror_mode": {
    "name": "ipython",
    "version": 3
   },
   "file_extension": ".py",
   "mimetype": "text/x-python",
   "name": "python",
   "nbconvert_exporter": "python",
   "pygments_lexer": "ipython3",
   "version": "3.7.4"
  }
 },
 "nbformat": 4,
 "nbformat_minor": 4
}
