{
 "cells": [
  {
   "cell_type": "code",
   "execution_count": 16,
   "metadata": {},
   "outputs": [],
   "source": [
    "import pandas as pd\n",
    "import numpy as np\n",
    "from scipy import integrate\n",
    "from pylab import *\n",
    "from sympy.integrals import laplace_transform\n",
    "from sympy.integrals import inverse_laplace_transform\n",
    "import matplotlib.pyplot as plt\n",
    "from scipy.integrate import odeint\n",
    "from scipy import signal"
   ]
  },
  {
   "cell_type": "code",
   "execution_count": 126,
   "metadata": {},
   "outputs": [],
   "source": [
    "# a b and delay have to be optimised for. Final should be set? is this a correct idea? \n",
    "# or should i optimise for this too?\n",
    "\n",
    "# Simulate taup * dy/dt = -y + K*u\n",
    "pre=1\n",
    "final =0.153\n",
    "delay = 7.62\n",
    "\n",
    "K = 1\n",
    "tau = 1\n",
    "\n",
    "# (1) Transfer Function\n",
    "num = [K]\n",
    "den = [tau,1]\n",
    "sys1 = signal.TransferFunction(num,den)\n",
    "t1,y1 = signal.step(sys1)\n",
    "\n",
    "y1 = pre-(pre-final)*y1\n",
    "t1 = pd.Series(t1 +delay)\n",
    "pre_t = pd.Series(np.linspace(0,delay,100))\n",
    "t1 = pre_t.append(t1,ignore_index=True)#\n",
    "# t1 = pd.Series(t1)\n",
    "\n",
    "y1 = pd.Series(y1)\n",
    "pre_y = pd.Series(np.zeros(100) +1)\n",
    "y1 = pre_y.append(y1, ignore_index=True)\n",
    "\n",
    "#lets do the LSE thing\n",
    "\n",
    "\n"
   ]
  },
  {
   "cell_type": "code",
   "execution_count": 133,
   "metadata": {},
   "outputs": [],
   "source": [
    "tau = linspace(0,20,num=100)\n",
    "LS = np.zeros(len(tau))\n",
    "for j in range(len(tau)):\n",
    "    def convert_time2diamater(t1,value):\n",
    "        diff = np.zeros(len(t1))\n",
    "        for i in range(len(t1)):\n",
    "                diff[i] = pd.Series((t1[i] - value)**2)\n",
    "    \n",
    "        for i in range(len(t1)):\n",
    "            if diff[i] == min(diff):\n",
    "                out = i\n",
    "        return y1[out]\n",
    "\n",
    "    points = pd.DataFrame({'t': [7.62,8.08,8.69,9.22,11.73,11.85,20,30,40], 'd': [1,0.906,0.706,0.52,0.346,0.247,0.153,0.153,0.153]})\n",
    "    convert_time2diamater(t1,9)\n",
    "    diff = np.zeros(len(points))\n",
    "    for i in range(len(points)):\n",
    "        diff[i] = (points.loc[i,'d']-convert_time2diamater(t1,points.loc[i,'t']))**2\n",
    "    LS[j] = sum(diff)"
   ]
  },
  {
   "cell_type": "code",
   "execution_count": 134,
   "metadata": {},
   "outputs": [
    {
     "data": {
      "text/plain": [
       "array([0.2023718, 0.2023718, 0.2023718, 0.2023718, 0.2023718, 0.2023718,\n",
       "       0.2023718, 0.2023718, 0.2023718, 0.2023718, 0.2023718, 0.2023718,\n",
       "       0.2023718, 0.2023718, 0.2023718, 0.2023718, 0.2023718, 0.2023718,\n",
       "       0.2023718, 0.2023718, 0.2023718, 0.2023718, 0.2023718, 0.2023718,\n",
       "       0.2023718, 0.2023718, 0.2023718, 0.2023718, 0.2023718, 0.2023718,\n",
       "       0.2023718, 0.2023718, 0.2023718, 0.2023718, 0.2023718, 0.2023718,\n",
       "       0.2023718, 0.2023718, 0.2023718, 0.2023718, 0.2023718, 0.2023718,\n",
       "       0.2023718, 0.2023718, 0.2023718, 0.2023718, 0.2023718, 0.2023718,\n",
       "       0.2023718, 0.2023718, 0.2023718, 0.2023718, 0.2023718, 0.2023718,\n",
       "       0.2023718, 0.2023718, 0.2023718, 0.2023718, 0.2023718, 0.2023718,\n",
       "       0.2023718, 0.2023718, 0.2023718, 0.2023718, 0.2023718, 0.2023718,\n",
       "       0.2023718, 0.2023718, 0.2023718, 0.2023718, 0.2023718, 0.2023718,\n",
       "       0.2023718, 0.2023718, 0.2023718, 0.2023718, 0.2023718, 0.2023718,\n",
       "       0.2023718, 0.2023718, 0.2023718, 0.2023718, 0.2023718, 0.2023718,\n",
       "       0.2023718, 0.2023718, 0.2023718, 0.2023718, 0.2023718, 0.2023718,\n",
       "       0.2023718, 0.2023718, 0.2023718, 0.2023718, 0.2023718, 0.2023718,\n",
       "       0.2023718, 0.2023718, 0.2023718, 0.2023718])"
      ]
     },
     "execution_count": 134,
     "metadata": {},
     "output_type": "execute_result"
    }
   ],
   "source": [
    "LS"
   ]
  },
  {
   "cell_type": "code",
   "execution_count": 105,
   "metadata": {},
   "outputs": [
    {
     "data": {
      "image/png": "[encoded data removed]",
      "text/plain": [
       "<Figure size 432x288 with 1 Axes>"
      ]
     },
     "metadata": {
      "needs_background": "light"
     },
     "output_type": "display_data"
    }
   ],
   "source": [
    "plt.figure(1)\n",
    "plt.plot(t1,y1,'b--',linewidth=3,label='Transfer Fcn')\n",
    "plt.xlabel('Time')\n",
    "plt.ylabel('Response (y)')\n",
    "plt.ylim(0)\n",
    "plt.xlim(0)\n",
    "plt.legend(loc='best')\n",
    "plt.show()"
   ]
  },
  {
   "cell_type": "code",
   "execution_count": 14,
   "metadata": {},
   "outputs": [
    {
     "data": {
      "image/png": "[encoded data removed]",
      "text/plain": [
       "<Figure size 432x288 with 1 Axes>"
      ]
     },
     "metadata": {
      "needs_background": "light"
     },
     "output_type": "display_data"
    }
   ],
   "source": [
    "import numpy as np\n",
    "from scipy import signal\n",
    "import matplotlib.pyplot as plt\n",
    "from scipy.integrate import odeint\n",
    "\n",
    "# Simulate taup * dy/dt = -y + K*u\n",
    "a=2\n",
    "\n",
    "##Create step function\n",
    "t = np.linspace(0,10,1001)\n",
    "u = np.zeros(len(t))\n",
    "for i in range(len(t)): \n",
    "    if t[i] <= 5:\n",
    "        u[i] = 1\n",
    "    else:\n",
    "        u[i] = 0\n",
    "\n",
    "# (3) ODE Integrator\n",
    "def model3(y,u):\n",
    "    return (-y/a + u)\n",
    "y = odeint(model3,0,t)\n",
    "\n",
    "plt.figure(1)\n",
    "plt.plot(t,y,'r-',linewidth=1)\n",
    "plt.xlabel('Time')\n",
    "plt.ylabel('Response (y)')\n",
    "plt.show()"
   ]
  },
  {
   "cell_type": "code",
   "execution_count": 15,
   "metadata": {},
   "outputs": [],
   "source": [
    "t = np.linspace(0,10,11)\n",
    "u = np.zeros(len(t))\n",
    "for i in range(len(t)): \n",
    "    if t[i] <= 5:\n",
    "        u[i] = 1\n",
    "    else:\n",
    "        u[i] = 0"
   ]
  },
  {
   "cell_type": "code",
   "execution_count": 100,
   "metadata": {},
   "outputs": [],
   "source": [
    "value = 7.62\n",
    "diff = np.zeros(len(t1))\n",
    "for i in range(len(t1)):\n",
    "        diff[i] = pd.Series((t1[i] - value)**2)\n",
    "    \n",
    "for i in range(len(t1)):\n",
    "    if diff[i] == min(diff):\n",
    "        out = i\n",
    "#diff"
   ]
  },
  {
   "cell_type": "code",
   "execution_count": 101,
   "metadata": {},
   "outputs": [
    {
     "data": {
      "text/plain": [
       "109"
      ]
     },
     "execution_count": 101,
     "metadata": {},
     "output_type": "execute_result"
    }
   ],
   "source": [
    "out"
   ]
  },
  {
   "cell_type": "code",
   "execution_count": 94,
   "metadata": {},
   "outputs": [
    {
     "ename": "AttributeError",
     "evalue": "'numpy.float64' object has no attribute 'where'",
     "output_type": "error",
     "traceback": [
      "\u001b[1;31m---------------------------------------------------------------------------\u001b[0m",
      "\u001b[1;31mAttributeError\u001b[0m                            Traceback (most recent call last)",
      "\u001b[1;32m<ipython-input-94-94cc08c6332c>\u001b[0m in \u001b[0;36m<module>\u001b[1;34m\u001b[0m\n\u001b[1;32m----> 1\u001b[1;33m \u001b[0mmin\u001b[0m\u001b[1;33m(\u001b[0m\u001b[0mdiff\u001b[0m\u001b[1;33m)\u001b[0m\u001b[1;33m.\u001b[0m\u001b[0mwhere\u001b[0m\u001b[1;33m(\u001b[0m\u001b[1;33m)\u001b[0m\u001b[1;33m\u001b[0m\u001b[1;33m\u001b[0m\u001b[0m\n\u001b[0m",
      "\u001b[1;31mAttributeError\u001b[0m: 'numpy.float64' object has no attribute 'where'"
     ]
    }
   ],
   "source": [
    "min(diff).where()"
   ]
  },
  {
   "cell_type": "code",
   "execution_count": 87,
   "metadata": {},
   "outputs": [
    {
     "data": {
      "text/plain": [
       "False"
      ]
     },
     "execution_count": 87,
     "metadata": {},
     "output_type": "execute_result"
    }
   ],
   "source": [
    "diff[j] == min(diff)"
   ]
  },
  {
   "cell_type": "code",
   "execution_count": null,
   "metadata": {},
   "outputs": [],
   "source": []
  }
 ],
 "metadata": {
  "kernelspec": {
   "display_name": "Python 3",
   "language": "python",
   "name": "python3"
  },
  "language_info": {
   "codemirror_mode": {
    "name": "ipython",
    "version": 3
   },
   "file_extension": ".py",
   "mimetype": "text/x-python",
   "name": "python",
   "nbconvert_exporter": "python",
   "pygments_lexer": "ipython3",
   "version": "3.7.4"
  }
 },
 "nbformat": 4,
 "nbformat_minor": 4
}
