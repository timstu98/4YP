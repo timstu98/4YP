{
 "cells": [
  {
   "cell_type": "code",
   "execution_count": 2,
   "metadata": {},
   "outputs": [],
   "source": [
    "import pandas as pd\n",
    "import numpy as np\n",
    "from scipy import integrate\n",
    "from pylab import *\n",
    "from sympy.integrals import laplace_transform\n",
    "from sympy.integrals import inverse_laplace_transform\n",
    "import matplotlib.pyplot as plt\n",
    "from scipy.integrate import odeint\n",
    "from scipy import signal"
   ]
  },
  {
   "cell_type": "code",
   "execution_count": 23,
   "metadata": {},
   "outputs": [
    {
     "name": "stdout",
     "output_type": "stream",
     "text": [
      "LS for best value\n",
      "0.011186673532403702\n"
     ]
    }
   ],
   "source": [
    "K=1\n",
    "pre=1\n",
    "final =0.153\n",
    "delay = 7.62\n",
    "\n",
    "tau = linspace(2,3,num=100)\n",
    "LS = np.zeros(len(tau))\n",
    "points = pd.DataFrame({'t': [7.62,8.08,8.69,9.22,11.73,11.85,20,30,40], 'd': [1,0.906,0.706,0.52,0.346,0.247,0.153,0.153,0.153]})\n",
    "\n",
    "def convert_time2diamater(t1,value):\n",
    "        diff = np.zeros(len(t1))\n",
    "        for i in range(len(t1)):\n",
    "                diff[i] = pd.Series((t1[i] - value)**2)\n",
    "    \n",
    "        for i in range(len(t1)):\n",
    "            if diff[i] == min(diff):\n",
    "                out = i\n",
    "        return y1[out]\n",
    "\n",
    "for j in range(len(tau)):\n",
    "    num = [K]\n",
    "    den = [tau[j],1]\n",
    "    sys1 = signal.TransferFunction(num,den)\n",
    "    t1,y1 = signal.step(sys1)\n",
    "\n",
    "    y1 = pre-(pre-final)*y1\n",
    "    t1 = pd.Series(t1 +delay)\n",
    "    pre_t = pd.Series(np.linspace(0,delay,100))\n",
    "    t1 = pre_t.append(t1,ignore_index=True)#\n",
    "    # t1 = pd.Series(t1)\n",
    "\n",
    "    y1 = pd.Series(y1)\n",
    "    pre_y = pd.Series(np.zeros(100) +1)\n",
    "    y1 = pre_y.append(y1, ignore_index=True)\n",
    "    \n",
    "    \n",
    "    diff = np.zeros(len(points))\n",
    "    for i in range(len(points)):\n",
    "        diff[i] = (points.loc[i,'d']-convert_time2diamater(t1,points.loc[i,'t']))**2\n",
    "    LS[j] = sum(diff)\n",
    "    \n",
    "for i in range(len(LS)):\n",
    "            if LS[i] == min(LS):\n",
    "                out = i\n",
    "\n",
    "print('LS for best value')\n",
    "print(LS[out])"
   ]
  },
  {
   "cell_type": "code",
   "execution_count": 24,
   "metadata": {},
   "outputs": [],
   "source": [
    "# a b and delay have to be optimised for. Final should be set? is this a correct idea? \n",
    "# or should i optimise for this too?\n",
    "\n",
    "# (1) Transfer Function\n",
    "num = [K]\n",
    "den = [tau[out],1]\n",
    "sys1 = signal.TransferFunction(num,den)\n",
    "t1,y1 = signal.step(sys1)\n",
    "\n",
    "y1 = pre-(pre-final)*y1\n",
    "t1 = pd.Series(t1 +delay)\n",
    "pre_t = pd.Series(np.linspace(0,delay,100))\n",
    "t1 = pre_t.append(t1,ignore_index=True)#\n",
    "# t1 = pd.Series(t1)\n",
    "\n",
    "y1 = pd.Series(y1)\n",
    "pre_y = pd.Series(np.zeros(100) +1)\n",
    "y1 = pre_y.append(y1, ignore_index=True)\n",
    "\n",
    "#lets do the LSE thing\n",
    "\n",
    "\n"
   ]
  },
  {
   "cell_type": "code",
   "execution_count": 31,
   "metadata": {},
   "outputs": [
    {
     "data": {
      "image/png": "[encoded data removed]",
      "text/plain": [
       "<Figure size 432x288 with 1 Axes>"
      ]
     },
     "metadata": {
      "needs_background": "light"
     },
     "output_type": "display_data"
    }
   ],
   "source": [
    "plt.figure(1)\n",
    "plt.plot(t1,y1,'b--',linewidth=2,label='Transfer Fcn')\n",
    "plt.scatter(points['t'],points['d'], color='r')\n",
    "plt.xlabel('Time')\n",
    "plt.ylabel('Response (y)')\n",
    "plt.ylim(0)\n",
    "plt.xlim(0)\n",
    "plt.legend(loc='best')\n",
    "plt.show()"
   ]
  },
  {
   "cell_type": "code",
   "execution_count": 14,
   "metadata": {},
   "outputs": [
    {
     "data": {
      "image/png": "[encoded data removed]",
      "text/plain": [
       "<Figure size 432x288 with 1 Axes>"
      ]
     },
     "metadata": {
      "needs_background": "light"
     },
     "output_type": "display_data"
    }
   ],
   "source": [
    "import numpy as np\n",
    "from scipy import signal\n",
    "import matplotlib.pyplot as plt\n",
    "from scipy.integrate import odeint\n",
    "\n",
    "# Simulate taup * dy/dt = -y + K*u\n",
    "a=2\n",
    "\n",
    "##Create step function\n",
    "t = np.linspace(0,10,1001)\n",
    "u = np.zeros(len(t))\n",
    "for i in range(len(t)): \n",
    "    if t[i] <= 5:\n",
    "        u[i] = 1\n",
    "    else:\n",
    "        u[i] = 0\n",
    "\n",
    "# (3) ODE Integrator\n",
    "def model3(y,u):\n",
    "    return (-y/a + u)\n",
    "y = odeint(model3,0,t)\n",
    "\n",
    "plt.figure(1)\n",
    "plt.plot(t,y,'r-',linewidth=1)\n",
    "plt.xlabel('Time')\n",
    "plt.ylabel('Response (y)')\n",
    "plt.show()"
   ]
  },
  {
   "cell_type": "code",
   "execution_count": 27,
   "metadata": {},
   "outputs": [
    {
     "data": {
      "text/html": [
       "<div>\n",
       "<style scoped>\n",
       "    .dataframe tbody tr th:only-of-type {\n",
       "        vertical-align: middle;\n",
       "    }\n",
       "\n",
       "    .dataframe tbody tr th {\n",
       "        vertical-align: top;\n",
       "    }\n",
       "\n",
       "    .dataframe thead th {\n",
       "        text-align: right;\n",
       "    }\n",
       "</style>\n",
       "<table border=\"1\" class=\"dataframe\">\n",
       "  <thead>\n",
       "    <tr style=\"text-align: right;\">\n",
       "      <th></th>\n",
       "      <th>t</th>\n",
       "      <th>d</th>\n",
       "    </tr>\n",
       "  </thead>\n",
       "  <tbody>\n",
       "    <tr>\n",
       "      <td>0</td>\n",
       "      <td>7.62</td>\n",
       "      <td>1.000</td>\n",
       "    </tr>\n",
       "    <tr>\n",
       "      <td>1</td>\n",
       "      <td>8.08</td>\n",
       "      <td>0.906</td>\n",
       "    </tr>\n",
       "    <tr>\n",
       "      <td>2</td>\n",
       "      <td>8.69</td>\n",
       "      <td>0.706</td>\n",
       "    </tr>\n",
       "    <tr>\n",
       "      <td>3</td>\n",
       "      <td>9.22</td>\n",
       "      <td>0.520</td>\n",
       "    </tr>\n",
       "    <tr>\n",
       "      <td>4</td>\n",
       "      <td>11.73</td>\n",
       "      <td>0.346</td>\n",
       "    </tr>\n",
       "    <tr>\n",
       "      <td>5</td>\n",
       "      <td>11.85</td>\n",
       "      <td>0.247</td>\n",
       "    </tr>\n",
       "    <tr>\n",
       "      <td>6</td>\n",
       "      <td>20.00</td>\n",
       "      <td>0.153</td>\n",
       "    </tr>\n",
       "    <tr>\n",
       "      <td>7</td>\n",
       "      <td>30.00</td>\n",
       "      <td>0.153</td>\n",
       "    </tr>\n",
       "    <tr>\n",
       "      <td>8</td>\n",
       "      <td>40.00</td>\n",
       "      <td>0.153</td>\n",
       "    </tr>\n",
       "  </tbody>\n",
       "</table>\n",
       "</div>"
      ],
      "text/plain": [
       "       t      d\n",
       "0   7.62  1.000\n",
       "1   8.08  0.906\n",
       "2   8.69  0.706\n",
       "3   9.22  0.520\n",
       "4  11.73  0.346\n",
       "5  11.85  0.247\n",
       "6  20.00  0.153\n",
       "7  30.00  0.153\n",
       "8  40.00  0.153"
      ]
     },
     "execution_count": 27,
     "metadata": {},
     "output_type": "execute_result"
    }
   ],
   "source": [
    "points"
   ]
  },
  {
   "cell_type": "code",
   "execution_count": null,
   "metadata": {},
   "outputs": [],
   "source": []
  }
 ],
 "metadata": {
  "kernelspec": {
   "display_name": "Python 3",
   "language": "python",
   "name": "python3"
  },
  "language_info": {
   "codemirror_mode": {
    "name": "ipython",
    "version": 3
   },
   "file_extension": ".py",
   "mimetype": "text/x-python",
   "name": "python",
   "nbconvert_exporter": "python",
   "pygments_lexer": "ipython3",
   "version": "3.7.4"
  }
 },
 "nbformat": 4,
 "nbformat_minor": 4
}
