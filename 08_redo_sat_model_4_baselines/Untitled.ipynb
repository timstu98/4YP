{
 "cells": [
  {
   "cell_type": "code",
   "execution_count": 12,
   "metadata": {},
   "outputs": [],
   "source": [
    "import pandas as pd\n",
    "import numpy as np\n",
    "import matplotlib.pyplot as plt\n",
    "baselines = pd.read_csv(r\"/Users/Debs/OneDrive - Nexus365/4YP/python/_storage/baselines/baselines_met.csv\", index_col=0).rename(columns={\"Q in single(µm3/s)\": \"baseline Q\"}) # FOR MAC"
   ]
  },
  {
   "cell_type": "code",
   "execution_count": 62,
   "metadata": {},
   "outputs": [],
   "source": [
    "def total_R(baselines,phi,alpha):\n",
    "    C_ = alpha*(baselines.at[6,'Resistance for Q']/2)/phi**4  + (1-alpha)*(baselines.at[6,'Resistance for Q']/2)\n",
    "    C_6 = (C_ + baselines.at[5,'Resistance for Q'] + baselines.at[7,'Resistance for Q'])/2\n",
    "    C_65 = (C_6 + baselines.at[4,'Resistance for Q'] + baselines.at[8,'Resistance for Q'])/2\n",
    "    C_654 = (C_65 + baselines.at[3,'Resistance for Q'] + baselines.at[9,'Resistance for Q'])/2\n",
    "    C_6543 = (C_654 + baselines.at[2,'Resistance for Q'] + baselines.at[10,'Resistance for Q'])/2\n",
    "    C_65432 = (C_6543 + baselines.at[1,'Resistance for Q'] + baselines.at[11,'Resistance for Q'])/2\n",
    "    C_654321 = C_65432 + baselines.at[0,'Resistance for Q'] + baselines.at[12,'Resistance for Q']\n",
    "    R_total = C_654321\n",
    "    return R_total"
   ]
  },
  {
   "cell_type": "code",
   "execution_count": 63,
   "metadata": {},
   "outputs": [],
   "source": [
    "alpha = 0.5\n",
    "phi_FI = 0.153\n",
    "p_drop = 0.5"
   ]
  },
  {
   "cell_type": "code",
   "execution_count": 64,
   "metadata": {},
   "outputs": [
    {
     "name": "stdout",
     "output_type": "stream",
     "text": [
      "p diff init:  45\n",
      "p diff final:  22.5\n"
     ]
    }
   ],
   "source": [
    "p_in_init = 60\n",
    "p_final = 15\n",
    "p_diff_init = 60-15\n",
    "p_diff_final = (60-15)*(1-p_drop)\n",
    "Q_init = p_diff_init/total_R(baselines,1,alpha)\n",
    "print('p diff init: ',p_diff_init)\n",
    "print('p diff final: ',p_diff_final)"
   ]
  },
  {
   "cell_type": "code",
   "execution_count": 66,
   "metadata": {},
   "outputs": [],
   "source": [
    "iters = 100\n",
    "phi = np.zeros(iters)\n",
    "phi_min = np.zeros(iters)\n",
    "Q = np.zeros(iters)\n",
    "Q_norm = np.zeros(iters)\n",
    "R = np.zeros(iters)\n",
    "phi[0]=1\n",
    "phi_min[0]=0.6\n",
    "# Q[0] = Q_init"
   ]
  },
  {
   "cell_type": "code",
   "execution_count": 67,
   "metadata": {},
   "outputs": [],
   "source": [
    "for i in range(iters):\n",
    "    R[i] = total_R(baselines,phi[i],alpha)\n",
    "    Q[i] = p_diff_final/R[i]\n",
    "    Q_norm[i] = Q[i]/Q_init\n",
    "    phi_min[i] = 1-(alpha**0.25)*(1-phi_FI)*(1-Q_norm[i])\n",
    "    if i == its-1:\n",
    "        continue\n",
    "    else:\n",
    "        phi[i+1] = Q_norm[i]*(1-phi_min[i]) + phi_min[i]"
   ]
  },
  {
   "cell_type": "code",
   "execution_count": 74,
   "metadata": {},
   "outputs": [
    {
     "name": "stdout",
     "output_type": "stream",
     "text": [
      "0.47453791512149995\n",
      "0.8033433301148208\n"
     ]
    }
   ],
   "source": [
    "print(Q_norm[-1])\n",
    "print(phi[-1])"
   ]
  },
  {
   "cell_type": "code",
   "execution_count": 68,
   "metadata": {},
   "outputs": [
    {
     "data": {
      "text/plain": [
       "[<matplotlib.lines.Line2D at 0x11c74ccd0>]"
      ]
     },
     "execution_count": 68,
     "metadata": {},
     "output_type": "execute_result"
    },
    {
     "data": {
      "image/png": "[encoded data removed]",
      "text/plain": [
       "<Figure size 432x288 with 1 Axes>"
      ]
     },
     "metadata": {
      "needs_background": "light"
     },
     "output_type": "display_data"
    }
   ],
   "source": [
    "plt.plot(range(its),Q_norm)\n",
    "plt.plot(range(its),phi)\n"
   ]
  },
  {
   "cell_type": "code",
   "execution_count": 55,
   "metadata": {},
   "outputs": [],
   "source": [
    "def check_imag_roots_real(all_roots):\n",
    "    counter = 0\n",
    "    sols = 0\n",
    "    for i in range(len(all_roots)):\n",
    "        if all_roots[i].imag <= 10e-13 and all_roots[i].imag >= -10e-13:\n",
    "            sols = all_roots[i].real\n",
    "            counter += 1\n",
    "    if counter != 1:\n",
    "        print('Something seems wrong with the partial presure to Saturation cubic solver as not one solution is returned.')\n",
    "    return sols"
   ]
  },
  {
   "cell_type": "code",
   "execution_count": 59,
   "metadata": {},
   "outputs": [],
   "source": [
    "M_constant = 8.20e-4\n",
    "K_o = 5e-8 \n",
    "K = K_o * (1e6) # µm2/(s*mmHg)\n",
    "hill_constant = 2   \n",
    "H = 0.42 \n",
    "cHb = 0.2 "
   ]
  },
  {
   "cell_type": "code",
   "execution_count": 61,
   "metadata": {},
   "outputs": [],
   "source": [
    "its = 100\n",
    "I = [i for i in range(its)]\n",
    "\n",
    "def create_df():\n",
    "#     name = pd.DataFrame(ss['Name'])\n",
    "#     name = pd.DataFrame(columns=I)\n",
    "#     name = name.set_index('Name')\n",
    "#     name = pd.concat([name,pd.DataFrame(columns=I)])\n",
    "\n",
    "    name = pd.DataFrame(np.NaN, index=np.arange(13), columns=I)\n",
    "    return name\n",
    "    \n",
    "M = create_df()\n",
    "M[0] = [M_constant for i in range(13)]\n",
    "Sat_in = create_df()\n",
    "Sat_in.iloc[0,:] = 0.94\n",
    "Sat_out = create_df()\n",
    "p_diff = create_df() # pb-pt\n",
    "Sat_ave = create_df()\n",
    "pb = create_df()\n",
    "pt = create_df()"
   ]
  },
  {
   "cell_type": "code",
   "execution_count": null,
   "metadata": {},
   "outputs": [],
   "source": []
  }
 ],
 "metadata": {
  "kernelspec": {
   "display_name": "Python 3",
   "language": "python",
   "name": "python3"
  },
  "language_info": {
   "codemirror_mode": {
    "name": "ipython",
    "version": 3
   },
   "file_extension": ".py",
   "mimetype": "text/x-python",
   "name": "python",
   "nbconvert_exporter": "python",
   "pygments_lexer": "ipython3",
   "version": "3.7.4"
  }
 },
 "nbformat": 4,
 "nbformat_minor": 4
}
