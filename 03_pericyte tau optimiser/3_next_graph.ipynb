{
 "cells": [
  {
   "cell_type": "code",
   "execution_count": 2,
   "metadata": {},
   "outputs": [],
   "source": [
    "import pandas as pd\n",
    "import numpy as np\n",
    "from scipy import integrate\n",
    "from pylab import *\n",
    "from sympy.integrals import laplace_transform\n",
    "from sympy.integrals import inverse_laplace_transform\n",
    "import matplotlib.pyplot as plt\n",
    "from scipy.integrate import odeint\n",
    "from scipy import signal\n",
    "from tqdm import tqdm\n",
    "import math"
   ]
  },
  {
   "cell_type": "code",
   "execution_count": 3,
   "metadata": {},
   "outputs": [
    {
     "name": "stdout",
     "output_type": "stream",
     "text": [
      "Optimised value of tau:\n",
      "2.292929292929293\n",
      "LS for best value\n",
      "0.0090659464314706\n"
     ]
    }
   ],
   "source": [
    "K=1\n",
    "pre=1\n",
    "final =0.153\n",
    "delay = 7.62\n",
    "\n",
    "tau = linspace(2,3,num=100)\n",
    "LS = np.zeros(len(tau))\n",
    "#points = pd.DataFrame({'t': [7.62,8.08,8.69,9.22,11.73,11.85,20], 'd': [1,0.906,0.706,0.52,0.346,0.247,0.153,]})\n",
    "points = pd.DataFrame({'t': [0,3,5,7.62,8.08,8.69,9.22,11.73,11.85,20,30,40], 'd': [1,1.01,0.99,1,0.906,0.706,0.52,0.346,0.247,0.153,0.153,0.153]})\n",
    "\n",
    "def convert_time2diamater(t1,value):\n",
    "        diff = np.zeros(len(t1))\n",
    "        for i in range(len(t1)):\n",
    "                diff[i] = pd.Series((t1[i] - value)**2)\n",
    "    \n",
    "        for i in range(len(t1)):\n",
    "            if diff[i] == min(diff):\n",
    "                out = i\n",
    "        return y1[out]\n",
    "\n",
    "for j in range(len(tau)):\n",
    "    num = [K]\n",
    "    den = [tau[j],1]\n",
    "    sys1 = signal.TransferFunction(num,den)\n",
    "    t1,y1 = signal.step(sys1, T=np.linspace(0,45,100))\n",
    "\n",
    "    y1 = pre-(pre-final)*y1\n",
    "    t1 = pd.Series(t1 +delay)\n",
    "    pre_t = pd.Series(np.linspace(0,delay,100))\n",
    "    t1 = pre_t.append(t1,ignore_index=True)#\n",
    "    # t1 = pd.Series(t1)\n",
    "\n",
    "    y1 = pd.Series(y1)\n",
    "    pre_y = pd.Series(np.zeros(100) +1)\n",
    "    y1 = pre_y.append(y1, ignore_index=True)\n",
    "    \n",
    "    \n",
    "    diff = np.zeros(len(points))\n",
    "    for i in range(len(points)):\n",
    "        diff[i] = (points.loc[i,'d']-convert_time2diamater(t1,points.loc[i,'t']))**2\n",
    "    LS[j] = sum(diff)\n",
    "    \n",
    "for i in range(len(LS)):\n",
    "            if LS[i] == min(LS):\n",
    "                out = i\n",
    "                print(\"Optimised value of tau:\")\n",
    "                print(tau[i])\n",
    "\n",
    "print('LS for best value')\n",
    "print(LS[out])"
   ]
  },
  {
   "cell_type": "code",
   "execution_count": 4,
   "metadata": {},
   "outputs": [
    {
     "data": {
      "image/png": "[encoded data removed]",
      "text/plain": [
       "<Figure size 432x288 with 1 Axes>"
      ]
     },
     "metadata": {
      "needs_background": "light"
     },
     "output_type": "display_data"
    }
   ],
   "source": [
    "plt.figure(1)\n",
    "plt.plot(t1,y1,'b--',linewidth=2,label='Transfer Fcn')\n",
    "plt.scatter(points['t'],points['d'], color='r')\n",
    "plt.xlabel('Time')\n",
    "plt.ylabel('Response (y)')\n",
    "plt.ylim(0)\n",
    "plt.xlim(0)\n",
    "plt.legend(loc='best')\n",
    "plt.savefig(\"Pericyte response LS fit Ischaemia\")\n",
    "plt.show()"
   ]
  },
  {
   "cell_type": "code",
   "execution_count": 3,
   "metadata": {},
   "outputs": [
    {
     "name": "stderr",
     "output_type": "stream",
     "text": [
      "  8%|▊         | 2/25 [00:28<05:29, 14.32s/it]"
     ]
    },
    {
     "ename": "KeyboardInterrupt",
     "evalue": "",
     "output_type": "error",
     "traceback": [
      "\u001b[0;31m---------------------------------------------------------------------------\u001b[0m",
      "\u001b[0;31mKeyboardInterrupt\u001b[0m                         Traceback (most recent call last)",
      "\u001b[0;32m<ipython-input-3-5a48e89ffec5>\u001b[0m in \u001b[0;36m<module>\u001b[0;34m\u001b[0m\n\u001b[1;32m     51\u001b[0m     \u001b[0;32mfor\u001b[0m \u001b[0mtau\u001b[0m \u001b[0;32min\u001b[0m \u001b[0mtaus\u001b[0m\u001b[0;34m:\u001b[0m\u001b[0;34m\u001b[0m\u001b[0;34m\u001b[0m\u001b[0m\n\u001b[1;32m     52\u001b[0m         \u001b[0;32mfor\u001b[0m \u001b[0mfinal\u001b[0m \u001b[0;32min\u001b[0m \u001b[0mfinals\u001b[0m\u001b[0;34m:\u001b[0m\u001b[0;34m\u001b[0m\u001b[0;34m\u001b[0m\u001b[0m\n\u001b[0;32m---> 53\u001b[0;31m             \u001b[0mLS_outs\u001b[0m\u001b[0;34m[\u001b[0m\u001b[0mcounter\u001b[0m\u001b[0;34m]\u001b[0m \u001b[0;34m=\u001b[0m \u001b[0mrun\u001b[0m\u001b[0;34m(\u001b[0m\u001b[0mtau\u001b[0m\u001b[0;34m,\u001b[0m\u001b[0mfinal\u001b[0m\u001b[0;34m,\u001b[0m\u001b[0mdelay\u001b[0m\u001b[0;34m)\u001b[0m\u001b[0;34m\u001b[0m\u001b[0;34m\u001b[0m\u001b[0m\n\u001b[0m\u001b[1;32m     54\u001b[0m             \u001b[0mindex\u001b[0m\u001b[0;34m[\u001b[0m\u001b[0mcounter\u001b[0m\u001b[0;34m]\u001b[0m \u001b[0;34m=\u001b[0m \u001b[0;34m[\u001b[0m\u001b[0mdelay\u001b[0m\u001b[0;34m,\u001b[0m\u001b[0mtau\u001b[0m\u001b[0;34m,\u001b[0m\u001b[0mfinal\u001b[0m\u001b[0;34m]\u001b[0m\u001b[0;34m\u001b[0m\u001b[0;34m\u001b[0m\u001b[0m\n\u001b[1;32m     55\u001b[0m             \u001b[0mcounter\u001b[0m \u001b[0;34m=\u001b[0m \u001b[0mcounter\u001b[0m \u001b[0;34m+\u001b[0m \u001b[0;36m1\u001b[0m\u001b[0;34m\u001b[0m\u001b[0;34m\u001b[0m\u001b[0m\n",
      "\u001b[0;32m<ipython-input-3-5a48e89ffec5>\u001b[0m in \u001b[0;36mrun\u001b[0;34m(tau, final, delay, give)\u001b[0m\n\u001b[1;32m     33\u001b[0m     \u001b[0mdiff\u001b[0m \u001b[0;34m=\u001b[0m \u001b[0mnp\u001b[0m\u001b[0;34m.\u001b[0m\u001b[0mzeros\u001b[0m\u001b[0;34m(\u001b[0m\u001b[0mlen\u001b[0m\u001b[0;34m(\u001b[0m\u001b[0mpoints\u001b[0m\u001b[0;34m)\u001b[0m\u001b[0;34m)\u001b[0m\u001b[0;34m\u001b[0m\u001b[0;34m\u001b[0m\u001b[0m\n\u001b[1;32m     34\u001b[0m     \u001b[0;32mfor\u001b[0m \u001b[0mi\u001b[0m \u001b[0;32min\u001b[0m \u001b[0mrange\u001b[0m\u001b[0;34m(\u001b[0m\u001b[0mlen\u001b[0m\u001b[0;34m(\u001b[0m\u001b[0mpoints\u001b[0m\u001b[0;34m)\u001b[0m\u001b[0;34m)\u001b[0m\u001b[0;34m:\u001b[0m\u001b[0;34m\u001b[0m\u001b[0;34m\u001b[0m\u001b[0m\n\u001b[0;32m---> 35\u001b[0;31m         \u001b[0mdiff\u001b[0m\u001b[0;34m[\u001b[0m\u001b[0mi\u001b[0m\u001b[0;34m]\u001b[0m \u001b[0;34m=\u001b[0m \u001b[0;34m(\u001b[0m\u001b[0mpoints\u001b[0m\u001b[0;34m.\u001b[0m\u001b[0mloc\u001b[0m\u001b[0;34m[\u001b[0m\u001b[0mi\u001b[0m\u001b[0;34m,\u001b[0m\u001b[0;34m'd'\u001b[0m\u001b[0;34m]\u001b[0m\u001b[0;34m-\u001b[0m\u001b[0mconvert_time2diamater\u001b[0m\u001b[0;34m(\u001b[0m\u001b[0mt1\u001b[0m\u001b[0;34m,\u001b[0m\u001b[0my1\u001b[0m\u001b[0;34m,\u001b[0m\u001b[0mpoints\u001b[0m\u001b[0;34m.\u001b[0m\u001b[0mloc\u001b[0m\u001b[0;34m[\u001b[0m\u001b[0mi\u001b[0m\u001b[0;34m,\u001b[0m\u001b[0;34m't'\u001b[0m\u001b[0;34m]\u001b[0m\u001b[0;34m)\u001b[0m\u001b[0;34m)\u001b[0m\u001b[0;34m**\u001b[0m\u001b[0;36m2\u001b[0m\u001b[0;34m\u001b[0m\u001b[0;34m\u001b[0m\u001b[0m\n\u001b[0m\u001b[1;32m     36\u001b[0m     \u001b[0mLS_sum\u001b[0m \u001b[0;34m=\u001b[0m \u001b[0msum\u001b[0m\u001b[0;34m(\u001b[0m\u001b[0mdiff\u001b[0m\u001b[0;34m)\u001b[0m\u001b[0;34m\u001b[0m\u001b[0;34m\u001b[0m\u001b[0m\n\u001b[1;32m     37\u001b[0m \u001b[0;34m\u001b[0m\u001b[0m\n",
      "\u001b[0;32m<ipython-input-3-5a48e89ffec5>\u001b[0m in \u001b[0;36mconvert_time2diamater\u001b[0;34m(t1, y1, value)\u001b[0m\n\u001b[1;32m      6\u001b[0m         \u001b[0mdiff\u001b[0m \u001b[0;34m=\u001b[0m \u001b[0mnp\u001b[0m\u001b[0;34m.\u001b[0m\u001b[0mzeros\u001b[0m\u001b[0;34m(\u001b[0m\u001b[0mlen\u001b[0m\u001b[0;34m(\u001b[0m\u001b[0mt1\u001b[0m\u001b[0;34m)\u001b[0m\u001b[0;34m)\u001b[0m\u001b[0;34m\u001b[0m\u001b[0;34m\u001b[0m\u001b[0m\n\u001b[1;32m      7\u001b[0m         \u001b[0;32mfor\u001b[0m \u001b[0mi\u001b[0m \u001b[0;32min\u001b[0m \u001b[0mrange\u001b[0m\u001b[0;34m(\u001b[0m\u001b[0mlen\u001b[0m\u001b[0;34m(\u001b[0m\u001b[0mt1\u001b[0m\u001b[0;34m)\u001b[0m\u001b[0;34m)\u001b[0m\u001b[0;34m:\u001b[0m\u001b[0;34m\u001b[0m\u001b[0;34m\u001b[0m\u001b[0m\n\u001b[0;32m----> 8\u001b[0;31m                 \u001b[0mdiff\u001b[0m\u001b[0;34m[\u001b[0m\u001b[0mi\u001b[0m\u001b[0;34m]\u001b[0m \u001b[0;34m=\u001b[0m \u001b[0mpd\u001b[0m\u001b[0;34m.\u001b[0m\u001b[0mSeries\u001b[0m\u001b[0;34m(\u001b[0m\u001b[0;34m(\u001b[0m\u001b[0mt1\u001b[0m\u001b[0;34m[\u001b[0m\u001b[0mi\u001b[0m\u001b[0;34m]\u001b[0m \u001b[0;34m-\u001b[0m \u001b[0mvalue\u001b[0m\u001b[0;34m)\u001b[0m\u001b[0;34m**\u001b[0m\u001b[0;36m2\u001b[0m\u001b[0;34m)\u001b[0m\u001b[0;34m\u001b[0m\u001b[0;34m\u001b[0m\u001b[0m\n\u001b[0m\u001b[1;32m      9\u001b[0m \u001b[0;34m\u001b[0m\u001b[0m\n\u001b[1;32m     10\u001b[0m         \u001b[0;32mfor\u001b[0m \u001b[0mi\u001b[0m \u001b[0;32min\u001b[0m \u001b[0mrange\u001b[0m\u001b[0;34m(\u001b[0m\u001b[0mlen\u001b[0m\u001b[0;34m(\u001b[0m\u001b[0mt1\u001b[0m\u001b[0;34m)\u001b[0m\u001b[0;34m)\u001b[0m\u001b[0;34m:\u001b[0m\u001b[0;34m\u001b[0m\u001b[0;34m\u001b[0m\u001b[0m\n",
      "\u001b[0;32m~/opt/anaconda3/lib/python3.7/site-packages/pandas/core/series.py\u001b[0m in \u001b[0;36m__getitem__\u001b[0;34m(self, key)\u001b[0m\n\u001b[1;32m    869\u001b[0m         \u001b[0mkey\u001b[0m \u001b[0;34m=\u001b[0m \u001b[0mcom\u001b[0m\u001b[0;34m.\u001b[0m\u001b[0mapply_if_callable\u001b[0m\u001b[0;34m(\u001b[0m\u001b[0mkey\u001b[0m\u001b[0;34m,\u001b[0m \u001b[0mself\u001b[0m\u001b[0;34m)\u001b[0m\u001b[0;34m\u001b[0m\u001b[0;34m\u001b[0m\u001b[0m\n\u001b[1;32m    870\u001b[0m         \u001b[0;32mtry\u001b[0m\u001b[0;34m:\u001b[0m\u001b[0;34m\u001b[0m\u001b[0;34m\u001b[0m\u001b[0m\n\u001b[0;32m--> 871\u001b[0;31m             \u001b[0mresult\u001b[0m \u001b[0;34m=\u001b[0m \u001b[0mself\u001b[0m\u001b[0;34m.\u001b[0m\u001b[0mindex\u001b[0m\u001b[0;34m.\u001b[0m\u001b[0mget_value\u001b[0m\u001b[0;34m(\u001b[0m\u001b[0mself\u001b[0m\u001b[0;34m,\u001b[0m \u001b[0mkey\u001b[0m\u001b[0;34m)\u001b[0m\u001b[0;34m\u001b[0m\u001b[0;34m\u001b[0m\u001b[0m\n\u001b[0m\u001b[1;32m    872\u001b[0m \u001b[0;34m\u001b[0m\u001b[0m\n\u001b[1;32m    873\u001b[0m             \u001b[0;32mif\u001b[0m \u001b[0;32mnot\u001b[0m \u001b[0mis_scalar\u001b[0m\u001b[0;34m(\u001b[0m\u001b[0mresult\u001b[0m\u001b[0;34m)\u001b[0m\u001b[0;34m:\u001b[0m\u001b[0;34m\u001b[0m\u001b[0;34m\u001b[0m\u001b[0m\n",
      "\u001b[0;32m~/opt/anaconda3/lib/python3.7/site-packages/pandas/core/indexes/base.py\u001b[0m in \u001b[0;36mget_value\u001b[0;34m(self, series, key)\u001b[0m\n\u001b[1;32m   4403\u001b[0m         \u001b[0mk\u001b[0m \u001b[0;34m=\u001b[0m \u001b[0mself\u001b[0m\u001b[0;34m.\u001b[0m\u001b[0m_convert_scalar_indexer\u001b[0m\u001b[0;34m(\u001b[0m\u001b[0mk\u001b[0m\u001b[0;34m,\u001b[0m \u001b[0mkind\u001b[0m\u001b[0;34m=\u001b[0m\u001b[0;34m\"getitem\"\u001b[0m\u001b[0;34m)\u001b[0m\u001b[0;34m\u001b[0m\u001b[0;34m\u001b[0m\u001b[0m\n\u001b[1;32m   4404\u001b[0m         \u001b[0;32mtry\u001b[0m\u001b[0;34m:\u001b[0m\u001b[0;34m\u001b[0m\u001b[0;34m\u001b[0m\u001b[0m\n\u001b[0;32m-> 4405\u001b[0;31m             \u001b[0;32mreturn\u001b[0m \u001b[0mself\u001b[0m\u001b[0;34m.\u001b[0m\u001b[0m_engine\u001b[0m\u001b[0;34m.\u001b[0m\u001b[0mget_value\u001b[0m\u001b[0;34m(\u001b[0m\u001b[0ms\u001b[0m\u001b[0;34m,\u001b[0m \u001b[0mk\u001b[0m\u001b[0;34m,\u001b[0m \u001b[0mtz\u001b[0m\u001b[0;34m=\u001b[0m\u001b[0mgetattr\u001b[0m\u001b[0;34m(\u001b[0m\u001b[0mseries\u001b[0m\u001b[0;34m.\u001b[0m\u001b[0mdtype\u001b[0m\u001b[0;34m,\u001b[0m \u001b[0;34m\"tz\"\u001b[0m\u001b[0;34m,\u001b[0m \u001b[0;32mNone\u001b[0m\u001b[0;34m)\u001b[0m\u001b[0;34m)\u001b[0m\u001b[0;34m\u001b[0m\u001b[0;34m\u001b[0m\u001b[0m\n\u001b[0m\u001b[1;32m   4406\u001b[0m         \u001b[0;32mexcept\u001b[0m \u001b[0mKeyError\u001b[0m \u001b[0;32mas\u001b[0m \u001b[0me1\u001b[0m\u001b[0;34m:\u001b[0m\u001b[0;34m\u001b[0m\u001b[0;34m\u001b[0m\u001b[0m\n\u001b[1;32m   4407\u001b[0m             \u001b[0;32mif\u001b[0m \u001b[0mlen\u001b[0m\u001b[0;34m(\u001b[0m\u001b[0mself\u001b[0m\u001b[0;34m)\u001b[0m \u001b[0;34m>\u001b[0m \u001b[0;36m0\u001b[0m \u001b[0;32mand\u001b[0m \u001b[0;34m(\u001b[0m\u001b[0mself\u001b[0m\u001b[0;34m.\u001b[0m\u001b[0mholds_integer\u001b[0m\u001b[0;34m(\u001b[0m\u001b[0;34m)\u001b[0m \u001b[0;32mor\u001b[0m \u001b[0mself\u001b[0m\u001b[0;34m.\u001b[0m\u001b[0mis_boolean\u001b[0m\u001b[0;34m(\u001b[0m\u001b[0;34m)\u001b[0m\u001b[0;34m)\u001b[0m\u001b[0;34m:\u001b[0m\u001b[0;34m\u001b[0m\u001b[0;34m\u001b[0m\u001b[0m\n",
      "\u001b[0;31mKeyboardInterrupt\u001b[0m: "
     ]
    },
    {
     "data": {
      "image/png": "[encoded data removed]",
      "text/plain": [
       "<Figure size 432x288 with 1 Axes>"
      ]
     },
     "metadata": {
      "needs_background": "light"
     },
     "output_type": "display_data"
    }
   ],
   "source": [
    "points = pd.DataFrame({'t': [0,3,5,7.62,8.08,8.69,9.22,11.73,11.85,20,30,40], 'd': [1,1.01,0.99,1,0.906,0.706,0.52,0.346,0.247,0.153,0.153,0.153]})\n",
    "K=1\n",
    "pre = 1\n",
    "\n",
    "def convert_time2diamater(t1,y1,value):\n",
    "        diff = np.zeros(len(t1))\n",
    "        for i in range(len(t1)):\n",
    "                diff[i] = pd.Series((t1[i] - value)**2)\n",
    "    \n",
    "        for i in range(len(t1)):\n",
    "            if diff[i] == min(diff):\n",
    "                out = i\n",
    "        return y1[out]\n",
    "\n",
    "def run(tau,final,delay,give=False):\n",
    "    num = [K]\n",
    "    den = [tau,1]\n",
    "    sys1 = signal.TransferFunction(num,den)\n",
    "    t1,y1 = signal.step(sys1, T=np.linspace(0,45,100))\n",
    "    \n",
    "    y1 = pre-(pre-final)*y1\n",
    "    t1 = pd.Series(t1 +delay)\n",
    "    pre_t = pd.Series(np.linspace(0,delay,100))\n",
    "    t1 = pre_t.append(t1,ignore_index=True)#\n",
    "    # t1 = pd.Series(t1)\n",
    "\n",
    "    y1 = pd.Series(y1)\n",
    "    pre_y = pd.Series(np.zeros(100) +1)\n",
    "    y1 = pre_y.append(y1, ignore_index=True)\n",
    "    \n",
    "    \n",
    "    diff = np.zeros(len(points))\n",
    "    for i in range(len(points)):\n",
    "        diff[i] = (points.loc[i,'d']-convert_time2diamater(t1,y1,points.loc[i,'t']))**2\n",
    "    LS_sum = sum(diff)\n",
    "    \n",
    "    if not give:\n",
    "        return LS_sum\n",
    "    else:\n",
    "        return t1,y1\n",
    "\n",
    "delays = np.arange(7.55,7.8,0.01)\n",
    "taus = np.arange(2.2,2.4,0.01)\n",
    "finals = np.arange(0.145,0.16,0.01)\n",
    "\n",
    "LS_outs = np.zeros(len(delays)*len(taus)*len(finals))\n",
    "index = {}\n",
    "counter=0\n",
    "for delay in tqdm(delays):\n",
    "    for tau in taus:\n",
    "        for final in finals:\n",
    "            LS_outs[counter] = run(tau,final,delay)\n",
    "            index[counter] = [delay,tau,final]\n",
    "            counter = counter + 1"
   ]
  },
  {
   "cell_type": "code",
   "execution_count": 36,
   "metadata": {},
   "outputs": [
    {
     "name": "stdout",
     "output_type": "stream",
     "text": [
      "57\n",
      "Optimised value of tau:\n",
      "2.2799999999999985\n",
      "Optimised value of delay:\n",
      "7.56\n",
      "Optimised value of final:\n",
      "0.155\n",
      "LS for best value\n",
      "0.00910034670307066\n",
      "97\n",
      "Optimised value of tau:\n",
      "2.2799999999999985\n",
      "Optimised value of delay:\n",
      "7.569999999999999\n",
      "Optimised value of final:\n",
      "0.155\n",
      "LS for best value\n",
      "0.00910034670307066\n",
      "137\n",
      "Optimised value of tau:\n",
      "2.2799999999999985\n",
      "Optimised value of delay:\n",
      "7.579999999999999\n",
      "Optimised value of final:\n",
      "0.155\n",
      "LS for best value\n",
      "0.00910034670307066\n",
      "177\n",
      "Optimised value of tau:\n",
      "2.2799999999999985\n",
      "Optimised value of delay:\n",
      "7.589999999999999\n",
      "Optimised value of final:\n",
      "0.155\n",
      "LS for best value\n",
      "0.00910034670307066\n",
      "217\n",
      "Optimised value of tau:\n",
      "2.2799999999999985\n",
      "Optimised value of delay:\n",
      "7.599999999999999\n",
      "Optimised value of final:\n",
      "0.155\n",
      "LS for best value\n",
      "0.00910034670307066\n",
      "257\n",
      "Optimised value of tau:\n",
      "2.2799999999999985\n",
      "Optimised value of delay:\n",
      "7.6099999999999985\n",
      "Optimised value of final:\n",
      "0.155\n",
      "LS for best value\n",
      "0.00910034670307066\n",
      "297\n",
      "Optimised value of tau:\n",
      "2.2799999999999985\n",
      "Optimised value of delay:\n",
      "7.619999999999998\n",
      "Optimised value of final:\n",
      "0.155\n",
      "LS for best value\n",
      "0.00910034670307066\n"
     ]
    }
   ],
   "source": [
    "for i in range(len(LS_outs)):\n",
    "    if LS_outs[i] == min(LS_outs):\n",
    "        print(i)\n",
    "        print(\"Optimised value of tau:\")\n",
    "        print(index[i][1])\n",
    "        opt_tau = index[i][1]\n",
    "        print(\"Optimised value of delay:\")\n",
    "        opt_delay = index[i][0]\n",
    "        print(index[i][0])\n",
    "        print(\"Optimised value of final:\")\n",
    "        opt_final = index[i][2]\n",
    "        print(index[i][2])\n",
    "        \n",
    "        print('LS for best value')\n",
    "        print(LS_outs[i])\n",
    "\n"
   ]
  },
  {
   "cell_type": "code",
   "execution_count": 44,
   "metadata": {},
   "outputs": [
    {
     "data": {
      "image/png": "[encoded data removed]",
      "text/plain": [
       "<Figure size 432x288 with 1 Axes>"
      ]
     },
     "metadata": {
      "needs_background": "light"
     },
     "output_type": "display_data"
    }
   ],
   "source": [
    "opt_tau = 2.28\n",
    "opt_delay = 7.68\n",
    "opt_final = 0.155\n",
    "\n",
    "t1,y1 = run(opt_tau,opt_final,opt_delay,give=True)\n",
    "plt.figure(1)\n",
    "plt.plot(t1,y1,'b--',linewidth=2,label='Transfer Fcn')\n",
    "plt.scatter(points['t'],points['d'], color='r')\n",
    "plt.xlabel('Time')\n",
    "plt.ylabel('Response (y)')\n",
    "plt.ylim(0)\n",
    "plt.xlim(0)\n",
    "plt.legend(loc='best')\n",
    "plt.savefig(\"Pericyte response LS fit Ischaemia\")\n",
    "plt.show()"
   ]
  },
  {
   "cell_type": "code",
   "execution_count": 45,
   "metadata": {},
   "outputs": [],
   "source": [
    "df = pd.DataFrame({'t1':t1,'y1':y1})\n",
    "df.to_csv('response.csv',index=False)\n",
    "points.to_csv('points.csv',index=False)"
   ]
  },
  {
   "cell_type": "code",
   "execution_count": null,
   "metadata": {},
   "outputs": [],
   "source": []
  },
  {
   "cell_type": "code",
   "execution_count": null,
   "metadata": {},
   "outputs": [],
   "source": []
  },
  {
   "cell_type": "code",
   "execution_count": 13,
   "metadata": {},
   "outputs": [
    {
     "data": {
      "image/png": "[encoded data removed]",
      "text/plain": [
       "<Figure size 432x288 with 1 Axes>"
      ]
     },
     "metadata": {
      "needs_background": "light"
     },
     "output_type": "display_data"
    }
   ],
   "source": [
    "num = [1]\n",
    "den = [2.29,1]\n",
    "sys1 = signal.TransferFunction(num,den)\n",
    "t_TF,y_TF = signal.step(sys1, T=np.linspace(0,45,100))\n",
    "plt.plot(t_TF,y_TF)\n",
    "plt.plot((t_TF+7.62),-y_TF)\n",
    "plt.plot((t_TF+7.62),-(1-0.153)*y_TF)\n",
    "plt.plot((t_TF+7.62),1-(1-0.153)*y_TF)\n",
    "\n",
    "y1 = pre-(pre-final)*y_TF\n",
    "t1 = pd.Series(t_TF +delay)\n",
    "pre_t = pd.Series(np.linspace(0,delay,100))\n",
    "t1 = pre_t.append(t1,ignore_index=True)#\n",
    "\n",
    "y1 = pd.Series(y1)\n",
    "pre_y = pd.Series(np.zeros(100) +1)\n",
    "y1 = pre_y.append(y1, ignore_index=True)\n",
    "\n",
    "# plt.plot(t1,y1)\n"
   ]
  },
  {
   "cell_type": "code",
   "execution_count": null,
   "metadata": {},
   "outputs": [],
   "source": []
  }
 ],
 "metadata": {
  "kernelspec": {
   "display_name": "Python 3",
   "language": "python",
   "name": "python3"
  },
  "language_info": {
   "codemirror_mode": {
    "name": "ipython",
    "version": 3
   },
   "file_extension": ".py",
   "mimetype": "text/x-python",
   "name": "python",
   "nbconvert_exporter": "python",
   "pygments_lexer": "ipython3",
   "version": "3.7.4"
  }
 },
 "nbformat": 4,
 "nbformat_minor": 4
}
